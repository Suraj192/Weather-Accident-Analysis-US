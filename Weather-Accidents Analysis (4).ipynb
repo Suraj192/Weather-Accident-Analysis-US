{
 "cells": [
  {
   "cell_type": "markdown",
   "metadata": {},
   "source": [
    "**<p style=\"text-align: center;\"><span style=\"background-color: #FFFF00\"><font size= \"8\" color = \"red\">Weather conditions and Accidents</font></span></p>**"
   ]
  },
  {
   "cell_type": "markdown",
   "metadata": {
    "ExecuteTime": {
     "end_time": "2020-12-17T14:08:29.595870Z",
     "start_time": "2020-12-17T14:08:29.588489Z"
    }
   },
   "source": [
    "<div style='background-color:navy; color:white; padding:20px'>\n",
    "</div>"
   ]
  },
  {
   "cell_type": "markdown",
   "metadata": {},
   "source": [
    "<img src=\"https://mklstatic01.azureedge.net/~/media/specialty/2018-web/defensive-driving/dangerous-road-conditions.jpg?h=400&w=600&rev=5c1c7bcbafdf4e99987eed815602b635&hash=6F0ADD8C0CB16036F1031BB94B830C12\" alt=\"Image\"\n",
    "        title=\"Severe weather condition\" width=500 />"
   ]
  },
  {
   "cell_type": "markdown",
   "metadata": {},
   "source": [
    "<div style='background-color:navy; color:white; padding:20px'>\n",
    "</div>"
   ]
  },
  {
   "cell_type": "markdown",
   "metadata": {},
   "source": [
    "# Purpose of Analysis\n",
    "Primary purpose of analysing this dataset is to find the relation between the weather condition and accidents. This analysis is based on the US datasets, centered within the states of US. We believe that this topic of analysis, will gives us clear view regarding the following questions.\n",
    "1. To which extent the weather conditions much contributes in the accidents.\n",
    "2. Which weather is considered to be good or bad regarding the accidents.\n",
    "3. To understand anykind of trend between the weather attributes, time and accident.\n",
    "4. Relation between the Severity Level of accident and Weather factors.\n"
   ]
  },
  {
   "cell_type": "markdown",
   "metadata": {},
   "source": [
    "# Description of the Attributes\n",
    "For this analysis we are only taking the attributes of accidents which is related to the weather. The attributes mainly concerned with the temperature, humidity, pressure, visibility, wind direction and weather condition. Below dataframe is designed to give basic definition of the selected attributes. "
   ]
  },
  {
   "cell_type": "code",
   "execution_count": 1,
   "metadata": {
    "ExecuteTime": {
     "end_time": "2020-12-18T07:29:47.206498Z",
     "start_time": "2020-12-18T07:29:46.201503Z"
    }
   },
   "outputs": [],
   "source": [
    "import pandas as pd\n",
    "pd.set_option(\"max_colwidth\", None)\n",
    "attributes = pd.read_excel(\"/Users/Käyttäjä/Column_info.xlsx\", index_col=\"#\").iloc[:,:2]\n",
    "attributes = attributes.loc[[1,4,5,7,8,17,18,24,25,26,27,28,29,30,31,32],:]\n",
    "attributes.reset_index(level=0,inplace=True, drop=True)"
   ]
  },
  {
   "cell_type": "code",
   "execution_count": 2,
   "metadata": {
    "ExecuteTime": {
     "end_time": "2020-12-18T07:29:47.238504Z",
     "start_time": "2020-12-18T07:29:47.209500Z"
    }
   },
   "outputs": [
    {
     "data": {
      "text/html": [
       "<div>\n",
       "<style scoped>\n",
       "    .dataframe tbody tr th:only-of-type {\n",
       "        vertical-align: middle;\n",
       "    }\n",
       "\n",
       "    .dataframe tbody tr th {\n",
       "        vertical-align: top;\n",
       "    }\n",
       "\n",
       "    .dataframe thead th {\n",
       "        text-align: right;\n",
       "    }\n",
       "</style>\n",
       "<table border=\"1\" class=\"dataframe\">\n",
       "  <thead>\n",
       "    <tr style=\"text-align: right;\">\n",
       "      <th></th>\n",
       "      <th>Attribute</th>\n",
       "      <th>Description</th>\n",
       "    </tr>\n",
       "  </thead>\n",
       "  <tbody>\n",
       "    <tr>\n",
       "      <th>0</th>\n",
       "      <td>ID</td>\n",
       "      <td>This is a unique identifier of the accident record.</td>\n",
       "    </tr>\n",
       "    <tr>\n",
       "      <th>1</th>\n",
       "      <td>Severity</td>\n",
       "      <td>Shows the severity of the accident, a number between 1 and 4, where 1 indicates the least impact on traffic (i.e., short delay as a result of the accident) and 4 indicates a significant impact on traffic (i.e., long delay).</td>\n",
       "    </tr>\n",
       "    <tr>\n",
       "      <th>2</th>\n",
       "      <td>Start_Time</td>\n",
       "      <td>Shows start time of the accident in local time zone.</td>\n",
       "    </tr>\n",
       "    <tr>\n",
       "      <th>3</th>\n",
       "      <td>Start_Lat</td>\n",
       "      <td>Shows latitude in GPS coordinate of the start point.</td>\n",
       "    </tr>\n",
       "    <tr>\n",
       "      <th>4</th>\n",
       "      <td>Start_Lng</td>\n",
       "      <td>Shows longitude in GPS coordinate of the start point.</td>\n",
       "    </tr>\n",
       "    <tr>\n",
       "      <th>5</th>\n",
       "      <td>County</td>\n",
       "      <td>Shows the county in address field.</td>\n",
       "    </tr>\n",
       "    <tr>\n",
       "      <th>6</th>\n",
       "      <td>State</td>\n",
       "      <td>Shows the state in address field.</td>\n",
       "    </tr>\n",
       "    <tr>\n",
       "      <th>7</th>\n",
       "      <td>Temperature(F)</td>\n",
       "      <td>Shows the temperature (in Fahrenheit).</td>\n",
       "    </tr>\n",
       "    <tr>\n",
       "      <th>8</th>\n",
       "      <td>Wind_Chill(F)</td>\n",
       "      <td>Shows the wind chill (in Fahrenheit).</td>\n",
       "    </tr>\n",
       "    <tr>\n",
       "      <th>9</th>\n",
       "      <td>Humidity(%)</td>\n",
       "      <td>Shows the humidity (in percentage).</td>\n",
       "    </tr>\n",
       "    <tr>\n",
       "      <th>10</th>\n",
       "      <td>Pressure(in)</td>\n",
       "      <td>Shows the air pressure (in inches).</td>\n",
       "    </tr>\n",
       "    <tr>\n",
       "      <th>11</th>\n",
       "      <td>Visibility(mi)</td>\n",
       "      <td>Shows visibility (in miles).</td>\n",
       "    </tr>\n",
       "    <tr>\n",
       "      <th>12</th>\n",
       "      <td>Wind_Direction</td>\n",
       "      <td>Shows wind direction.</td>\n",
       "    </tr>\n",
       "    <tr>\n",
       "      <th>13</th>\n",
       "      <td>Wind_Speed(mph)</td>\n",
       "      <td>Shows wind speed (in miles per hour).</td>\n",
       "    </tr>\n",
       "    <tr>\n",
       "      <th>14</th>\n",
       "      <td>Precipitation(in)</td>\n",
       "      <td>Shows precipitation amount in inches, if there is any.</td>\n",
       "    </tr>\n",
       "    <tr>\n",
       "      <th>15</th>\n",
       "      <td>Weather_Condition</td>\n",
       "      <td>Shows the weather condition (rain, snow, thunderstorm, fog, etc.)</td>\n",
       "    </tr>\n",
       "  </tbody>\n",
       "</table>\n",
       "</div>"
      ],
      "text/plain": [
       "            Attribute  \\\n",
       "0                  ID   \n",
       "1            Severity   \n",
       "2          Start_Time   \n",
       "3           Start_Lat   \n",
       "4           Start_Lng   \n",
       "5              County   \n",
       "6               State   \n",
       "7      Temperature(F)   \n",
       "8       Wind_Chill(F)   \n",
       "9         Humidity(%)   \n",
       "10       Pressure(in)   \n",
       "11     Visibility(mi)   \n",
       "12     Wind_Direction   \n",
       "13    Wind_Speed(mph)   \n",
       "14  Precipitation(in)   \n",
       "15  Weather_Condition   \n",
       "\n",
       "                                                                                                                                                                                                                        Description  \n",
       "0                                                                                                                                                                               This is a unique identifier of the accident record.  \n",
       "1   Shows the severity of the accident, a number between 1 and 4, where 1 indicates the least impact on traffic (i.e., short delay as a result of the accident) and 4 indicates a significant impact on traffic (i.e., long delay).  \n",
       "2                                                                                                                                                                              Shows start time of the accident in local time zone.  \n",
       "3                                                                                                                                                                              Shows latitude in GPS coordinate of the start point.  \n",
       "4                                                                                                                                                                             Shows longitude in GPS coordinate of the start point.  \n",
       "5                                                                                                                                                                                                Shows the county in address field.  \n",
       "6                                                                                                                                                                                                 Shows the state in address field.  \n",
       "7                                                                                                                                                                                            Shows the temperature (in Fahrenheit).  \n",
       "8                                                                                                                                                                                             Shows the wind chill (in Fahrenheit).  \n",
       "9                                                                                                                                                                                               Shows the humidity (in percentage).  \n",
       "10                                                                                                                                                                                              Shows the air pressure (in inches).  \n",
       "11                                                                                                                                                                                                     Shows visibility (in miles).  \n",
       "12                                                                                                                                                                                                            Shows wind direction.  \n",
       "13                                                                                                                                                                                            Shows wind speed (in miles per hour).  \n",
       "14                                                                                                                                                                           Shows precipitation amount in inches, if there is any.  \n",
       "15                                                                                                                                                                Shows the weather condition (rain, snow, thunderstorm, fog, etc.)  "
      ]
     },
     "execution_count": 2,
     "metadata": {},
     "output_type": "execute_result"
    }
   ],
   "source": [
    "attributes"
   ]
  },
  {
   "cell_type": "markdown",
   "metadata": {},
   "source": [
    "# importing required library\n",
    "Our expectation to use following library for our analysis therefore importing it. "
   ]
  },
  {
   "cell_type": "code",
   "execution_count": 3,
   "metadata": {
    "ExecuteTime": {
     "end_time": "2020-12-18T07:29:50.003132Z",
     "start_time": "2020-12-18T07:29:47.240498Z"
    },
    "scrolled": true
   },
   "outputs": [
    {
     "data": {
      "text/html": [
       "        <script type=\"text/javascript\">\n",
       "        window.PlotlyConfig = {MathJaxConfig: 'local'};\n",
       "        if (window.MathJax) {MathJax.Hub.Config({SVG: {font: \"STIX-Web\"}});}\n",
       "        if (typeof require !== 'undefined') {\n",
       "        require.undef(\"plotly\");\n",
       "        requirejs.config({\n",
       "            paths: {\n",
       "                'plotly': ['https://cdn.plot.ly/plotly-latest.min']\n",
       "            }\n",
       "        });\n",
       "        require(['plotly'], function(Plotly) {\n",
       "            window._Plotly = Plotly;\n",
       "        });\n",
       "        }\n",
       "        </script>\n",
       "        "
      ]
     },
     "metadata": {},
     "output_type": "display_data"
    },
    {
     "data": {
      "text/html": [
       "        <script type=\"text/javascript\">\n",
       "        window.PlotlyConfig = {MathJaxConfig: 'local'};\n",
       "        if (window.MathJax) {MathJax.Hub.Config({SVG: {font: \"STIX-Web\"}});}\n",
       "        if (typeof require !== 'undefined') {\n",
       "        require.undef(\"plotly\");\n",
       "        requirejs.config({\n",
       "            paths: {\n",
       "                'plotly': ['https://cdn.plot.ly/plotly-latest.min']\n",
       "            }\n",
       "        });\n",
       "        require(['plotly'], function(Plotly) {\n",
       "            window._Plotly = Plotly;\n",
       "        });\n",
       "        }\n",
       "        </script>\n",
       "        "
      ]
     },
     "metadata": {},
     "output_type": "display_data"
    }
   ],
   "source": [
    "import os\n",
    "import dask.array as da\n",
    "import dask.dataframe as dd\n",
    "from dask import compute\n",
    "import numpy as np\n",
    "from matplotlib import pyplot as plt\n",
    "import dask\n",
    "#from dask.distributed import Client\n",
    "#client=Client() # this set up 1 worker per core\n",
    "#client.cluster\n",
    "import plotly.graph_objects as go\n",
    "import chart_studio.plotly as py\n",
    "import cufflinks as cf\n",
    "from plotly.offline import iplot, init_notebook_mode\n",
    "\n",
    "%matplotlib inline\n",
    "init_notebook_mode(connected=True)\n",
    "cf.go_offline(connected=True)\n",
    "\n",
    "cf.set_config_file(theme=\"pearl\")"
   ]
  },
  {
   "cell_type": "markdown",
   "metadata": {},
   "source": [
    "# Importing Data"
   ]
  },
  {
   "cell_type": "code",
   "execution_count": 4,
   "metadata": {
    "ExecuteTime": {
     "end_time": "2020-12-18T07:29:50.050128Z",
     "start_time": "2020-12-18T07:29:50.006130Z"
    }
   },
   "outputs": [],
   "source": [
    "data = dd.read_csv(\"clean.csv\",parse_dates = [\"Start_Time\", \"End_Time\"])"
   ]
  },
  {
   "cell_type": "code",
   "execution_count": 5,
   "metadata": {
    "ExecuteTime": {
     "end_time": "2020-12-18T07:30:09.536541Z",
     "start_time": "2020-12-18T07:29:50.053131Z"
    }
   },
   "outputs": [],
   "source": [
    "data = data.set_index(\"ID\")"
   ]
  },
  {
   "cell_type": "code",
   "execution_count": 6,
   "metadata": {
    "ExecuteTime": {
     "end_time": "2020-12-18T07:30:11.761294Z",
     "start_time": "2020-12-18T07:30:09.538540Z"
    }
   },
   "outputs": [],
   "source": [
    "head = data.head()\n",
    "tail = data.tail()"
   ]
  },
  {
   "cell_type": "markdown",
   "metadata": {},
   "source": [
    "# Gathering Basic Information"
   ]
  },
  {
   "cell_type": "code",
   "execution_count": 7,
   "metadata": {
    "ExecuteTime": {
     "end_time": "2020-12-18T07:30:11.803294Z",
     "start_time": "2020-12-18T07:30:11.763296Z"
    }
   },
   "outputs": [
    {
     "data": {
      "text/html": [
       "<div>\n",
       "<style scoped>\n",
       "    .dataframe tbody tr th:only-of-type {\n",
       "        vertical-align: middle;\n",
       "    }\n",
       "\n",
       "    .dataframe tbody tr th {\n",
       "        vertical-align: top;\n",
       "    }\n",
       "\n",
       "    .dataframe thead th {\n",
       "        text-align: right;\n",
       "    }\n",
       "</style>\n",
       "<table border=\"1\" class=\"dataframe\">\n",
       "  <thead>\n",
       "    <tr style=\"text-align: right;\">\n",
       "      <th></th>\n",
       "      <th>Severity</th>\n",
       "      <th>Start_Time</th>\n",
       "      <th>End_Time</th>\n",
       "      <th>Start_Lat</th>\n",
       "      <th>Start_Lng</th>\n",
       "      <th>City</th>\n",
       "      <th>County</th>\n",
       "      <th>State</th>\n",
       "      <th>Temperature(F)</th>\n",
       "      <th>Humidity(%)</th>\n",
       "      <th>...</th>\n",
       "      <th>Roundabout</th>\n",
       "      <th>Station</th>\n",
       "      <th>Stop</th>\n",
       "      <th>Traffic_Calming</th>\n",
       "      <th>Traffic_Signal</th>\n",
       "      <th>Turning_Loop</th>\n",
       "      <th>Sunrise_Sunset</th>\n",
       "      <th>Civil_Twilight</th>\n",
       "      <th>Nautical_Twilight</th>\n",
       "      <th>Astronomical_Twilight</th>\n",
       "    </tr>\n",
       "    <tr>\n",
       "      <th>ID</th>\n",
       "      <th></th>\n",
       "      <th></th>\n",
       "      <th></th>\n",
       "      <th></th>\n",
       "      <th></th>\n",
       "      <th></th>\n",
       "      <th></th>\n",
       "      <th></th>\n",
       "      <th></th>\n",
       "      <th></th>\n",
       "      <th></th>\n",
       "      <th></th>\n",
       "      <th></th>\n",
       "      <th></th>\n",
       "      <th></th>\n",
       "      <th></th>\n",
       "      <th></th>\n",
       "      <th></th>\n",
       "      <th></th>\n",
       "      <th></th>\n",
       "      <th></th>\n",
       "    </tr>\n",
       "  </thead>\n",
       "  <tbody>\n",
       "    <tr>\n",
       "      <th>A-1</th>\n",
       "      <td>3</td>\n",
       "      <td>2016-02-08 05:46:00</td>\n",
       "      <td>2016-02-08 11:00:00</td>\n",
       "      <td>39.865147</td>\n",
       "      <td>-84.058723</td>\n",
       "      <td>Dayton</td>\n",
       "      <td>Montgomery</td>\n",
       "      <td>OH</td>\n",
       "      <td>36.9</td>\n",
       "      <td>91.0</td>\n",
       "      <td>...</td>\n",
       "      <td>False</td>\n",
       "      <td>False</td>\n",
       "      <td>False</td>\n",
       "      <td>False</td>\n",
       "      <td>False</td>\n",
       "      <td>False</td>\n",
       "      <td>Night</td>\n",
       "      <td>Night</td>\n",
       "      <td>Night</td>\n",
       "      <td>Night</td>\n",
       "    </tr>\n",
       "    <tr>\n",
       "      <th>A-10</th>\n",
       "      <td>3</td>\n",
       "      <td>2016-02-08 08:10:04</td>\n",
       "      <td>2016-02-08 08:40:04</td>\n",
       "      <td>40.100590</td>\n",
       "      <td>-82.925194</td>\n",
       "      <td>Westerville</td>\n",
       "      <td>Franklin</td>\n",
       "      <td>OH</td>\n",
       "      <td>37.4</td>\n",
       "      <td>100.0</td>\n",
       "      <td>...</td>\n",
       "      <td>False</td>\n",
       "      <td>False</td>\n",
       "      <td>False</td>\n",
       "      <td>False</td>\n",
       "      <td>False</td>\n",
       "      <td>False</td>\n",
       "      <td>Day</td>\n",
       "      <td>Day</td>\n",
       "      <td>Day</td>\n",
       "      <td>Day</td>\n",
       "    </tr>\n",
       "    <tr>\n",
       "      <th>A-100</th>\n",
       "      <td>2</td>\n",
       "      <td>2016-02-11 08:13:24</td>\n",
       "      <td>2016-02-11 08:43:24</td>\n",
       "      <td>39.749916</td>\n",
       "      <td>-84.139359</td>\n",
       "      <td>Dayton</td>\n",
       "      <td>Montgomery</td>\n",
       "      <td>OH</td>\n",
       "      <td>7.5</td>\n",
       "      <td>87.0</td>\n",
       "      <td>...</td>\n",
       "      <td>False</td>\n",
       "      <td>False</td>\n",
       "      <td>False</td>\n",
       "      <td>False</td>\n",
       "      <td>False</td>\n",
       "      <td>False</td>\n",
       "      <td>Day</td>\n",
       "      <td>Day</td>\n",
       "      <td>Day</td>\n",
       "      <td>Day</td>\n",
       "    </tr>\n",
       "    <tr>\n",
       "      <th>A-1000</th>\n",
       "      <td>2</td>\n",
       "      <td>2016-06-23 10:31:12</td>\n",
       "      <td>2016-06-23 11:01:12</td>\n",
       "      <td>38.653061</td>\n",
       "      <td>-121.070541</td>\n",
       "      <td>El Dorado Hills</td>\n",
       "      <td>El Dorado</td>\n",
       "      <td>CA</td>\n",
       "      <td>77.0</td>\n",
       "      <td>34.0</td>\n",
       "      <td>...</td>\n",
       "      <td>False</td>\n",
       "      <td>False</td>\n",
       "      <td>False</td>\n",
       "      <td>False</td>\n",
       "      <td>False</td>\n",
       "      <td>False</td>\n",
       "      <td>Day</td>\n",
       "      <td>Day</td>\n",
       "      <td>Day</td>\n",
       "      <td>Day</td>\n",
       "    </tr>\n",
       "    <tr>\n",
       "      <th>A-10000</th>\n",
       "      <td>3</td>\n",
       "      <td>2017-01-06 16:22:04</td>\n",
       "      <td>2017-01-06 16:51:29</td>\n",
       "      <td>38.574406</td>\n",
       "      <td>-121.577354</td>\n",
       "      <td>West Sacramento</td>\n",
       "      <td>Yolo</td>\n",
       "      <td>CA</td>\n",
       "      <td>46.0</td>\n",
       "      <td>71.0</td>\n",
       "      <td>...</td>\n",
       "      <td>False</td>\n",
       "      <td>False</td>\n",
       "      <td>False</td>\n",
       "      <td>False</td>\n",
       "      <td>False</td>\n",
       "      <td>False</td>\n",
       "      <td>Day</td>\n",
       "      <td>Day</td>\n",
       "      <td>Day</td>\n",
       "      <td>Day</td>\n",
       "    </tr>\n",
       "  </tbody>\n",
       "</table>\n",
       "<p>5 rows × 31 columns</p>\n",
       "</div>"
      ],
      "text/plain": [
       "         Severity          Start_Time            End_Time  Start_Lat  \\\n",
       "ID                                                                     \n",
       "A-1             3 2016-02-08 05:46:00 2016-02-08 11:00:00  39.865147   \n",
       "A-10            3 2016-02-08 08:10:04 2016-02-08 08:40:04  40.100590   \n",
       "A-100           2 2016-02-11 08:13:24 2016-02-11 08:43:24  39.749916   \n",
       "A-1000          2 2016-06-23 10:31:12 2016-06-23 11:01:12  38.653061   \n",
       "A-10000         3 2017-01-06 16:22:04 2017-01-06 16:51:29  38.574406   \n",
       "\n",
       "          Start_Lng             City      County State  Temperature(F)  \\\n",
       "ID                                                                       \n",
       "A-1      -84.058723           Dayton  Montgomery    OH            36.9   \n",
       "A-10     -82.925194      Westerville    Franklin    OH            37.4   \n",
       "A-100    -84.139359           Dayton  Montgomery    OH             7.5   \n",
       "A-1000  -121.070541  El Dorado Hills   El Dorado    CA            77.0   \n",
       "A-10000 -121.577354  West Sacramento        Yolo    CA            46.0   \n",
       "\n",
       "         Humidity(%)  ...  Roundabout  Station   Stop Traffic_Calming  \\\n",
       "ID                    ...                                               \n",
       "A-1             91.0  ...       False    False  False           False   \n",
       "A-10           100.0  ...       False    False  False           False   \n",
       "A-100           87.0  ...       False    False  False           False   \n",
       "A-1000          34.0  ...       False    False  False           False   \n",
       "A-10000         71.0  ...       False    False  False           False   \n",
       "\n",
       "         Traffic_Signal  Turning_Loop  Sunrise_Sunset  Civil_Twilight  \\\n",
       "ID                                                                      \n",
       "A-1               False         False           Night           Night   \n",
       "A-10              False         False             Day             Day   \n",
       "A-100             False         False             Day             Day   \n",
       "A-1000            False         False             Day             Day   \n",
       "A-10000           False         False             Day             Day   \n",
       "\n",
       "         Nautical_Twilight  Astronomical_Twilight  \n",
       "ID                                                 \n",
       "A-1                  Night                  Night  \n",
       "A-10                   Day                    Day  \n",
       "A-100                  Day                    Day  \n",
       "A-1000                 Day                    Day  \n",
       "A-10000                Day                    Day  \n",
       "\n",
       "[5 rows x 31 columns]"
      ]
     },
     "execution_count": 7,
     "metadata": {},
     "output_type": "execute_result"
    }
   ],
   "source": [
    "head"
   ]
  },
  {
   "cell_type": "code",
   "execution_count": 8,
   "metadata": {
    "ExecuteTime": {
     "end_time": "2020-12-18T07:30:11.839295Z",
     "start_time": "2020-12-18T07:30:11.807300Z"
    }
   },
   "outputs": [
    {
     "data": {
      "text/html": [
       "<div>\n",
       "<style scoped>\n",
       "    .dataframe tbody tr th:only-of-type {\n",
       "        vertical-align: middle;\n",
       "    }\n",
       "\n",
       "    .dataframe tbody tr th {\n",
       "        vertical-align: top;\n",
       "    }\n",
       "\n",
       "    .dataframe thead th {\n",
       "        text-align: right;\n",
       "    }\n",
       "</style>\n",
       "<table border=\"1\" class=\"dataframe\">\n",
       "  <thead>\n",
       "    <tr style=\"text-align: right;\">\n",
       "      <th></th>\n",
       "      <th>Severity</th>\n",
       "      <th>Start_Time</th>\n",
       "      <th>End_Time</th>\n",
       "      <th>Start_Lat</th>\n",
       "      <th>Start_Lng</th>\n",
       "      <th>City</th>\n",
       "      <th>County</th>\n",
       "      <th>State</th>\n",
       "      <th>Temperature(F)</th>\n",
       "      <th>Humidity(%)</th>\n",
       "      <th>...</th>\n",
       "      <th>Roundabout</th>\n",
       "      <th>Station</th>\n",
       "      <th>Stop</th>\n",
       "      <th>Traffic_Calming</th>\n",
       "      <th>Traffic_Signal</th>\n",
       "      <th>Turning_Loop</th>\n",
       "      <th>Sunrise_Sunset</th>\n",
       "      <th>Civil_Twilight</th>\n",
       "      <th>Nautical_Twilight</th>\n",
       "      <th>Astronomical_Twilight</th>\n",
       "    </tr>\n",
       "    <tr>\n",
       "      <th>ID</th>\n",
       "      <th></th>\n",
       "      <th></th>\n",
       "      <th></th>\n",
       "      <th></th>\n",
       "      <th></th>\n",
       "      <th></th>\n",
       "      <th></th>\n",
       "      <th></th>\n",
       "      <th></th>\n",
       "      <th></th>\n",
       "      <th></th>\n",
       "      <th></th>\n",
       "      <th></th>\n",
       "      <th></th>\n",
       "      <th></th>\n",
       "      <th></th>\n",
       "      <th></th>\n",
       "      <th></th>\n",
       "      <th></th>\n",
       "      <th></th>\n",
       "      <th></th>\n",
       "    </tr>\n",
       "  </thead>\n",
       "  <tbody>\n",
       "    <tr>\n",
       "      <th>A-999995</th>\n",
       "      <td>2</td>\n",
       "      <td>2019-08-26 08:06:59</td>\n",
       "      <td>2019-08-26 09:07:22</td>\n",
       "      <td>36.045235</td>\n",
       "      <td>-86.658531</td>\n",
       "      <td>Antioch</td>\n",
       "      <td>Davidson</td>\n",
       "      <td>TN</td>\n",
       "      <td>70.0</td>\n",
       "      <td>90.0</td>\n",
       "      <td>...</td>\n",
       "      <td>False</td>\n",
       "      <td>False</td>\n",
       "      <td>False</td>\n",
       "      <td>False</td>\n",
       "      <td>False</td>\n",
       "      <td>False</td>\n",
       "      <td>Day</td>\n",
       "      <td>Day</td>\n",
       "      <td>Day</td>\n",
       "      <td>Day</td>\n",
       "    </tr>\n",
       "    <tr>\n",
       "      <th>A-999996</th>\n",
       "      <td>2</td>\n",
       "      <td>2019-08-26 08:15:38</td>\n",
       "      <td>2019-08-26 10:16:36</td>\n",
       "      <td>36.191734</td>\n",
       "      <td>-86.777664</td>\n",
       "      <td>Nashville</td>\n",
       "      <td>Davidson</td>\n",
       "      <td>TN</td>\n",
       "      <td>70.0</td>\n",
       "      <td>90.0</td>\n",
       "      <td>...</td>\n",
       "      <td>False</td>\n",
       "      <td>False</td>\n",
       "      <td>False</td>\n",
       "      <td>False</td>\n",
       "      <td>False</td>\n",
       "      <td>False</td>\n",
       "      <td>Day</td>\n",
       "      <td>Day</td>\n",
       "      <td>Day</td>\n",
       "      <td>Day</td>\n",
       "    </tr>\n",
       "    <tr>\n",
       "      <th>A-999997</th>\n",
       "      <td>2</td>\n",
       "      <td>2019-08-26 08:12:46</td>\n",
       "      <td>2019-08-26 09:12:34</td>\n",
       "      <td>36.276863</td>\n",
       "      <td>-86.799614</td>\n",
       "      <td>Whites Creek</td>\n",
       "      <td>Davidson</td>\n",
       "      <td>TN</td>\n",
       "      <td>70.0</td>\n",
       "      <td>90.0</td>\n",
       "      <td>...</td>\n",
       "      <td>False</td>\n",
       "      <td>False</td>\n",
       "      <td>False</td>\n",
       "      <td>False</td>\n",
       "      <td>False</td>\n",
       "      <td>False</td>\n",
       "      <td>Day</td>\n",
       "      <td>Day</td>\n",
       "      <td>Day</td>\n",
       "      <td>Day</td>\n",
       "    </tr>\n",
       "    <tr>\n",
       "      <th>A-999998</th>\n",
       "      <td>2</td>\n",
       "      <td>2019-08-26 08:16:10</td>\n",
       "      <td>2019-08-26 11:38:45</td>\n",
       "      <td>36.144661</td>\n",
       "      <td>-86.816490</td>\n",
       "      <td>Nashville</td>\n",
       "      <td>Davidson</td>\n",
       "      <td>TN</td>\n",
       "      <td>70.0</td>\n",
       "      <td>90.0</td>\n",
       "      <td>...</td>\n",
       "      <td>False</td>\n",
       "      <td>False</td>\n",
       "      <td>False</td>\n",
       "      <td>False</td>\n",
       "      <td>False</td>\n",
       "      <td>False</td>\n",
       "      <td>Day</td>\n",
       "      <td>Day</td>\n",
       "      <td>Day</td>\n",
       "      <td>Day</td>\n",
       "    </tr>\n",
       "    <tr>\n",
       "      <th>A-999999</th>\n",
       "      <td>3</td>\n",
       "      <td>2019-08-26 08:19:31</td>\n",
       "      <td>2019-08-26 10:04:33</td>\n",
       "      <td>34.657188</td>\n",
       "      <td>-86.799873</td>\n",
       "      <td>Madison</td>\n",
       "      <td>Limestone</td>\n",
       "      <td>AL</td>\n",
       "      <td>70.0</td>\n",
       "      <td>100.0</td>\n",
       "      <td>...</td>\n",
       "      <td>False</td>\n",
       "      <td>False</td>\n",
       "      <td>False</td>\n",
       "      <td>False</td>\n",
       "      <td>False</td>\n",
       "      <td>False</td>\n",
       "      <td>Day</td>\n",
       "      <td>Day</td>\n",
       "      <td>Day</td>\n",
       "      <td>Day</td>\n",
       "    </tr>\n",
       "  </tbody>\n",
       "</table>\n",
       "<p>5 rows × 31 columns</p>\n",
       "</div>"
      ],
      "text/plain": [
       "          Severity          Start_Time            End_Time  Start_Lat  \\\n",
       "ID                                                                      \n",
       "A-999995         2 2019-08-26 08:06:59 2019-08-26 09:07:22  36.045235   \n",
       "A-999996         2 2019-08-26 08:15:38 2019-08-26 10:16:36  36.191734   \n",
       "A-999997         2 2019-08-26 08:12:46 2019-08-26 09:12:34  36.276863   \n",
       "A-999998         2 2019-08-26 08:16:10 2019-08-26 11:38:45  36.144661   \n",
       "A-999999         3 2019-08-26 08:19:31 2019-08-26 10:04:33  34.657188   \n",
       "\n",
       "          Start_Lng          City     County State  Temperature(F)  \\\n",
       "ID                                                                   \n",
       "A-999995 -86.658531       Antioch   Davidson    TN            70.0   \n",
       "A-999996 -86.777664     Nashville   Davidson    TN            70.0   \n",
       "A-999997 -86.799614  Whites Creek   Davidson    TN            70.0   \n",
       "A-999998 -86.816490     Nashville   Davidson    TN            70.0   \n",
       "A-999999 -86.799873       Madison  Limestone    AL            70.0   \n",
       "\n",
       "          Humidity(%)  ...  Roundabout  Station   Stop Traffic_Calming  \\\n",
       "ID                     ...                                               \n",
       "A-999995         90.0  ...       False    False  False           False   \n",
       "A-999996         90.0  ...       False    False  False           False   \n",
       "A-999997         90.0  ...       False    False  False           False   \n",
       "A-999998         90.0  ...       False    False  False           False   \n",
       "A-999999        100.0  ...       False    False  False           False   \n",
       "\n",
       "          Traffic_Signal  Turning_Loop  Sunrise_Sunset  Civil_Twilight  \\\n",
       "ID                                                                       \n",
       "A-999995           False         False             Day             Day   \n",
       "A-999996           False         False             Day             Day   \n",
       "A-999997           False         False             Day             Day   \n",
       "A-999998           False         False             Day             Day   \n",
       "A-999999           False         False             Day             Day   \n",
       "\n",
       "          Nautical_Twilight  Astronomical_Twilight  \n",
       "ID                                                  \n",
       "A-999995                Day                    Day  \n",
       "A-999996                Day                    Day  \n",
       "A-999997                Day                    Day  \n",
       "A-999998                Day                    Day  \n",
       "A-999999                Day                    Day  \n",
       "\n",
       "[5 rows x 31 columns]"
      ]
     },
     "execution_count": 8,
     "metadata": {},
     "output_type": "execute_result"
    }
   ],
   "source": [
    "tail"
   ]
  },
  {
   "cell_type": "code",
   "execution_count": 9,
   "metadata": {
    "ExecuteTime": {
     "end_time": "2020-12-18T07:30:31.494685Z",
     "start_time": "2020-12-18T07:30:11.843297Z"
    }
   },
   "outputs": [
    {
     "name": "stdout",
     "output_type": "stream",
     "text": [
      "Wall time: 19.6 s\n"
     ]
    }
   ],
   "source": [
    "%%time\n",
    "data_shape = data.compute().shape"
   ]
  },
  {
   "cell_type": "code",
   "execution_count": 10,
   "metadata": {
    "ExecuteTime": {
     "end_time": "2020-12-18T07:30:31.500843Z",
     "start_time": "2020-12-18T07:30:31.496688Z"
    }
   },
   "outputs": [],
   "source": [
    "col_names = data.columns"
   ]
  },
  {
   "cell_type": "code",
   "execution_count": 11,
   "metadata": {
    "ExecuteTime": {
     "end_time": "2020-12-18T07:30:31.513249Z",
     "start_time": "2020-12-18T07:30:31.503757Z"
    }
   },
   "outputs": [
    {
     "data": {
      "text/plain": [
       "Index(['Severity', 'Start_Time', 'End_Time', 'Start_Lat', 'Start_Lng', 'City',\n",
       "       'County', 'State', 'Temperature(F)', 'Humidity(%)', 'Pressure(in)',\n",
       "       'Visibility(mi)', 'Wind_Direction', 'Weather_Condition', 'Amenity',\n",
       "       'Bump', 'Crossing', 'Give_Way', 'Junction', 'No_Exit', 'Railway',\n",
       "       'Roundabout', 'Station', 'Stop', 'Traffic_Calming', 'Traffic_Signal',\n",
       "       'Turning_Loop', 'Sunrise_Sunset', 'Civil_Twilight', 'Nautical_Twilight',\n",
       "       'Astronomical_Twilight'],\n",
       "      dtype='object')"
      ]
     },
     "execution_count": 11,
     "metadata": {},
     "output_type": "execute_result"
    }
   ],
   "source": [
    "col_names"
   ]
  },
  {
   "cell_type": "code",
   "execution_count": 12,
   "metadata": {
    "ExecuteTime": {
     "end_time": "2020-12-18T07:30:31.521247Z",
     "start_time": "2020-12-18T07:30:31.516251Z"
    }
   },
   "outputs": [],
   "source": [
    "required_cols = [\"Severity\", \"Start_Time\",\"Start_Lat\", \"Start_Lng\", \"County\", \"State\", 'Temperature(F)', \n",
    "                \"Humidity(%)\", \"Pressure(in)\", \"Visibility(mi)\", \"Wind_Direction\",\n",
    "                \"Weather_Condition\"]"
   ]
  },
  {
   "cell_type": "markdown",
   "metadata": {},
   "source": [
    "# Selection the Attributes"
   ]
  },
  {
   "cell_type": "code",
   "execution_count": 13,
   "metadata": {
    "ExecuteTime": {
     "end_time": "2020-12-18T07:30:31.531250Z",
     "start_time": "2020-12-18T07:30:31.525259Z"
    }
   },
   "outputs": [],
   "source": [
    "data1 = data[required_cols]"
   ]
  },
  {
   "cell_type": "markdown",
   "metadata": {},
   "source": [
    "## Inspecting Head and Tail of Selected Data"
   ]
  },
  {
   "cell_type": "code",
   "execution_count": 14,
   "metadata": {
    "ExecuteTime": {
     "end_time": "2020-12-18T07:30:33.801803Z",
     "start_time": "2020-12-18T07:30:31.534252Z"
    }
   },
   "outputs": [],
   "source": [
    "head_s = data1.head()\n",
    "tail_s = data1.tail()"
   ]
  },
  {
   "cell_type": "code",
   "execution_count": 15,
   "metadata": {
    "ExecuteTime": {
     "end_time": "2020-12-18T07:30:33.825811Z",
     "start_time": "2020-12-18T07:30:33.803808Z"
    }
   },
   "outputs": [
    {
     "data": {
      "text/html": [
       "<div>\n",
       "<style scoped>\n",
       "    .dataframe tbody tr th:only-of-type {\n",
       "        vertical-align: middle;\n",
       "    }\n",
       "\n",
       "    .dataframe tbody tr th {\n",
       "        vertical-align: top;\n",
       "    }\n",
       "\n",
       "    .dataframe thead th {\n",
       "        text-align: right;\n",
       "    }\n",
       "</style>\n",
       "<table border=\"1\" class=\"dataframe\">\n",
       "  <thead>\n",
       "    <tr style=\"text-align: right;\">\n",
       "      <th></th>\n",
       "      <th>Severity</th>\n",
       "      <th>Start_Time</th>\n",
       "      <th>Start_Lat</th>\n",
       "      <th>Start_Lng</th>\n",
       "      <th>County</th>\n",
       "      <th>State</th>\n",
       "      <th>Temperature(F)</th>\n",
       "      <th>Humidity(%)</th>\n",
       "      <th>Pressure(in)</th>\n",
       "      <th>Visibility(mi)</th>\n",
       "      <th>Wind_Direction</th>\n",
       "      <th>Weather_Condition</th>\n",
       "    </tr>\n",
       "    <tr>\n",
       "      <th>ID</th>\n",
       "      <th></th>\n",
       "      <th></th>\n",
       "      <th></th>\n",
       "      <th></th>\n",
       "      <th></th>\n",
       "      <th></th>\n",
       "      <th></th>\n",
       "      <th></th>\n",
       "      <th></th>\n",
       "      <th></th>\n",
       "      <th></th>\n",
       "      <th></th>\n",
       "    </tr>\n",
       "  </thead>\n",
       "  <tbody>\n",
       "    <tr>\n",
       "      <th>A-1</th>\n",
       "      <td>3</td>\n",
       "      <td>2016-02-08 05:46:00</td>\n",
       "      <td>39.865147</td>\n",
       "      <td>-84.058723</td>\n",
       "      <td>Montgomery</td>\n",
       "      <td>OH</td>\n",
       "      <td>36.9</td>\n",
       "      <td>91.0</td>\n",
       "      <td>29.68</td>\n",
       "      <td>10.0</td>\n",
       "      <td>Calm</td>\n",
       "      <td>Light Rain</td>\n",
       "    </tr>\n",
       "    <tr>\n",
       "      <th>A-10</th>\n",
       "      <td>3</td>\n",
       "      <td>2016-02-08 08:10:04</td>\n",
       "      <td>40.100590</td>\n",
       "      <td>-82.925194</td>\n",
       "      <td>Franklin</td>\n",
       "      <td>OH</td>\n",
       "      <td>37.4</td>\n",
       "      <td>100.0</td>\n",
       "      <td>29.62</td>\n",
       "      <td>3.0</td>\n",
       "      <td>SSW</td>\n",
       "      <td>Light Rain</td>\n",
       "    </tr>\n",
       "    <tr>\n",
       "      <th>A-100</th>\n",
       "      <td>2</td>\n",
       "      <td>2016-02-11 08:13:24</td>\n",
       "      <td>39.749916</td>\n",
       "      <td>-84.139359</td>\n",
       "      <td>Montgomery</td>\n",
       "      <td>OH</td>\n",
       "      <td>7.5</td>\n",
       "      <td>87.0</td>\n",
       "      <td>30.28</td>\n",
       "      <td>10.0</td>\n",
       "      <td>SSW</td>\n",
       "      <td>Scattered Clouds</td>\n",
       "    </tr>\n",
       "    <tr>\n",
       "      <th>A-1000</th>\n",
       "      <td>2</td>\n",
       "      <td>2016-06-23 10:31:12</td>\n",
       "      <td>38.653061</td>\n",
       "      <td>-121.070541</td>\n",
       "      <td>El Dorado</td>\n",
       "      <td>CA</td>\n",
       "      <td>77.0</td>\n",
       "      <td>34.0</td>\n",
       "      <td>30.02</td>\n",
       "      <td>10.0</td>\n",
       "      <td>SW</td>\n",
       "      <td>Clear</td>\n",
       "    </tr>\n",
       "    <tr>\n",
       "      <th>A-10000</th>\n",
       "      <td>3</td>\n",
       "      <td>2017-01-06 16:22:04</td>\n",
       "      <td>38.574406</td>\n",
       "      <td>-121.577354</td>\n",
       "      <td>Yolo</td>\n",
       "      <td>CA</td>\n",
       "      <td>46.0</td>\n",
       "      <td>71.0</td>\n",
       "      <td>30.09</td>\n",
       "      <td>10.0</td>\n",
       "      <td>NW</td>\n",
       "      <td>Clear</td>\n",
       "    </tr>\n",
       "  </tbody>\n",
       "</table>\n",
       "</div>"
      ],
      "text/plain": [
       "         Severity          Start_Time  Start_Lat   Start_Lng      County  \\\n",
       "ID                                                                         \n",
       "A-1             3 2016-02-08 05:46:00  39.865147  -84.058723  Montgomery   \n",
       "A-10            3 2016-02-08 08:10:04  40.100590  -82.925194    Franklin   \n",
       "A-100           2 2016-02-11 08:13:24  39.749916  -84.139359  Montgomery   \n",
       "A-1000          2 2016-06-23 10:31:12  38.653061 -121.070541   El Dorado   \n",
       "A-10000         3 2017-01-06 16:22:04  38.574406 -121.577354        Yolo   \n",
       "\n",
       "        State  Temperature(F)  Humidity(%)  Pressure(in)  Visibility(mi)  \\\n",
       "ID                                                                         \n",
       "A-1        OH            36.9         91.0         29.68            10.0   \n",
       "A-10       OH            37.4        100.0         29.62             3.0   \n",
       "A-100      OH             7.5         87.0         30.28            10.0   \n",
       "A-1000     CA            77.0         34.0         30.02            10.0   \n",
       "A-10000    CA            46.0         71.0         30.09            10.0   \n",
       "\n",
       "        Wind_Direction Weather_Condition  \n",
       "ID                                        \n",
       "A-1               Calm        Light Rain  \n",
       "A-10               SSW        Light Rain  \n",
       "A-100              SSW  Scattered Clouds  \n",
       "A-1000              SW             Clear  \n",
       "A-10000             NW             Clear  "
      ]
     },
     "execution_count": 15,
     "metadata": {},
     "output_type": "execute_result"
    }
   ],
   "source": [
    "head_s"
   ]
  },
  {
   "cell_type": "code",
   "execution_count": 16,
   "metadata": {
    "ExecuteTime": {
     "end_time": "2020-12-18T07:30:33.853807Z",
     "start_time": "2020-12-18T07:30:33.829808Z"
    }
   },
   "outputs": [
    {
     "data": {
      "text/html": [
       "<div>\n",
       "<style scoped>\n",
       "    .dataframe tbody tr th:only-of-type {\n",
       "        vertical-align: middle;\n",
       "    }\n",
       "\n",
       "    .dataframe tbody tr th {\n",
       "        vertical-align: top;\n",
       "    }\n",
       "\n",
       "    .dataframe thead th {\n",
       "        text-align: right;\n",
       "    }\n",
       "</style>\n",
       "<table border=\"1\" class=\"dataframe\">\n",
       "  <thead>\n",
       "    <tr style=\"text-align: right;\">\n",
       "      <th></th>\n",
       "      <th>Severity</th>\n",
       "      <th>Start_Time</th>\n",
       "      <th>Start_Lat</th>\n",
       "      <th>Start_Lng</th>\n",
       "      <th>County</th>\n",
       "      <th>State</th>\n",
       "      <th>Temperature(F)</th>\n",
       "      <th>Humidity(%)</th>\n",
       "      <th>Pressure(in)</th>\n",
       "      <th>Visibility(mi)</th>\n",
       "      <th>Wind_Direction</th>\n",
       "      <th>Weather_Condition</th>\n",
       "    </tr>\n",
       "    <tr>\n",
       "      <th>ID</th>\n",
       "      <th></th>\n",
       "      <th></th>\n",
       "      <th></th>\n",
       "      <th></th>\n",
       "      <th></th>\n",
       "      <th></th>\n",
       "      <th></th>\n",
       "      <th></th>\n",
       "      <th></th>\n",
       "      <th></th>\n",
       "      <th></th>\n",
       "      <th></th>\n",
       "    </tr>\n",
       "  </thead>\n",
       "  <tbody>\n",
       "    <tr>\n",
       "      <th>A-999995</th>\n",
       "      <td>2</td>\n",
       "      <td>2019-08-26 08:06:59</td>\n",
       "      <td>36.045235</td>\n",
       "      <td>-86.658531</td>\n",
       "      <td>Davidson</td>\n",
       "      <td>TN</td>\n",
       "      <td>70.0</td>\n",
       "      <td>90.0</td>\n",
       "      <td>29.32</td>\n",
       "      <td>6.0</td>\n",
       "      <td>SSE</td>\n",
       "      <td>Light Rain</td>\n",
       "    </tr>\n",
       "    <tr>\n",
       "      <th>A-999996</th>\n",
       "      <td>2</td>\n",
       "      <td>2019-08-26 08:15:38</td>\n",
       "      <td>36.191734</td>\n",
       "      <td>-86.777664</td>\n",
       "      <td>Davidson</td>\n",
       "      <td>TN</td>\n",
       "      <td>70.0</td>\n",
       "      <td>90.0</td>\n",
       "      <td>29.32</td>\n",
       "      <td>6.0</td>\n",
       "      <td>SSE</td>\n",
       "      <td>Light Rain</td>\n",
       "    </tr>\n",
       "    <tr>\n",
       "      <th>A-999997</th>\n",
       "      <td>2</td>\n",
       "      <td>2019-08-26 08:12:46</td>\n",
       "      <td>36.276863</td>\n",
       "      <td>-86.799614</td>\n",
       "      <td>Davidson</td>\n",
       "      <td>TN</td>\n",
       "      <td>70.0</td>\n",
       "      <td>90.0</td>\n",
       "      <td>29.32</td>\n",
       "      <td>6.0</td>\n",
       "      <td>SSE</td>\n",
       "      <td>Light Rain</td>\n",
       "    </tr>\n",
       "    <tr>\n",
       "      <th>A-999998</th>\n",
       "      <td>2</td>\n",
       "      <td>2019-08-26 08:16:10</td>\n",
       "      <td>36.144661</td>\n",
       "      <td>-86.816490</td>\n",
       "      <td>Davidson</td>\n",
       "      <td>TN</td>\n",
       "      <td>70.0</td>\n",
       "      <td>90.0</td>\n",
       "      <td>29.32</td>\n",
       "      <td>6.0</td>\n",
       "      <td>SSE</td>\n",
       "      <td>Light Rain</td>\n",
       "    </tr>\n",
       "    <tr>\n",
       "      <th>A-999999</th>\n",
       "      <td>3</td>\n",
       "      <td>2019-08-26 08:19:31</td>\n",
       "      <td>34.657188</td>\n",
       "      <td>-86.799873</td>\n",
       "      <td>Limestone</td>\n",
       "      <td>AL</td>\n",
       "      <td>70.0</td>\n",
       "      <td>100.0</td>\n",
       "      <td>29.30</td>\n",
       "      <td>5.0</td>\n",
       "      <td>SE</td>\n",
       "      <td>Rain</td>\n",
       "    </tr>\n",
       "  </tbody>\n",
       "</table>\n",
       "</div>"
      ],
      "text/plain": [
       "          Severity          Start_Time  Start_Lat  Start_Lng     County State  \\\n",
       "ID                                                                              \n",
       "A-999995         2 2019-08-26 08:06:59  36.045235 -86.658531   Davidson    TN   \n",
       "A-999996         2 2019-08-26 08:15:38  36.191734 -86.777664   Davidson    TN   \n",
       "A-999997         2 2019-08-26 08:12:46  36.276863 -86.799614   Davidson    TN   \n",
       "A-999998         2 2019-08-26 08:16:10  36.144661 -86.816490   Davidson    TN   \n",
       "A-999999         3 2019-08-26 08:19:31  34.657188 -86.799873  Limestone    AL   \n",
       "\n",
       "          Temperature(F)  Humidity(%)  Pressure(in)  Visibility(mi)  \\\n",
       "ID                                                                    \n",
       "A-999995            70.0         90.0         29.32             6.0   \n",
       "A-999996            70.0         90.0         29.32             6.0   \n",
       "A-999997            70.0         90.0         29.32             6.0   \n",
       "A-999998            70.0         90.0         29.32             6.0   \n",
       "A-999999            70.0        100.0         29.30             5.0   \n",
       "\n",
       "         Wind_Direction Weather_Condition  \n",
       "ID                                         \n",
       "A-999995            SSE        Light Rain  \n",
       "A-999996            SSE        Light Rain  \n",
       "A-999997            SSE        Light Rain  \n",
       "A-999998            SSE        Light Rain  \n",
       "A-999999             SE              Rain  "
      ]
     },
     "execution_count": 16,
     "metadata": {},
     "output_type": "execute_result"
    }
   ],
   "source": [
    "tail_s"
   ]
  },
  {
   "cell_type": "markdown",
   "metadata": {},
   "source": [
    "# Data Summary\n",
    "Our data summary reveals 4 attributes with object type, 6 attributes with float type, one integer type and one is in datetime formate."
   ]
  },
  {
   "cell_type": "code",
   "execution_count": 17,
   "metadata": {
    "ExecuteTime": {
     "end_time": "2020-12-18T07:30:33.864809Z",
     "start_time": "2020-12-18T07:30:33.855807Z"
    }
   },
   "outputs": [
    {
     "name": "stdout",
     "output_type": "stream",
     "text": [
      "<class 'dask.dataframe.core.DataFrame'>\n",
      "Columns: 12 entries, Severity to Weather_Condition\n",
      "dtypes: datetime64[ns](1), object(4), float64(6), int64(1)"
     ]
    }
   ],
   "source": [
    "data1.info()"
   ]
  },
  {
   "cell_type": "code",
   "execution_count": 18,
   "metadata": {
    "ExecuteTime": {
     "end_time": "2020-12-18T07:30:53.780945Z",
     "start_time": "2020-12-18T07:30:33.867815Z"
    }
   },
   "outputs": [],
   "source": [
    "description = data1.iloc[:,[0,6,7,8,9]].compute().describe()"
   ]
  },
  {
   "cell_type": "code",
   "execution_count": 19,
   "metadata": {
    "ExecuteTime": {
     "end_time": "2020-12-18T07:30:53.806961Z",
     "start_time": "2020-12-18T07:30:53.783946Z"
    }
   },
   "outputs": [
    {
     "data": {
      "text/html": [
       "<div>\n",
       "<style scoped>\n",
       "    .dataframe tbody tr th:only-of-type {\n",
       "        vertical-align: middle;\n",
       "    }\n",
       "\n",
       "    .dataframe tbody tr th {\n",
       "        vertical-align: top;\n",
       "    }\n",
       "\n",
       "    .dataframe thead th {\n",
       "        text-align: right;\n",
       "    }\n",
       "</style>\n",
       "<table border=\"1\" class=\"dataframe\">\n",
       "  <thead>\n",
       "    <tr style=\"text-align: right;\">\n",
       "      <th></th>\n",
       "      <th>Severity</th>\n",
       "      <th>Temperature(F)</th>\n",
       "      <th>Humidity(%)</th>\n",
       "      <th>Pressure(in)</th>\n",
       "      <th>Visibility(mi)</th>\n",
       "    </tr>\n",
       "  </thead>\n",
       "  <tbody>\n",
       "    <tr>\n",
       "      <th>count</th>\n",
       "      <td>3.402734e+06</td>\n",
       "      <td>3.402734e+06</td>\n",
       "      <td>3.402734e+06</td>\n",
       "      <td>3.402734e+06</td>\n",
       "      <td>3.402734e+06</td>\n",
       "    </tr>\n",
       "    <tr>\n",
       "      <th>mean</th>\n",
       "      <td>2.338176e+00</td>\n",
       "      <td>6.196703e+01</td>\n",
       "      <td>6.513355e+01</td>\n",
       "      <td>2.974581e+01</td>\n",
       "      <td>9.122390e+00</td>\n",
       "    </tr>\n",
       "    <tr>\n",
       "      <th>std</th>\n",
       "      <td>5.510958e-01</td>\n",
       "      <td>1.860003e+01</td>\n",
       "      <td>2.274918e+01</td>\n",
       "      <td>8.278789e-01</td>\n",
       "      <td>2.870044e+00</td>\n",
       "    </tr>\n",
       "    <tr>\n",
       "      <th>min</th>\n",
       "      <td>1.000000e+00</td>\n",
       "      <td>-2.900000e+01</td>\n",
       "      <td>1.000000e+00</td>\n",
       "      <td>0.000000e+00</td>\n",
       "      <td>0.000000e+00</td>\n",
       "    </tr>\n",
       "    <tr>\n",
       "      <th>25%</th>\n",
       "      <td>2.000000e+00</td>\n",
       "      <td>5.000000e+01</td>\n",
       "      <td>4.900000e+01</td>\n",
       "      <td>2.973000e+01</td>\n",
       "      <td>1.000000e+01</td>\n",
       "    </tr>\n",
       "    <tr>\n",
       "      <th>50%</th>\n",
       "      <td>2.000000e+00</td>\n",
       "      <td>6.400000e+01</td>\n",
       "      <td>6.700000e+01</td>\n",
       "      <td>2.995000e+01</td>\n",
       "      <td>1.000000e+01</td>\n",
       "    </tr>\n",
       "    <tr>\n",
       "      <th>75%</th>\n",
       "      <td>3.000000e+00</td>\n",
       "      <td>7.590000e+01</td>\n",
       "      <td>8.400000e+01</td>\n",
       "      <td>3.009000e+01</td>\n",
       "      <td>1.000000e+01</td>\n",
       "    </tr>\n",
       "    <tr>\n",
       "      <th>max</th>\n",
       "      <td>4.000000e+00</td>\n",
       "      <td>1.706000e+02</td>\n",
       "      <td>1.000000e+02</td>\n",
       "      <td>5.774000e+01</td>\n",
       "      <td>1.400000e+02</td>\n",
       "    </tr>\n",
       "  </tbody>\n",
       "</table>\n",
       "</div>"
      ],
      "text/plain": [
       "           Severity  Temperature(F)   Humidity(%)  Pressure(in)  \\\n",
       "count  3.402734e+06    3.402734e+06  3.402734e+06  3.402734e+06   \n",
       "mean   2.338176e+00    6.196703e+01  6.513355e+01  2.974581e+01   \n",
       "std    5.510958e-01    1.860003e+01  2.274918e+01  8.278789e-01   \n",
       "min    1.000000e+00   -2.900000e+01  1.000000e+00  0.000000e+00   \n",
       "25%    2.000000e+00    5.000000e+01  4.900000e+01  2.973000e+01   \n",
       "50%    2.000000e+00    6.400000e+01  6.700000e+01  2.995000e+01   \n",
       "75%    3.000000e+00    7.590000e+01  8.400000e+01  3.009000e+01   \n",
       "max    4.000000e+00    1.706000e+02  1.000000e+02  5.774000e+01   \n",
       "\n",
       "       Visibility(mi)  \n",
       "count    3.402734e+06  \n",
       "mean     9.122390e+00  \n",
       "std      2.870044e+00  \n",
       "min      0.000000e+00  \n",
       "25%      1.000000e+01  \n",
       "50%      1.000000e+01  \n",
       "75%      1.000000e+01  \n",
       "max      1.400000e+02  "
      ]
     },
     "execution_count": 19,
     "metadata": {},
     "output_type": "execute_result"
    }
   ],
   "source": [
    "description"
   ]
  },
  {
   "cell_type": "markdown",
   "metadata": {},
   "source": [
    "## Corelation \n",
    "Following process is carried out to get an idea about how the columns are related with each other."
   ]
  },
  {
   "cell_type": "code",
   "execution_count": 20,
   "metadata": {
    "ExecuteTime": {
     "end_time": "2020-12-18T07:31:14.543698Z",
     "start_time": "2020-12-18T07:30:53.809511Z"
    }
   },
   "outputs": [
    {
     "name": "stdout",
     "output_type": "stream",
     "text": [
      "Wall time: 20.7 s\n"
     ]
    }
   ],
   "source": [
    "%%time\n",
    "data_par1_corr = data1.compute().corr()"
   ]
  },
  {
   "cell_type": "code",
   "execution_count": 21,
   "metadata": {
    "ExecuteTime": {
     "end_time": "2020-12-18T07:31:15.091770Z",
     "start_time": "2020-12-18T07:31:14.547691Z"
    }
   },
   "outputs": [
    {
     "data": {
      "image/png": "[encoded data removed]",
      "text/plain": [
       "<Figure size 576x432 with 1 Axes>"
      ]
     },
     "metadata": {
      "needs_background": "light"
     },
     "output_type": "display_data"
    }
   ],
   "source": [
    "import seaborn as sns\n",
    "mask = np.triu(np.ones_like(data_par1_corr), k=1)\n",
    "plt.figure(figsize=(8,6))\n",
    "sns.heatmap(data_par1_corr, vmin=-1, vmax=1, cbar=False,\n",
    "                cmap='RdBu',mask=mask, annot=True)\n",
    "plt.xticks(rotation=90, size='x-large')\n",
    "plt.yticks(rotation=0, size='x-large')\n",
    "plt.show()"
   ]
  },
  {
   "cell_type": "markdown",
   "metadata": {},
   "source": [
    "# Tidying & Analysing the Dataset\n",
    "Our main task in this topic is to groupby with categorical variable to see the behaviour of attribute."
   ]
  },
  {
   "cell_type": "markdown",
   "metadata": {},
   "source": [
    "## Overview on State Accidents"
   ]
  },
  {
   "cell_type": "code",
   "execution_count": 22,
   "metadata": {
    "ExecuteTime": {
     "end_time": "2020-12-18T07:31:34.641624Z",
     "start_time": "2020-12-18T07:31:15.094773Z"
    }
   },
   "outputs": [],
   "source": [
    "state_acc = data1.State.value_counts().compute()"
   ]
  },
  {
   "cell_type": "code",
   "execution_count": 23,
   "metadata": {
    "ExecuteTime": {
     "end_time": "2020-12-18T07:31:35.820157Z",
     "start_time": "2020-12-18T07:31:34.647633Z"
    }
   },
   "outputs": [
    {
     "data": {
      "application/vnd.plotly.v1+json": {
       "config": {
        "linkText": "Export to plot.ly",
        "plotlyServerURL": "https://plot.ly",
        "showLink": true
       },
       "data": [
        {
         "marker": {
          "color": "rgba(255, 153, 51, 0.6)",
          "line": {
           "color": "rgba(255, 153, 51, 1.0)",
           "width": 1
          }
         },
         "name": "State",
         "orientation": "v",
         "text": "",
         "type": "bar",
         "x": [
          "CA",
          "TX",
          "FL",
          "SC",
          "NC",
          "NY",
          "PA",
          "IL",
          "MI",
          "GA",
          "VA",
          "OR",
          "MN",
          "AZ",
          "TN",
          "WA",
          "OH",
          "LA",
          "OK",
          "NJ",
          "CO",
          "UT",
          "AL",
          "MD",
          "MA",
          "MO",
          "IN",
          "CT",
          "NE",
          "KY",
          "WI",
          "RI",
          "IA",
          "NV",
          "NH",
          "MS",
          "DE",
          "NM",
          "KS",
          "DC",
          "WV",
          "ME",
          "ID",
          "AR",
          "VT",
          "MT",
          "WY",
          "SD",
          "ND"
         ],
         "y": [
          788379,
          320209,
          252040,
          168681,
          164285,
          156785,
          104321,
          98883,
          95437,
          91535,
          90233,
          88141,
          79143,
          75223,
          69270,
          67547,
          65506,
          60748,
          59163,
          55895,
          48693,
          47392,
          43756,
          40622,
          36235,
          32741,
          32654,
          25702,
          23766,
          22355,
          19964,
          11243,
          10978,
          10456,
          7816,
          6381,
          5671,
          5492,
          5312,
          3967,
          2330,
          2191,
          1939,
          1890,
          679,
          497,
          486,
          60,
          42
         ]
        }
       ],
       "layout": {
        "legend": {
         "bgcolor": "#F5F6F9",
         "font": {
          "color": "#4D5663"
         }
        },
        "paper_bgcolor": "#F5F6F9",
        "plot_bgcolor": "#F5F6F9",
        "template": {
         "data": {
          "bar": [
           {
            "error_x": {
             "color": "#2a3f5f"
            },
            "error_y": {
             "color": "#2a3f5f"
            },
            "marker": {
             "line": {
              "color": "#E5ECF6",
              "width": 0.5
             }
            },
            "type": "bar"
           }
          ],
          "barpolar": [
           {
            "marker": {
             "line": {
              "color": "#E5ECF6",
              "width": 0.5
             }
            },
            "type": "barpolar"
           }
          ],
          "carpet": [
           {
            "aaxis": {
             "endlinecolor": "#2a3f5f",
             "gridcolor": "white",
             "linecolor": "white",
             "minorgridcolor": "white",
             "startlinecolor": "#2a3f5f"
            },
            "baxis": {
             "endlinecolor": "#2a3f5f",
             "gridcolor": "white",
             "linecolor": "white",
             "minorgridcolor": "white",
             "startlinecolor": "#2a3f5f"
            },
            "type": "carpet"
           }
          ],
          "choropleth": [
           {
            "colorbar": {
             "outlinewidth": 0,
             "ticks": ""
            },
            "type": "choropleth"
           }
          ],
          "contour": [
           {
            "colorbar": {
             "outlinewidth": 0,
             "ticks": ""
            },
            "colorscale": [
             [
              0,
              "#0d0887"
             ],
             [
              0.1111111111111111,
              "#46039f"
             ],
             [
              0.2222222222222222,
              "#7201a8"
             ],
             [
              0.3333333333333333,
              "#9c179e"
             ],
             [
              0.4444444444444444,
              "#bd3786"
             ],
             [
              0.5555555555555556,
              "#d8576b"
             ],
             [
              0.6666666666666666,
              "#ed7953"
             ],
             [
              0.7777777777777778,
              "#fb9f3a"
             ],
             [
              0.8888888888888888,
              "#fdca26"
             ],
             [
              1,
              "#f0f921"
             ]
            ],
            "type": "contour"
           }
          ],
          "contourcarpet": [
           {
            "colorbar": {
             "outlinewidth": 0,
             "ticks": ""
            },
            "type": "contourcarpet"
           }
          ],
          "heatmap": [
           {
            "colorbar": {
             "outlinewidth": 0,
             "ticks": ""
            },
            "colorscale": [
             [
              0,
              "#0d0887"
             ],
             [
              0.1111111111111111,
              "#46039f"
             ],
             [
              0.2222222222222222,
              "#7201a8"
             ],
             [
              0.3333333333333333,
              "#9c179e"
             ],
             [
              0.4444444444444444,
              "#bd3786"
             ],
             [
              0.5555555555555556,
              "#d8576b"
             ],
             [
              0.6666666666666666,
              "#ed7953"
             ],
             [
              0.7777777777777778,
              "#fb9f3a"
             ],
             [
              0.8888888888888888,
              "#fdca26"
             ],
             [
              1,
              "#f0f921"
             ]
            ],
            "type": "heatmap"
           }
          ],
          "heatmapgl": [
           {
            "colorbar": {
             "outlinewidth": 0,
             "ticks": ""
            },
            "colorscale": [
             [
              0,
              "#0d0887"
             ],
             [
              0.1111111111111111,
              "#46039f"
             ],
             [
              0.2222222222222222,
              "#7201a8"
             ],
             [
              0.3333333333333333,
              "#9c179e"
             ],
             [
              0.4444444444444444,
              "#bd3786"
             ],
             [
              0.5555555555555556,
              "#d8576b"
             ],
             [
              0.6666666666666666,
              "#ed7953"
             ],
             [
              0.7777777777777778,
              "#fb9f3a"
             ],
             [
              0.8888888888888888,
              "#fdca26"
             ],
             [
              1,
              "#f0f921"
             ]
            ],
            "type": "heatmapgl"
           }
          ],
          "histogram": [
           {
            "marker": {
             "colorbar": {
              "outlinewidth": 0,
              "ticks": ""
             }
            },
            "type": "histogram"
           }
          ],
          "histogram2d": [
           {
            "colorbar": {
             "outlinewidth": 0,
             "ticks": ""
            },
            "colorscale": [
             [
              0,
              "#0d0887"
             ],
             [
              0.1111111111111111,
              "#46039f"
             ],
             [
              0.2222222222222222,
              "#7201a8"
             ],
             [
              0.3333333333333333,
              "#9c179e"
             ],
             [
              0.4444444444444444,
              "#bd3786"
             ],
             [
              0.5555555555555556,
              "#d8576b"
             ],
             [
              0.6666666666666666,
              "#ed7953"
             ],
             [
              0.7777777777777778,
              "#fb9f3a"
             ],
             [
              0.8888888888888888,
              "#fdca26"
             ],
             [
              1,
              "#f0f921"
             ]
            ],
            "type": "histogram2d"
           }
          ],
          "histogram2dcontour": [
           {
            "colorbar": {
             "outlinewidth": 0,
             "ticks": ""
            },
            "colorscale": [
             [
              0,
              "#0d0887"
             ],
             [
              0.1111111111111111,
              "#46039f"
             ],
             [
              0.2222222222222222,
              "#7201a8"
             ],
             [
              0.3333333333333333,
              "#9c179e"
             ],
             [
              0.4444444444444444,
              "#bd3786"
             ],
             [
              0.5555555555555556,
              "#d8576b"
             ],
             [
              0.6666666666666666,
              "#ed7953"
             ],
             [
              0.7777777777777778,
              "#fb9f3a"
             ],
             [
              0.8888888888888888,
              "#fdca26"
             ],
             [
              1,
              "#f0f921"
             ]
            ],
            "type": "histogram2dcontour"
           }
          ],
          "mesh3d": [
           {
            "colorbar": {
             "outlinewidth": 0,
             "ticks": ""
            },
            "type": "mesh3d"
           }
          ],
          "parcoords": [
           {
            "line": {
             "colorbar": {
              "outlinewidth": 0,
              "ticks": ""
             }
            },
            "type": "parcoords"
           }
          ],
          "pie": [
           {
            "automargin": true,
            "type": "pie"
           }
          ],
          "scatter": [
           {
            "marker": {
             "colorbar": {
              "outlinewidth": 0,
              "ticks": ""
             }
            },
            "type": "scatter"
           }
          ],
          "scatter3d": [
           {
            "line": {
             "colorbar": {
              "outlinewidth": 0,
              "ticks": ""
             }
            },
            "marker": {
             "colorbar": {
              "outlinewidth": 0,
              "ticks": ""
             }
            },
            "type": "scatter3d"
           }
          ],
          "scattercarpet": [
           {
            "marker": {
             "colorbar": {
              "outlinewidth": 0,
              "ticks": ""
             }
            },
            "type": "scattercarpet"
           }
          ],
          "scattergeo": [
           {
            "marker": {
             "colorbar": {
              "outlinewidth": 0,
              "ticks": ""
             }
            },
            "type": "scattergeo"
           }
          ],
          "scattergl": [
           {
            "marker": {
             "colorbar": {
              "outlinewidth": 0,
              "ticks": ""
             }
            },
            "type": "scattergl"
           }
          ],
          "scattermapbox": [
           {
            "marker": {
             "colorbar": {
              "outlinewidth": 0,
              "ticks": ""
             }
            },
            "type": "scattermapbox"
           }
          ],
          "scatterpolar": [
           {
            "marker": {
             "colorbar": {
              "outlinewidth": 0,
              "ticks": ""
             }
            },
            "type": "scatterpolar"
           }
          ],
          "scatterpolargl": [
           {
            "marker": {
             "colorbar": {
              "outlinewidth": 0,
              "ticks": ""
             }
            },
            "type": "scatterpolargl"
           }
          ],
          "scatterternary": [
           {
            "marker": {
             "colorbar": {
              "outlinewidth": 0,
              "ticks": ""
             }
            },
            "type": "scatterternary"
           }
          ],
          "surface": [
           {
            "colorbar": {
             "outlinewidth": 0,
             "ticks": ""
            },
            "colorscale": [
             [
              0,
              "#0d0887"
             ],
             [
              0.1111111111111111,
              "#46039f"
             ],
             [
              0.2222222222222222,
              "#7201a8"
             ],
             [
              0.3333333333333333,
              "#9c179e"
             ],
             [
              0.4444444444444444,
              "#bd3786"
             ],
             [
              0.5555555555555556,
              "#d8576b"
             ],
             [
              0.6666666666666666,
              "#ed7953"
             ],
             [
              0.7777777777777778,
              "#fb9f3a"
             ],
             [
              0.8888888888888888,
              "#fdca26"
             ],
             [
              1,
              "#f0f921"
             ]
            ],
            "type": "surface"
           }
          ],
          "table": [
           {
            "cells": {
             "fill": {
              "color": "#EBF0F8"
             },
             "line": {
              "color": "white"
             }
            },
            "header": {
             "fill": {
              "color": "#C8D4E3"
             },
             "line": {
              "color": "white"
             }
            },
            "type": "table"
           }
          ]
         },
         "layout": {
          "annotationdefaults": {
           "arrowcolor": "#2a3f5f",
           "arrowhead": 0,
           "arrowwidth": 1
          },
          "coloraxis": {
           "colorbar": {
            "outlinewidth": 0,
            "ticks": ""
           }
          },
          "colorscale": {
           "diverging": [
            [
             0,
             "#8e0152"
            ],
            [
             0.1,
             "#c51b7d"
            ],
            [
             0.2,
             "#de77ae"
            ],
            [
             0.3,
             "#f1b6da"
            ],
            [
             0.4,
             "#fde0ef"
            ],
            [
             0.5,
             "#f7f7f7"
            ],
            [
             0.6,
             "#e6f5d0"
            ],
            [
             0.7,
             "#b8e186"
            ],
            [
             0.8,
             "#7fbc41"
            ],
            [
             0.9,
             "#4d9221"
            ],
            [
             1,
             "#276419"
            ]
           ],
           "sequential": [
            [
             0,
             "#0d0887"
            ],
            [
             0.1111111111111111,
             "#46039f"
            ],
            [
             0.2222222222222222,
             "#7201a8"
            ],
            [
             0.3333333333333333,
             "#9c179e"
            ],
            [
             0.4444444444444444,
             "#bd3786"
            ],
            [
             0.5555555555555556,
             "#d8576b"
            ],
            [
             0.6666666666666666,
             "#ed7953"
            ],
            [
             0.7777777777777778,
             "#fb9f3a"
            ],
            [
             0.8888888888888888,
             "#fdca26"
            ],
            [
             1,
             "#f0f921"
            ]
           ],
           "sequentialminus": [
            [
             0,
             "#0d0887"
            ],
            [
             0.1111111111111111,
             "#46039f"
            ],
            [
             0.2222222222222222,
             "#7201a8"
            ],
            [
             0.3333333333333333,
             "#9c179e"
            ],
            [
             0.4444444444444444,
             "#bd3786"
            ],
            [
             0.5555555555555556,
             "#d8576b"
            ],
            [
             0.6666666666666666,
             "#ed7953"
            ],
            [
             0.7777777777777778,
             "#fb9f3a"
            ],
            [
             0.8888888888888888,
             "#fdca26"
            ],
            [
             1,
             "#f0f921"
            ]
           ]
          },
          "colorway": [
           "#636efa",
           "#EF553B",
           "#00cc96",
           "#ab63fa",
           "#FFA15A",
           "#19d3f3",
           "#FF6692",
           "#B6E880",
           "#FF97FF",
           "#FECB52"
          ],
          "font": {
           "color": "#2a3f5f"
          },
          "geo": {
           "bgcolor": "white",
           "lakecolor": "white",
           "landcolor": "#E5ECF6",
           "showlakes": true,
           "showland": true,
           "subunitcolor": "white"
          },
          "hoverlabel": {
           "align": "left"
          },
          "hovermode": "closest",
          "mapbox": {
           "style": "light"
          },
          "paper_bgcolor": "white",
          "plot_bgcolor": "#E5ECF6",
          "polar": {
           "angularaxis": {
            "gridcolor": "white",
            "linecolor": "white",
            "ticks": ""
           },
           "bgcolor": "#E5ECF6",
           "radialaxis": {
            "gridcolor": "white",
            "linecolor": "white",
            "ticks": ""
           }
          },
          "scene": {
           "xaxis": {
            "backgroundcolor": "#E5ECF6",
            "gridcolor": "white",
            "gridwidth": 2,
            "linecolor": "white",
            "showbackground": true,
            "ticks": "",
            "zerolinecolor": "white"
           },
           "yaxis": {
            "backgroundcolor": "#E5ECF6",
            "gridcolor": "white",
            "gridwidth": 2,
            "linecolor": "white",
            "showbackground": true,
            "ticks": "",
            "zerolinecolor": "white"
           },
           "zaxis": {
            "backgroundcolor": "#E5ECF6",
            "gridcolor": "white",
            "gridwidth": 2,
            "linecolor": "white",
            "showbackground": true,
            "ticks": "",
            "zerolinecolor": "white"
           }
          },
          "shapedefaults": {
           "line": {
            "color": "#2a3f5f"
           }
          },
          "ternary": {
           "aaxis": {
            "gridcolor": "white",
            "linecolor": "white",
            "ticks": ""
           },
           "baxis": {
            "gridcolor": "white",
            "linecolor": "white",
            "ticks": ""
           },
           "bgcolor": "#E5ECF6",
           "caxis": {
            "gridcolor": "white",
            "linecolor": "white",
            "ticks": ""
           }
          },
          "title": {
           "x": 0.05
          },
          "xaxis": {
           "automargin": true,
           "gridcolor": "white",
           "linecolor": "white",
           "ticks": "",
           "title": {
            "standoff": 15
           },
           "zerolinecolor": "white",
           "zerolinewidth": 2
          },
          "yaxis": {
           "automargin": true,
           "gridcolor": "white",
           "linecolor": "white",
           "ticks": "",
           "title": {
            "standoff": 15
           },
           "zerolinecolor": "white",
           "zerolinewidth": 2
          }
         }
        },
        "title": {
         "font": {
          "color": "#4D5663"
         },
         "text": "Number of State-Wise Accidents, USA"
        },
        "xaxis": {
         "gridcolor": "#E1E5ED",
         "showgrid": true,
         "tickfont": {
          "color": "#4D5663"
         },
         "title": {
          "font": {
           "color": "#4D5663"
          },
          "text": "State"
         },
         "zerolinecolor": "#E1E5ED"
        },
        "yaxis": {
         "gridcolor": "#E1E5ED",
         "showgrid": true,
         "tickfont": {
          "color": "#4D5663"
         },
         "title": {
          "font": {
           "color": "#4D5663"
          },
          "text": "No. of Accidents"
         },
         "zerolinecolor": "#E1E5ED"
        }
       }
      },
      "text/html": [
       "<div>                            <div id=\"d92c44a7-f434-42a1-a080-1ea55b007538\" class=\"plotly-graph-div\" style=\"height:525px; width:100%;\"></div>            <script type=\"text/javascript\">                require([\"plotly\"], function(Plotly) {                    window.PLOTLYENV=window.PLOTLYENV || {};\n",
       "                    window.PLOTLYENV.BASE_URL='https://plot.ly';                                    if (document.getElementById(\"d92c44a7-f434-42a1-a080-1ea55b007538\")) {                    Plotly.newPlot(                        \"d92c44a7-f434-42a1-a080-1ea55b007538\",                        [{\"marker\": {\"color\": \"rgba(255, 153, 51, 0.6)\", \"line\": {\"color\": \"rgba(255, 153, 51, 1.0)\", \"width\": 1}}, \"name\": \"State\", \"orientation\": \"v\", \"text\": \"\", \"type\": \"bar\", \"x\": [\"CA\", \"TX\", \"FL\", \"SC\", \"NC\", \"NY\", \"PA\", \"IL\", \"MI\", \"GA\", \"VA\", \"OR\", \"MN\", \"AZ\", \"TN\", \"WA\", \"OH\", \"LA\", \"OK\", \"NJ\", \"CO\", \"UT\", \"AL\", \"MD\", \"MA\", \"MO\", \"IN\", \"CT\", \"NE\", \"KY\", \"WI\", \"RI\", \"IA\", \"NV\", \"NH\", \"MS\", \"DE\", \"NM\", \"KS\", \"DC\", \"WV\", \"ME\", \"ID\", \"AR\", \"VT\", \"MT\", \"WY\", \"SD\", \"ND\"], \"y\": [788379, 320209, 252040, 168681, 164285, 156785, 104321, 98883, 95437, 91535, 90233, 88141, 79143, 75223, 69270, 67547, 65506, 60748, 59163, 55895, 48693, 47392, 43756, 40622, 36235, 32741, 32654, 25702, 23766, 22355, 19964, 11243, 10978, 10456, 7816, 6381, 5671, 5492, 5312, 3967, 2330, 2191, 1939, 1890, 679, 497, 486, 60, 42]}],                        {\"legend\": {\"bgcolor\": \"#F5F6F9\", \"font\": {\"color\": \"#4D5663\"}}, \"paper_bgcolor\": \"#F5F6F9\", \"plot_bgcolor\": \"#F5F6F9\", \"template\": {\"data\": {\"bar\": [{\"error_x\": {\"color\": \"#2a3f5f\"}, \"error_y\": {\"color\": \"#2a3f5f\"}, \"marker\": {\"line\": {\"color\": \"#E5ECF6\", \"width\": 0.5}}, \"type\": \"bar\"}], \"barpolar\": [{\"marker\": {\"line\": {\"color\": \"#E5ECF6\", \"width\": 0.5}}, \"type\": \"barpolar\"}], \"carpet\": [{\"aaxis\": {\"endlinecolor\": \"#2a3f5f\", \"gridcolor\": \"white\", \"linecolor\": \"white\", \"minorgridcolor\": \"white\", \"startlinecolor\": \"#2a3f5f\"}, \"baxis\": {\"endlinecolor\": \"#2a3f5f\", \"gridcolor\": \"white\", \"linecolor\": \"white\", \"minorgridcolor\": \"white\", \"startlinecolor\": \"#2a3f5f\"}, \"type\": \"carpet\"}], \"choropleth\": [{\"colorbar\": {\"outlinewidth\": 0, \"ticks\": \"\"}, \"type\": \"choropleth\"}], \"contour\": [{\"colorbar\": {\"outlinewidth\": 0, \"ticks\": \"\"}, \"colorscale\": [[0.0, \"#0d0887\"], [0.1111111111111111, \"#46039f\"], [0.2222222222222222, \"#7201a8\"], [0.3333333333333333, \"#9c179e\"], [0.4444444444444444, \"#bd3786\"], [0.5555555555555556, \"#d8576b\"], [0.6666666666666666, \"#ed7953\"], [0.7777777777777778, \"#fb9f3a\"], [0.8888888888888888, \"#fdca26\"], [1.0, \"#f0f921\"]], \"type\": \"contour\"}], \"contourcarpet\": [{\"colorbar\": {\"outlinewidth\": 0, \"ticks\": \"\"}, \"type\": \"contourcarpet\"}], \"heatmap\": [{\"colorbar\": {\"outlinewidth\": 0, \"ticks\": \"\"}, \"colorscale\": [[0.0, \"#0d0887\"], [0.1111111111111111, \"#46039f\"], [0.2222222222222222, \"#7201a8\"], [0.3333333333333333, \"#9c179e\"], [0.4444444444444444, \"#bd3786\"], [0.5555555555555556, \"#d8576b\"], [0.6666666666666666, \"#ed7953\"], [0.7777777777777778, \"#fb9f3a\"], [0.8888888888888888, \"#fdca26\"], [1.0, \"#f0f921\"]], \"type\": \"heatmap\"}], \"heatmapgl\": [{\"colorbar\": {\"outlinewidth\": 0, \"ticks\": \"\"}, \"colorscale\": [[0.0, \"#0d0887\"], [0.1111111111111111, \"#46039f\"], [0.2222222222222222, \"#7201a8\"], [0.3333333333333333, \"#9c179e\"], [0.4444444444444444, \"#bd3786\"], [0.5555555555555556, \"#d8576b\"], [0.6666666666666666, \"#ed7953\"], [0.7777777777777778, \"#fb9f3a\"], [0.8888888888888888, \"#fdca26\"], [1.0, \"#f0f921\"]], \"type\": \"heatmapgl\"}], \"histogram\": [{\"marker\": {\"colorbar\": {\"outlinewidth\": 0, \"ticks\": \"\"}}, \"type\": \"histogram\"}], \"histogram2d\": [{\"colorbar\": {\"outlinewidth\": 0, \"ticks\": \"\"}, \"colorscale\": [[0.0, \"#0d0887\"], [0.1111111111111111, \"#46039f\"], [0.2222222222222222, \"#7201a8\"], [0.3333333333333333, \"#9c179e\"], [0.4444444444444444, \"#bd3786\"], [0.5555555555555556, \"#d8576b\"], [0.6666666666666666, \"#ed7953\"], [0.7777777777777778, \"#fb9f3a\"], [0.8888888888888888, \"#fdca26\"], [1.0, \"#f0f921\"]], \"type\": \"histogram2d\"}], \"histogram2dcontour\": [{\"colorbar\": {\"outlinewidth\": 0, \"ticks\": \"\"}, \"colorscale\": [[0.0, \"#0d0887\"], [0.1111111111111111, \"#46039f\"], [0.2222222222222222, \"#7201a8\"], [0.3333333333333333, \"#9c179e\"], [0.4444444444444444, \"#bd3786\"], [0.5555555555555556, \"#d8576b\"], [0.6666666666666666, \"#ed7953\"], [0.7777777777777778, \"#fb9f3a\"], [0.8888888888888888, \"#fdca26\"], [1.0, \"#f0f921\"]], \"type\": \"histogram2dcontour\"}], \"mesh3d\": [{\"colorbar\": {\"outlinewidth\": 0, \"ticks\": \"\"}, \"type\": \"mesh3d\"}], \"parcoords\": [{\"line\": {\"colorbar\": {\"outlinewidth\": 0, \"ticks\": \"\"}}, \"type\": \"parcoords\"}], \"pie\": [{\"automargin\": true, \"type\": \"pie\"}], \"scatter\": [{\"marker\": {\"colorbar\": {\"outlinewidth\": 0, \"ticks\": \"\"}}, \"type\": \"scatter\"}], \"scatter3d\": [{\"line\": {\"colorbar\": {\"outlinewidth\": 0, \"ticks\": \"\"}}, \"marker\": {\"colorbar\": {\"outlinewidth\": 0, \"ticks\": \"\"}}, \"type\": \"scatter3d\"}], \"scattercarpet\": [{\"marker\": {\"colorbar\": {\"outlinewidth\": 0, \"ticks\": \"\"}}, \"type\": \"scattercarpet\"}], \"scattergeo\": [{\"marker\": {\"colorbar\": {\"outlinewidth\": 0, \"ticks\": \"\"}}, \"type\": \"scattergeo\"}], \"scattergl\": [{\"marker\": {\"colorbar\": {\"outlinewidth\": 0, \"ticks\": \"\"}}, \"type\": \"scattergl\"}], \"scattermapbox\": [{\"marker\": {\"colorbar\": {\"outlinewidth\": 0, \"ticks\": \"\"}}, \"type\": \"scattermapbox\"}], \"scatterpolar\": [{\"marker\": {\"colorbar\": {\"outlinewidth\": 0, \"ticks\": \"\"}}, \"type\": \"scatterpolar\"}], \"scatterpolargl\": [{\"marker\": {\"colorbar\": {\"outlinewidth\": 0, \"ticks\": \"\"}}, \"type\": \"scatterpolargl\"}], \"scatterternary\": [{\"marker\": {\"colorbar\": {\"outlinewidth\": 0, \"ticks\": \"\"}}, \"type\": \"scatterternary\"}], \"surface\": [{\"colorbar\": {\"outlinewidth\": 0, \"ticks\": \"\"}, \"colorscale\": [[0.0, \"#0d0887\"], [0.1111111111111111, \"#46039f\"], [0.2222222222222222, \"#7201a8\"], [0.3333333333333333, \"#9c179e\"], [0.4444444444444444, \"#bd3786\"], [0.5555555555555556, \"#d8576b\"], [0.6666666666666666, \"#ed7953\"], [0.7777777777777778, \"#fb9f3a\"], [0.8888888888888888, \"#fdca26\"], [1.0, \"#f0f921\"]], \"type\": \"surface\"}], \"table\": [{\"cells\": {\"fill\": {\"color\": \"#EBF0F8\"}, \"line\": {\"color\": \"white\"}}, \"header\": {\"fill\": {\"color\": \"#C8D4E3\"}, \"line\": {\"color\": \"white\"}}, \"type\": \"table\"}]}, \"layout\": {\"annotationdefaults\": {\"arrowcolor\": \"#2a3f5f\", \"arrowhead\": 0, \"arrowwidth\": 1}, \"coloraxis\": {\"colorbar\": {\"outlinewidth\": 0, \"ticks\": \"\"}}, \"colorscale\": {\"diverging\": [[0, \"#8e0152\"], [0.1, \"#c51b7d\"], [0.2, \"#de77ae\"], [0.3, \"#f1b6da\"], [0.4, \"#fde0ef\"], [0.5, \"#f7f7f7\"], [0.6, \"#e6f5d0\"], [0.7, \"#b8e186\"], [0.8, \"#7fbc41\"], [0.9, \"#4d9221\"], [1, \"#276419\"]], \"sequential\": [[0.0, \"#0d0887\"], [0.1111111111111111, \"#46039f\"], [0.2222222222222222, \"#7201a8\"], [0.3333333333333333, \"#9c179e\"], [0.4444444444444444, \"#bd3786\"], [0.5555555555555556, \"#d8576b\"], [0.6666666666666666, \"#ed7953\"], [0.7777777777777778, \"#fb9f3a\"], [0.8888888888888888, \"#fdca26\"], [1.0, \"#f0f921\"]], \"sequentialminus\": [[0.0, \"#0d0887\"], [0.1111111111111111, \"#46039f\"], [0.2222222222222222, \"#7201a8\"], [0.3333333333333333, \"#9c179e\"], [0.4444444444444444, \"#bd3786\"], [0.5555555555555556, \"#d8576b\"], [0.6666666666666666, \"#ed7953\"], [0.7777777777777778, \"#fb9f3a\"], [0.8888888888888888, \"#fdca26\"], [1.0, \"#f0f921\"]]}, \"colorway\": [\"#636efa\", \"#EF553B\", \"#00cc96\", \"#ab63fa\", \"#FFA15A\", \"#19d3f3\", \"#FF6692\", \"#B6E880\", \"#FF97FF\", \"#FECB52\"], \"font\": {\"color\": \"#2a3f5f\"}, \"geo\": {\"bgcolor\": \"white\", \"lakecolor\": \"white\", \"landcolor\": \"#E5ECF6\", \"showlakes\": true, \"showland\": true, \"subunitcolor\": \"white\"}, \"hoverlabel\": {\"align\": \"left\"}, \"hovermode\": \"closest\", \"mapbox\": {\"style\": \"light\"}, \"paper_bgcolor\": \"white\", \"plot_bgcolor\": \"#E5ECF6\", \"polar\": {\"angularaxis\": {\"gridcolor\": \"white\", \"linecolor\": \"white\", \"ticks\": \"\"}, \"bgcolor\": \"#E5ECF6\", \"radialaxis\": {\"gridcolor\": \"white\", \"linecolor\": \"white\", \"ticks\": \"\"}}, \"scene\": {\"xaxis\": {\"backgroundcolor\": \"#E5ECF6\", \"gridcolor\": \"white\", \"gridwidth\": 2, \"linecolor\": \"white\", \"showbackground\": true, \"ticks\": \"\", \"zerolinecolor\": \"white\"}, \"yaxis\": {\"backgroundcolor\": \"#E5ECF6\", \"gridcolor\": \"white\", \"gridwidth\": 2, \"linecolor\": \"white\", \"showbackground\": true, \"ticks\": \"\", \"zerolinecolor\": \"white\"}, \"zaxis\": {\"backgroundcolor\": \"#E5ECF6\", \"gridcolor\": \"white\", \"gridwidth\": 2, \"linecolor\": \"white\", \"showbackground\": true, \"ticks\": \"\", \"zerolinecolor\": \"white\"}}, \"shapedefaults\": {\"line\": {\"color\": \"#2a3f5f\"}}, \"ternary\": {\"aaxis\": {\"gridcolor\": \"white\", \"linecolor\": \"white\", \"ticks\": \"\"}, \"baxis\": {\"gridcolor\": \"white\", \"linecolor\": \"white\", \"ticks\": \"\"}, \"bgcolor\": \"#E5ECF6\", \"caxis\": {\"gridcolor\": \"white\", \"linecolor\": \"white\", \"ticks\": \"\"}}, \"title\": {\"x\": 0.05}, \"xaxis\": {\"automargin\": true, \"gridcolor\": \"white\", \"linecolor\": \"white\", \"ticks\": \"\", \"title\": {\"standoff\": 15}, \"zerolinecolor\": \"white\", \"zerolinewidth\": 2}, \"yaxis\": {\"automargin\": true, \"gridcolor\": \"white\", \"linecolor\": \"white\", \"ticks\": \"\", \"title\": {\"standoff\": 15}, \"zerolinecolor\": \"white\", \"zerolinewidth\": 2}}}, \"title\": {\"font\": {\"color\": \"#4D5663\"}, \"text\": \"Number of State-Wise Accidents, USA\"}, \"xaxis\": {\"gridcolor\": \"#E1E5ED\", \"showgrid\": true, \"tickfont\": {\"color\": \"#4D5663\"}, \"title\": {\"font\": {\"color\": \"#4D5663\"}, \"text\": \"State\"}, \"zerolinecolor\": \"#E1E5ED\"}, \"yaxis\": {\"gridcolor\": \"#E1E5ED\", \"showgrid\": true, \"tickfont\": {\"color\": \"#4D5663\"}, \"title\": {\"font\": {\"color\": \"#4D5663\"}, \"text\": \"No. of Accidents\"}, \"zerolinecolor\": \"#E1E5ED\"}},                        {\"showLink\": true, \"linkText\": \"Export to plot.ly\", \"plotlyServerURL\": \"https://plot.ly\", \"responsive\": true}                    ).then(function(){\n",
       "                            \n",
       "var gd = document.getElementById('d92c44a7-f434-42a1-a080-1ea55b007538');\n",
       "var x = new MutationObserver(function (mutations, observer) {{\n",
       "        var display = window.getComputedStyle(gd).display;\n",
       "        if (!display || display === 'none') {{\n",
       "            console.log([gd, 'removed!']);\n",
       "            Plotly.purge(gd);\n",
       "            observer.disconnect();\n",
       "        }}\n",
       "}});\n",
       "\n",
       "// Listen for the removal of the full notebook cells\n",
       "var notebookContainer = gd.closest('#notebook-container');\n",
       "if (notebookContainer) {{\n",
       "    x.observe(notebookContainer, {childList: true});\n",
       "}}\n",
       "\n",
       "// Listen for the clearing of the current output cell\n",
       "var outputEl = gd.closest('.output');\n",
       "if (outputEl) {{\n",
       "    x.observe(outputEl, {childList: true});\n",
       "}}\n",
       "\n",
       "                        })                };                });            </script>        </div>"
      ]
     },
     "metadata": {},
     "output_type": "display_data"
    }
   ],
   "source": [
    "state_acc.iplot(kind=\"bar\", title=\"Number of State-Wise Accidents, USA\", xTitle=\"State\", yTitle=\"No. of Accidents\")"
   ]
  },
  {
   "cell_type": "markdown",
   "metadata": {},
   "source": [
    "<div style='background-color:navy; color:white; padding:20px'>\n",
    "    Graph for the accident happen throughouot the states of US.\n",
    "</div>"
   ]
  },
  {
   "cell_type": "markdown",
   "metadata": {
    "ExecuteTime": {
     "end_time": "2020-12-14T19:42:48.188846Z",
     "start_time": "2020-12-14T19:42:48.168243Z"
    }
   },
   "source": [
    "## Grouping by with Severity Level"
   ]
  },
  {
   "cell_type": "code",
   "execution_count": 24,
   "metadata": {
    "ExecuteTime": {
     "end_time": "2020-12-18T07:31:56.239412Z",
     "start_time": "2020-12-18T07:31:35.824163Z"
    }
   },
   "outputs": [],
   "source": [
    "g_severity = data1.groupby(\"Severity\").mean().compute()"
   ]
  },
  {
   "cell_type": "code",
   "execution_count": 25,
   "metadata": {
    "ExecuteTime": {
     "end_time": "2020-12-18T07:31:56.322940Z",
     "start_time": "2020-12-18T07:31:56.241415Z"
    }
   },
   "outputs": [
    {
     "data": {
      "application/vnd.plotly.v1+json": {
       "config": {
        "linkText": "Export to plot.ly",
        "plotlyServerURL": "https://plot.ly",
        "showLink": true
       },
       "data": [
        {
         "marker": {
          "color": "rgba(255, 153, 51, 0.6)",
          "line": {
           "color": "rgba(255, 153, 51, 1.0)",
           "width": 1
          }
         },
         "name": "Temperature(F)",
         "orientation": "v",
         "text": "",
         "type": "bar",
         "x": [
          1,
          2,
          3,
          4
         ],
         "y": [
          70.7005291005291,
          62.024901436419974,
          61.89509821303616,
          59.05130413729553
         ]
        },
        {
         "marker": {
          "color": "rgba(55, 128, 191, 0.6)",
          "line": {
           "color": "rgba(55, 128, 191, 1.0)",
           "width": 1
          }
         },
         "name": "Humidity(%)",
         "orientation": "v",
         "text": "",
         "type": "bar",
         "x": [
          1,
          2,
          3,
          4
         ],
         "y": [
          50.59648200707803,
          64.96011676912124,
          65.72709995489821,
          67.38425723304994
         ]
        },
        {
         "marker": {
          "color": "rgba(50, 171, 96, 0.6)",
          "line": {
           "color": "rgba(50, 171, 96, 1.0)",
           "width": 1
          }
         },
         "name": "Pressure(in)",
         "orientation": "v",
         "text": "",
         "type": "bar",
         "x": [
          1,
          2,
          3,
          4
         ],
         "y": [
          29.02534847051408,
          29.73626744489554,
          29.794130919609547,
          29.707945320284278
         ]
        },
        {
         "marker": {
          "color": "rgba(128, 0, 128, 0.6)",
          "line": {
           "color": "rgba(128, 0, 128, 1.0)",
           "width": 1
          }
         },
         "name": "Visibility(mi)",
         "orientation": "v",
         "text": "",
         "type": "bar",
         "x": [
          1,
          2,
          3,
          4
         ],
         "y": [
          9.515234941658782,
          9.127634899738132,
          9.098968288775868,
          9.115888871299674
         ]
        }
       ],
       "layout": {
        "legend": {
         "bgcolor": "#F5F6F9",
         "font": {
          "color": "#4D5663"
         }
        },
        "paper_bgcolor": "#F5F6F9",
        "plot_bgcolor": "#F5F6F9",
        "template": {
         "data": {
          "bar": [
           {
            "error_x": {
             "color": "#2a3f5f"
            },
            "error_y": {
             "color": "#2a3f5f"
            },
            "marker": {
             "line": {
              "color": "#E5ECF6",
              "width": 0.5
             }
            },
            "type": "bar"
           }
          ],
          "barpolar": [
           {
            "marker": {
             "line": {
              "color": "#E5ECF6",
              "width": 0.5
             }
            },
            "type": "barpolar"
           }
          ],
          "carpet": [
           {
            "aaxis": {
             "endlinecolor": "#2a3f5f",
             "gridcolor": "white",
             "linecolor": "white",
             "minorgridcolor": "white",
             "startlinecolor": "#2a3f5f"
            },
            "baxis": {
             "endlinecolor": "#2a3f5f",
             "gridcolor": "white",
             "linecolor": "white",
             "minorgridcolor": "white",
             "startlinecolor": "#2a3f5f"
            },
            "type": "carpet"
           }
          ],
          "choropleth": [
           {
            "colorbar": {
             "outlinewidth": 0,
             "ticks": ""
            },
            "type": "choropleth"
           }
          ],
          "contour": [
           {
            "colorbar": {
             "outlinewidth": 0,
             "ticks": ""
            },
            "colorscale": [
             [
              0,
              "#0d0887"
             ],
             [
              0.1111111111111111,
              "#46039f"
             ],
             [
              0.2222222222222222,
              "#7201a8"
             ],
             [
              0.3333333333333333,
              "#9c179e"
             ],
             [
              0.4444444444444444,
              "#bd3786"
             ],
             [
              0.5555555555555556,
              "#d8576b"
             ],
             [
              0.6666666666666666,
              "#ed7953"
             ],
             [
              0.7777777777777778,
              "#fb9f3a"
             ],
             [
              0.8888888888888888,
              "#fdca26"
             ],
             [
              1,
              "#f0f921"
             ]
            ],
            "type": "contour"
           }
          ],
          "contourcarpet": [
           {
            "colorbar": {
             "outlinewidth": 0,
             "ticks": ""
            },
            "type": "contourcarpet"
           }
          ],
          "heatmap": [
           {
            "colorbar": {
             "outlinewidth": 0,
             "ticks": ""
            },
            "colorscale": [
             [
              0,
              "#0d0887"
             ],
             [
              0.1111111111111111,
              "#46039f"
             ],
             [
              0.2222222222222222,
              "#7201a8"
             ],
             [
              0.3333333333333333,
              "#9c179e"
             ],
             [
              0.4444444444444444,
              "#bd3786"
             ],
             [
              0.5555555555555556,
              "#d8576b"
             ],
             [
              0.6666666666666666,
              "#ed7953"
             ],
             [
              0.7777777777777778,
              "#fb9f3a"
             ],
             [
              0.8888888888888888,
              "#fdca26"
             ],
             [
              1,
              "#f0f921"
             ]
            ],
            "type": "heatmap"
           }
          ],
          "heatmapgl": [
           {
            "colorbar": {
             "outlinewidth": 0,
             "ticks": ""
            },
            "colorscale": [
             [
              0,
              "#0d0887"
             ],
             [
              0.1111111111111111,
              "#46039f"
             ],
             [
              0.2222222222222222,
              "#7201a8"
             ],
             [
              0.3333333333333333,
              "#9c179e"
             ],
             [
              0.4444444444444444,
              "#bd3786"
             ],
             [
              0.5555555555555556,
              "#d8576b"
             ],
             [
              0.6666666666666666,
              "#ed7953"
             ],
             [
              0.7777777777777778,
              "#fb9f3a"
             ],
             [
              0.8888888888888888,
              "#fdca26"
             ],
             [
              1,
              "#f0f921"
             ]
            ],
            "type": "heatmapgl"
           }
          ],
          "histogram": [
           {
            "marker": {
             "colorbar": {
              "outlinewidth": 0,
              "ticks": ""
             }
            },
            "type": "histogram"
           }
          ],
          "histogram2d": [
           {
            "colorbar": {
             "outlinewidth": 0,
             "ticks": ""
            },
            "colorscale": [
             [
              0,
              "#0d0887"
             ],
             [
              0.1111111111111111,
              "#46039f"
             ],
             [
              0.2222222222222222,
              "#7201a8"
             ],
             [
              0.3333333333333333,
              "#9c179e"
             ],
             [
              0.4444444444444444,
              "#bd3786"
             ],
             [
              0.5555555555555556,
              "#d8576b"
             ],
             [
              0.6666666666666666,
              "#ed7953"
             ],
             [
              0.7777777777777778,
              "#fb9f3a"
             ],
             [
              0.8888888888888888,
              "#fdca26"
             ],
             [
              1,
              "#f0f921"
             ]
            ],
            "type": "histogram2d"
           }
          ],
          "histogram2dcontour": [
           {
            "colorbar": {
             "outlinewidth": 0,
             "ticks": ""
            },
            "colorscale": [
             [
              0,
              "#0d0887"
             ],
             [
              0.1111111111111111,
              "#46039f"
             ],
             [
              0.2222222222222222,
              "#7201a8"
             ],
             [
              0.3333333333333333,
              "#9c179e"
             ],
             [
              0.4444444444444444,
              "#bd3786"
             ],
             [
              0.5555555555555556,
              "#d8576b"
             ],
             [
              0.6666666666666666,
              "#ed7953"
             ],
             [
              0.7777777777777778,
              "#fb9f3a"
             ],
             [
              0.8888888888888888,
              "#fdca26"
             ],
             [
              1,
              "#f0f921"
             ]
            ],
            "type": "histogram2dcontour"
           }
          ],
          "mesh3d": [
           {
            "colorbar": {
             "outlinewidth": 0,
             "ticks": ""
            },
            "type": "mesh3d"
           }
          ],
          "parcoords": [
           {
            "line": {
             "colorbar": {
              "outlinewidth": 0,
              "ticks": ""
             }
            },
            "type": "parcoords"
           }
          ],
          "pie": [
           {
            "automargin": true,
            "type": "pie"
           }
          ],
          "scatter": [
           {
            "marker": {
             "colorbar": {
              "outlinewidth": 0,
              "ticks": ""
             }
            },
            "type": "scatter"
           }
          ],
          "scatter3d": [
           {
            "line": {
             "colorbar": {
              "outlinewidth": 0,
              "ticks": ""
             }
            },
            "marker": {
             "colorbar": {
              "outlinewidth": 0,
              "ticks": ""
             }
            },
            "type": "scatter3d"
           }
          ],
          "scattercarpet": [
           {
            "marker": {
             "colorbar": {
              "outlinewidth": 0,
              "ticks": ""
             }
            },
            "type": "scattercarpet"
           }
          ],
          "scattergeo": [
           {
            "marker": {
             "colorbar": {
              "outlinewidth": 0,
              "ticks": ""
             }
            },
            "type": "scattergeo"
           }
          ],
          "scattergl": [
           {
            "marker": {
             "colorbar": {
              "outlinewidth": 0,
              "ticks": ""
             }
            },
            "type": "scattergl"
           }
          ],
          "scattermapbox": [
           {
            "marker": {
             "colorbar": {
              "outlinewidth": 0,
              "ticks": ""
             }
            },
            "type": "scattermapbox"
           }
          ],
          "scatterpolar": [
           {
            "marker": {
             "colorbar": {
              "outlinewidth": 0,
              "ticks": ""
             }
            },
            "type": "scatterpolar"
           }
          ],
          "scatterpolargl": [
           {
            "marker": {
             "colorbar": {
              "outlinewidth": 0,
              "ticks": ""
             }
            },
            "type": "scatterpolargl"
           }
          ],
          "scatterternary": [
           {
            "marker": {
             "colorbar": {
              "outlinewidth": 0,
              "ticks": ""
             }
            },
            "type": "scatterternary"
           }
          ],
          "surface": [
           {
            "colorbar": {
             "outlinewidth": 0,
             "ticks": ""
            },
            "colorscale": [
             [
              0,
              "#0d0887"
             ],
             [
              0.1111111111111111,
              "#46039f"
             ],
             [
              0.2222222222222222,
              "#7201a8"
             ],
             [
              0.3333333333333333,
              "#9c179e"
             ],
             [
              0.4444444444444444,
              "#bd3786"
             ],
             [
              0.5555555555555556,
              "#d8576b"
             ],
             [
              0.6666666666666666,
              "#ed7953"
             ],
             [
              0.7777777777777778,
              "#fb9f3a"
             ],
             [
              0.8888888888888888,
              "#fdca26"
             ],
             [
              1,
              "#f0f921"
             ]
            ],
            "type": "surface"
           }
          ],
          "table": [
           {
            "cells": {
             "fill": {
              "color": "#EBF0F8"
             },
             "line": {
              "color": "white"
             }
            },
            "header": {
             "fill": {
              "color": "#C8D4E3"
             },
             "line": {
              "color": "white"
             }
            },
            "type": "table"
           }
          ]
         },
         "layout": {
          "annotationdefaults": {
           "arrowcolor": "#2a3f5f",
           "arrowhead": 0,
           "arrowwidth": 1
          },
          "coloraxis": {
           "colorbar": {
            "outlinewidth": 0,
            "ticks": ""
           }
          },
          "colorscale": {
           "diverging": [
            [
             0,
             "#8e0152"
            ],
            [
             0.1,
             "#c51b7d"
            ],
            [
             0.2,
             "#de77ae"
            ],
            [
             0.3,
             "#f1b6da"
            ],
            [
             0.4,
             "#fde0ef"
            ],
            [
             0.5,
             "#f7f7f7"
            ],
            [
             0.6,
             "#e6f5d0"
            ],
            [
             0.7,
             "#b8e186"
            ],
            [
             0.8,
             "#7fbc41"
            ],
            [
             0.9,
             "#4d9221"
            ],
            [
             1,
             "#276419"
            ]
           ],
           "sequential": [
            [
             0,
             "#0d0887"
            ],
            [
             0.1111111111111111,
             "#46039f"
            ],
            [
             0.2222222222222222,
             "#7201a8"
            ],
            [
             0.3333333333333333,
             "#9c179e"
            ],
            [
             0.4444444444444444,
             "#bd3786"
            ],
            [
             0.5555555555555556,
             "#d8576b"
            ],
            [
             0.6666666666666666,
             "#ed7953"
            ],
            [
             0.7777777777777778,
             "#fb9f3a"
            ],
            [
             0.8888888888888888,
             "#fdca26"
            ],
            [
             1,
             "#f0f921"
            ]
           ],
           "sequentialminus": [
            [
             0,
             "#0d0887"
            ],
            [
             0.1111111111111111,
             "#46039f"
            ],
            [
             0.2222222222222222,
             "#7201a8"
            ],
            [
             0.3333333333333333,
             "#9c179e"
            ],
            [
             0.4444444444444444,
             "#bd3786"
            ],
            [
             0.5555555555555556,
             "#d8576b"
            ],
            [
             0.6666666666666666,
             "#ed7953"
            ],
            [
             0.7777777777777778,
             "#fb9f3a"
            ],
            [
             0.8888888888888888,
             "#fdca26"
            ],
            [
             1,
             "#f0f921"
            ]
           ]
          },
          "colorway": [
           "#636efa",
           "#EF553B",
           "#00cc96",
           "#ab63fa",
           "#FFA15A",
           "#19d3f3",
           "#FF6692",
           "#B6E880",
           "#FF97FF",
           "#FECB52"
          ],
          "font": {
           "color": "#2a3f5f"
          },
          "geo": {
           "bgcolor": "white",
           "lakecolor": "white",
           "landcolor": "#E5ECF6",
           "showlakes": true,
           "showland": true,
           "subunitcolor": "white"
          },
          "hoverlabel": {
           "align": "left"
          },
          "hovermode": "closest",
          "mapbox": {
           "style": "light"
          },
          "paper_bgcolor": "white",
          "plot_bgcolor": "#E5ECF6",
          "polar": {
           "angularaxis": {
            "gridcolor": "white",
            "linecolor": "white",
            "ticks": ""
           },
           "bgcolor": "#E5ECF6",
           "radialaxis": {
            "gridcolor": "white",
            "linecolor": "white",
            "ticks": ""
           }
          },
          "scene": {
           "xaxis": {
            "backgroundcolor": "#E5ECF6",
            "gridcolor": "white",
            "gridwidth": 2,
            "linecolor": "white",
            "showbackground": true,
            "ticks": "",
            "zerolinecolor": "white"
           },
           "yaxis": {
            "backgroundcolor": "#E5ECF6",
            "gridcolor": "white",
            "gridwidth": 2,
            "linecolor": "white",
            "showbackground": true,
            "ticks": "",
            "zerolinecolor": "white"
           },
           "zaxis": {
            "backgroundcolor": "#E5ECF6",
            "gridcolor": "white",
            "gridwidth": 2,
            "linecolor": "white",
            "showbackground": true,
            "ticks": "",
            "zerolinecolor": "white"
           }
          },
          "shapedefaults": {
           "line": {
            "color": "#2a3f5f"
           }
          },
          "ternary": {
           "aaxis": {
            "gridcolor": "white",
            "linecolor": "white",
            "ticks": ""
           },
           "baxis": {
            "gridcolor": "white",
            "linecolor": "white",
            "ticks": ""
           },
           "bgcolor": "#E5ECF6",
           "caxis": {
            "gridcolor": "white",
            "linecolor": "white",
            "ticks": ""
           }
          },
          "title": {
           "x": 0.05
          },
          "xaxis": {
           "automargin": true,
           "gridcolor": "white",
           "linecolor": "white",
           "ticks": "",
           "title": {
            "standoff": 15
           },
           "zerolinecolor": "white",
           "zerolinewidth": 2
          },
          "yaxis": {
           "automargin": true,
           "gridcolor": "white",
           "linecolor": "white",
           "ticks": "",
           "title": {
            "standoff": 15
           },
           "zerolinecolor": "white",
           "zerolinewidth": 2
          }
         }
        },
        "title": {
         "font": {
          "color": "#4D5663"
         },
         "text": "Mean value of Attributes According to Severity Level"
        },
        "xaxis": {
         "gridcolor": "#E1E5ED",
         "showgrid": true,
         "tickfont": {
          "color": "#4D5663"
         },
         "title": {
          "font": {
           "color": "#4D5663"
          },
          "text": "Severity Level"
         },
         "zerolinecolor": "#E1E5ED"
        },
        "yaxis": {
         "gridcolor": "#E1E5ED",
         "showgrid": true,
         "tickfont": {
          "color": "#4D5663"
         },
         "title": {
          "font": {
           "color": "#4D5663"
          },
          "text": "Values"
         },
         "zerolinecolor": "#E1E5ED"
        }
       }
      },
      "text/html": [
       "<div>                            <div id=\"defd226c-faf0-486c-818a-a166b407f282\" class=\"plotly-graph-div\" style=\"height:525px; width:100%;\"></div>            <script type=\"text/javascript\">                require([\"plotly\"], function(Plotly) {                    window.PLOTLYENV=window.PLOTLYENV || {};\n",
       "                    window.PLOTLYENV.BASE_URL='https://plot.ly';                                    if (document.getElementById(\"defd226c-faf0-486c-818a-a166b407f282\")) {                    Plotly.newPlot(                        \"defd226c-faf0-486c-818a-a166b407f282\",                        [{\"marker\": {\"color\": \"rgba(255, 153, 51, 0.6)\", \"line\": {\"color\": \"rgba(255, 153, 51, 1.0)\", \"width\": 1}}, \"name\": \"Temperature(F)\", \"orientation\": \"v\", \"text\": \"\", \"type\": \"bar\", \"x\": [1, 2, 3, 4], \"y\": [70.7005291005291, 62.024901436419974, 61.89509821303616, 59.05130413729553]}, {\"marker\": {\"color\": \"rgba(55, 128, 191, 0.6)\", \"line\": {\"color\": \"rgba(55, 128, 191, 1.0)\", \"width\": 1}}, \"name\": \"Humidity(%)\", \"orientation\": \"v\", \"text\": \"\", \"type\": \"bar\", \"x\": [1, 2, 3, 4], \"y\": [50.59648200707803, 64.96011676912124, 65.72709995489821, 67.38425723304994]}, {\"marker\": {\"color\": \"rgba(50, 171, 96, 0.6)\", \"line\": {\"color\": \"rgba(50, 171, 96, 1.0)\", \"width\": 1}}, \"name\": \"Pressure(in)\", \"orientation\": \"v\", \"text\": \"\", \"type\": \"bar\", \"x\": [1, 2, 3, 4], \"y\": [29.02534847051408, 29.73626744489554, 29.794130919609547, 29.707945320284278]}, {\"marker\": {\"color\": \"rgba(128, 0, 128, 0.6)\", \"line\": {\"color\": \"rgba(128, 0, 128, 1.0)\", \"width\": 1}}, \"name\": \"Visibility(mi)\", \"orientation\": \"v\", \"text\": \"\", \"type\": \"bar\", \"x\": [1, 2, 3, 4], \"y\": [9.515234941658782, 9.127634899738132, 9.098968288775868, 9.115888871299674]}],                        {\"legend\": {\"bgcolor\": \"#F5F6F9\", \"font\": {\"color\": \"#4D5663\"}}, \"paper_bgcolor\": \"#F5F6F9\", \"plot_bgcolor\": \"#F5F6F9\", \"template\": {\"data\": {\"bar\": [{\"error_x\": {\"color\": \"#2a3f5f\"}, \"error_y\": {\"color\": \"#2a3f5f\"}, \"marker\": {\"line\": {\"color\": \"#E5ECF6\", \"width\": 0.5}}, \"type\": \"bar\"}], \"barpolar\": [{\"marker\": {\"line\": {\"color\": \"#E5ECF6\", \"width\": 0.5}}, \"type\": \"barpolar\"}], \"carpet\": [{\"aaxis\": {\"endlinecolor\": \"#2a3f5f\", \"gridcolor\": \"white\", \"linecolor\": \"white\", \"minorgridcolor\": \"white\", \"startlinecolor\": \"#2a3f5f\"}, \"baxis\": {\"endlinecolor\": \"#2a3f5f\", \"gridcolor\": \"white\", \"linecolor\": \"white\", \"minorgridcolor\": \"white\", \"startlinecolor\": \"#2a3f5f\"}, \"type\": \"carpet\"}], \"choropleth\": [{\"colorbar\": {\"outlinewidth\": 0, \"ticks\": \"\"}, \"type\": \"choropleth\"}], \"contour\": [{\"colorbar\": {\"outlinewidth\": 0, \"ticks\": \"\"}, \"colorscale\": [[0.0, \"#0d0887\"], [0.1111111111111111, \"#46039f\"], [0.2222222222222222, \"#7201a8\"], [0.3333333333333333, \"#9c179e\"], [0.4444444444444444, \"#bd3786\"], [0.5555555555555556, \"#d8576b\"], [0.6666666666666666, \"#ed7953\"], [0.7777777777777778, \"#fb9f3a\"], [0.8888888888888888, \"#fdca26\"], [1.0, \"#f0f921\"]], \"type\": \"contour\"}], \"contourcarpet\": [{\"colorbar\": {\"outlinewidth\": 0, \"ticks\": \"\"}, \"type\": \"contourcarpet\"}], \"heatmap\": [{\"colorbar\": {\"outlinewidth\": 0, \"ticks\": \"\"}, \"colorscale\": [[0.0, \"#0d0887\"], [0.1111111111111111, \"#46039f\"], [0.2222222222222222, \"#7201a8\"], [0.3333333333333333, \"#9c179e\"], [0.4444444444444444, \"#bd3786\"], [0.5555555555555556, \"#d8576b\"], [0.6666666666666666, \"#ed7953\"], [0.7777777777777778, \"#fb9f3a\"], [0.8888888888888888, \"#fdca26\"], [1.0, \"#f0f921\"]], \"type\": \"heatmap\"}], \"heatmapgl\": [{\"colorbar\": {\"outlinewidth\": 0, \"ticks\": \"\"}, \"colorscale\": [[0.0, \"#0d0887\"], [0.1111111111111111, \"#46039f\"], [0.2222222222222222, \"#7201a8\"], [0.3333333333333333, \"#9c179e\"], [0.4444444444444444, \"#bd3786\"], [0.5555555555555556, \"#d8576b\"], [0.6666666666666666, \"#ed7953\"], [0.7777777777777778, \"#fb9f3a\"], [0.8888888888888888, \"#fdca26\"], [1.0, \"#f0f921\"]], \"type\": \"heatmapgl\"}], \"histogram\": [{\"marker\": {\"colorbar\": {\"outlinewidth\": 0, \"ticks\": \"\"}}, \"type\": \"histogram\"}], \"histogram2d\": [{\"colorbar\": {\"outlinewidth\": 0, \"ticks\": \"\"}, \"colorscale\": [[0.0, \"#0d0887\"], [0.1111111111111111, \"#46039f\"], [0.2222222222222222, \"#7201a8\"], [0.3333333333333333, \"#9c179e\"], [0.4444444444444444, \"#bd3786\"], [0.5555555555555556, \"#d8576b\"], [0.6666666666666666, \"#ed7953\"], [0.7777777777777778, \"#fb9f3a\"], [0.8888888888888888, \"#fdca26\"], [1.0, \"#f0f921\"]], \"type\": \"histogram2d\"}], \"histogram2dcontour\": [{\"colorbar\": {\"outlinewidth\": 0, \"ticks\": \"\"}, \"colorscale\": [[0.0, \"#0d0887\"], [0.1111111111111111, \"#46039f\"], [0.2222222222222222, \"#7201a8\"], [0.3333333333333333, \"#9c179e\"], [0.4444444444444444, \"#bd3786\"], [0.5555555555555556, \"#d8576b\"], [0.6666666666666666, \"#ed7953\"], [0.7777777777777778, \"#fb9f3a\"], [0.8888888888888888, \"#fdca26\"], [1.0, \"#f0f921\"]], \"type\": \"histogram2dcontour\"}], \"mesh3d\": [{\"colorbar\": {\"outlinewidth\": 0, \"ticks\": \"\"}, \"type\": \"mesh3d\"}], \"parcoords\": [{\"line\": {\"colorbar\": {\"outlinewidth\": 0, \"ticks\": \"\"}}, \"type\": \"parcoords\"}], \"pie\": [{\"automargin\": true, \"type\": \"pie\"}], \"scatter\": [{\"marker\": {\"colorbar\": {\"outlinewidth\": 0, \"ticks\": \"\"}}, \"type\": \"scatter\"}], \"scatter3d\": [{\"line\": {\"colorbar\": {\"outlinewidth\": 0, \"ticks\": \"\"}}, \"marker\": {\"colorbar\": {\"outlinewidth\": 0, \"ticks\": \"\"}}, \"type\": \"scatter3d\"}], \"scattercarpet\": [{\"marker\": {\"colorbar\": {\"outlinewidth\": 0, \"ticks\": \"\"}}, \"type\": \"scattercarpet\"}], \"scattergeo\": [{\"marker\": {\"colorbar\": {\"outlinewidth\": 0, \"ticks\": \"\"}}, \"type\": \"scattergeo\"}], \"scattergl\": [{\"marker\": {\"colorbar\": {\"outlinewidth\": 0, \"ticks\": \"\"}}, \"type\": \"scattergl\"}], \"scattermapbox\": [{\"marker\": {\"colorbar\": {\"outlinewidth\": 0, \"ticks\": \"\"}}, \"type\": \"scattermapbox\"}], \"scatterpolar\": [{\"marker\": {\"colorbar\": {\"outlinewidth\": 0, \"ticks\": \"\"}}, \"type\": \"scatterpolar\"}], \"scatterpolargl\": [{\"marker\": {\"colorbar\": {\"outlinewidth\": 0, \"ticks\": \"\"}}, \"type\": \"scatterpolargl\"}], \"scatterternary\": [{\"marker\": {\"colorbar\": {\"outlinewidth\": 0, \"ticks\": \"\"}}, \"type\": \"scatterternary\"}], \"surface\": [{\"colorbar\": {\"outlinewidth\": 0, \"ticks\": \"\"}, \"colorscale\": [[0.0, \"#0d0887\"], [0.1111111111111111, \"#46039f\"], [0.2222222222222222, \"#7201a8\"], [0.3333333333333333, \"#9c179e\"], [0.4444444444444444, \"#bd3786\"], [0.5555555555555556, \"#d8576b\"], [0.6666666666666666, \"#ed7953\"], [0.7777777777777778, \"#fb9f3a\"], [0.8888888888888888, \"#fdca26\"], [1.0, \"#f0f921\"]], \"type\": \"surface\"}], \"table\": [{\"cells\": {\"fill\": {\"color\": \"#EBF0F8\"}, \"line\": {\"color\": \"white\"}}, \"header\": {\"fill\": {\"color\": \"#C8D4E3\"}, \"line\": {\"color\": \"white\"}}, \"type\": \"table\"}]}, \"layout\": {\"annotationdefaults\": {\"arrowcolor\": \"#2a3f5f\", \"arrowhead\": 0, \"arrowwidth\": 1}, \"coloraxis\": {\"colorbar\": {\"outlinewidth\": 0, \"ticks\": \"\"}}, \"colorscale\": {\"diverging\": [[0, \"#8e0152\"], [0.1, \"#c51b7d\"], [0.2, \"#de77ae\"], [0.3, \"#f1b6da\"], [0.4, \"#fde0ef\"], [0.5, \"#f7f7f7\"], [0.6, \"#e6f5d0\"], [0.7, \"#b8e186\"], [0.8, \"#7fbc41\"], [0.9, \"#4d9221\"], [1, \"#276419\"]], \"sequential\": [[0.0, \"#0d0887\"], [0.1111111111111111, \"#46039f\"], [0.2222222222222222, \"#7201a8\"], [0.3333333333333333, \"#9c179e\"], [0.4444444444444444, \"#bd3786\"], [0.5555555555555556, \"#d8576b\"], [0.6666666666666666, \"#ed7953\"], [0.7777777777777778, \"#fb9f3a\"], [0.8888888888888888, \"#fdca26\"], [1.0, \"#f0f921\"]], \"sequentialminus\": [[0.0, \"#0d0887\"], [0.1111111111111111, \"#46039f\"], [0.2222222222222222, \"#7201a8\"], [0.3333333333333333, \"#9c179e\"], [0.4444444444444444, \"#bd3786\"], [0.5555555555555556, \"#d8576b\"], [0.6666666666666666, \"#ed7953\"], [0.7777777777777778, \"#fb9f3a\"], [0.8888888888888888, \"#fdca26\"], [1.0, \"#f0f921\"]]}, \"colorway\": [\"#636efa\", \"#EF553B\", \"#00cc96\", \"#ab63fa\", \"#FFA15A\", \"#19d3f3\", \"#FF6692\", \"#B6E880\", \"#FF97FF\", \"#FECB52\"], \"font\": {\"color\": \"#2a3f5f\"}, \"geo\": {\"bgcolor\": \"white\", \"lakecolor\": \"white\", \"landcolor\": \"#E5ECF6\", \"showlakes\": true, \"showland\": true, \"subunitcolor\": \"white\"}, \"hoverlabel\": {\"align\": \"left\"}, \"hovermode\": \"closest\", \"mapbox\": {\"style\": \"light\"}, \"paper_bgcolor\": \"white\", \"plot_bgcolor\": \"#E5ECF6\", \"polar\": {\"angularaxis\": {\"gridcolor\": \"white\", \"linecolor\": \"white\", \"ticks\": \"\"}, \"bgcolor\": \"#E5ECF6\", \"radialaxis\": {\"gridcolor\": \"white\", \"linecolor\": \"white\", \"ticks\": \"\"}}, \"scene\": {\"xaxis\": {\"backgroundcolor\": \"#E5ECF6\", \"gridcolor\": \"white\", \"gridwidth\": 2, \"linecolor\": \"white\", \"showbackground\": true, \"ticks\": \"\", \"zerolinecolor\": \"white\"}, \"yaxis\": {\"backgroundcolor\": \"#E5ECF6\", \"gridcolor\": \"white\", \"gridwidth\": 2, \"linecolor\": \"white\", \"showbackground\": true, \"ticks\": \"\", \"zerolinecolor\": \"white\"}, \"zaxis\": {\"backgroundcolor\": \"#E5ECF6\", \"gridcolor\": \"white\", \"gridwidth\": 2, \"linecolor\": \"white\", \"showbackground\": true, \"ticks\": \"\", \"zerolinecolor\": \"white\"}}, \"shapedefaults\": {\"line\": {\"color\": \"#2a3f5f\"}}, \"ternary\": {\"aaxis\": {\"gridcolor\": \"white\", \"linecolor\": \"white\", \"ticks\": \"\"}, \"baxis\": {\"gridcolor\": \"white\", \"linecolor\": \"white\", \"ticks\": \"\"}, \"bgcolor\": \"#E5ECF6\", \"caxis\": {\"gridcolor\": \"white\", \"linecolor\": \"white\", \"ticks\": \"\"}}, \"title\": {\"x\": 0.05}, \"xaxis\": {\"automargin\": true, \"gridcolor\": \"white\", \"linecolor\": \"white\", \"ticks\": \"\", \"title\": {\"standoff\": 15}, \"zerolinecolor\": \"white\", \"zerolinewidth\": 2}, \"yaxis\": {\"automargin\": true, \"gridcolor\": \"white\", \"linecolor\": \"white\", \"ticks\": \"\", \"title\": {\"standoff\": 15}, \"zerolinecolor\": \"white\", \"zerolinewidth\": 2}}}, \"title\": {\"font\": {\"color\": \"#4D5663\"}, \"text\": \"Mean value of Attributes According to Severity Level\"}, \"xaxis\": {\"gridcolor\": \"#E1E5ED\", \"showgrid\": true, \"tickfont\": {\"color\": \"#4D5663\"}, \"title\": {\"font\": {\"color\": \"#4D5663\"}, \"text\": \"Severity Level\"}, \"zerolinecolor\": \"#E1E5ED\"}, \"yaxis\": {\"gridcolor\": \"#E1E5ED\", \"showgrid\": true, \"tickfont\": {\"color\": \"#4D5663\"}, \"title\": {\"font\": {\"color\": \"#4D5663\"}, \"text\": \"Values\"}, \"zerolinecolor\": \"#E1E5ED\"}},                        {\"showLink\": true, \"linkText\": \"Export to plot.ly\", \"plotlyServerURL\": \"https://plot.ly\", \"responsive\": true}                    ).then(function(){\n",
       "                            \n",
       "var gd = document.getElementById('defd226c-faf0-486c-818a-a166b407f282');\n",
       "var x = new MutationObserver(function (mutations, observer) {{\n",
       "        var display = window.getComputedStyle(gd).display;\n",
       "        if (!display || display === 'none') {{\n",
       "            console.log([gd, 'removed!']);\n",
       "            Plotly.purge(gd);\n",
       "            observer.disconnect();\n",
       "        }}\n",
       "}});\n",
       "\n",
       "// Listen for the removal of the full notebook cells\n",
       "var notebookContainer = gd.closest('#notebook-container');\n",
       "if (notebookContainer) {{\n",
       "    x.observe(notebookContainer, {childList: true});\n",
       "}}\n",
       "\n",
       "// Listen for the clearing of the current output cell\n",
       "var outputEl = gd.closest('.output');\n",
       "if (outputEl) {{\n",
       "    x.observe(outputEl, {childList: true});\n",
       "}}\n",
       "\n",
       "                        })                };                });            </script>        </div>"
      ]
     },
     "metadata": {},
     "output_type": "display_data"
    }
   ],
   "source": [
    "g_severity.iloc[:,2:].iplot(kind = \"bar\", title=\"Mean value of Attributes According to Severity Level\", yTitle=\"Values\",\n",
    "                            xTitle=\"Severity Level\", opacity=0.6)"
   ]
  },
  {
   "cell_type": "markdown",
   "metadata": {},
   "source": [
    "<div style='background-color:navy; color:white; padding:20px'>\n",
    "    <li> For the severity level 1, mean temperature is higher than severity level 4\n",
    "    <li> For hiher severity level mean humidity is slightly higher.\n",
    "    <li> Mean pressure and visibility has no change over the severity level of accidents.\n",
    "</div>"
   ]
  },
  {
   "cell_type": "markdown",
   "metadata": {},
   "source": [
    "## Time Series"
   ]
  },
  {
   "cell_type": "code",
   "execution_count": 26,
   "metadata": {
    "ExecuteTime": {
     "end_time": "2020-12-18T07:33:31.635054Z",
     "start_time": "2020-12-18T07:31:56.325949Z"
    }
   },
   "outputs": [],
   "source": [
    "month_g = data1.set_index(\"Start_Time\",drop=True)\n",
    "month_gr = month_g.resample(\"MS\")\n",
    "acc_timeseries = month_gr.count().Severity.compute()\n",
    "month_df = month_gr.mean()\n",
    "month_df[\"Accident_Count\"] = acc_timeseries\n",
    "dfm = month_df.compute()"
   ]
  },
  {
   "cell_type": "code",
   "execution_count": 27,
   "metadata": {
    "ExecuteTime": {
     "end_time": "2020-12-18T07:33:31.855588Z",
     "start_time": "2020-12-18T07:33:31.637055Z"
    }
   },
   "outputs": [
    {
     "data": {
      "application/vnd.plotly.v1+json": {
       "config": {
        "linkText": "Export to plot.ly",
        "plotlyServerURL": "https://plot.ly",
        "showLink": true
       },
       "data": [
        {
         "line": {
          "color": "rgba(255, 153, 51, 1.0)",
          "dash": "solid",
          "shape": "linear",
          "width": 1.3
         },
         "mode": "lines",
         "name": "Temperature(F)",
         "text": "",
         "type": "scatter",
         "x": [
          "2016-02-01",
          "2016-03-01",
          "2016-04-01",
          "2016-05-01",
          "2016-06-01",
          "2016-07-01",
          "2016-08-01",
          "2016-09-01",
          "2016-10-01",
          "2016-11-01",
          "2016-12-01",
          "2017-01-01",
          "2017-02-01",
          "2017-03-01",
          "2017-04-01",
          "2017-05-01",
          "2017-06-01",
          "2017-07-01",
          "2017-08-01",
          "2017-09-01",
          "2017-10-01",
          "2017-11-01",
          "2017-12-01",
          "2018-01-01",
          "2018-02-01",
          "2018-03-01",
          "2018-04-01",
          "2018-05-01",
          "2018-06-01",
          "2018-07-01",
          "2018-08-01",
          "2018-09-01",
          "2018-10-01",
          "2018-11-01",
          "2018-12-01",
          "2019-01-01",
          "2019-02-01",
          "2019-03-01",
          "2019-04-01",
          "2019-05-01",
          "2019-06-01",
          "2019-07-01",
          "2019-08-01",
          "2019-09-01",
          "2019-10-01",
          "2019-11-01",
          "2019-12-01",
          "2020-01-01",
          "2020-02-01",
          "2020-03-01",
          "2020-04-01",
          "2020-05-01",
          "2020-06-01"
         ],
         "y": [
          32.16474820143883,
          57.92785818832379,
          62.88239863906951,
          66.043759117698,
          76.27837162162152,
          80.90831703643842,
          78.86646171249271,
          74.54119653288178,
          66.33460601439431,
          58.91981711195986,
          46.404525527046346,
          47.5241641194889,
          52.35658905352291,
          55.41961731943904,
          64.24166382106864,
          68.09065332138219,
          75.2683041273793,
          79.47970128665459,
          77.69612225869369,
          73.57843552946157,
          65.36266607922273,
          55.71441575466593,
          44.70834702643466,
          41.52782434578523,
          48.88756188029426,
          51.881492524951554,
          58.578432366945876,
          71.74169095426926,
          75.8655959845403,
          80.19464483776757,
          78.75169372054603,
          73.79790736215259,
          63.024787793880655,
          50.28847099649256,
          45.40662182755984,
          41.314104791040435,
          43.00583872299397,
          49.691457197322805,
          61.32867132867133,
          68.11026637069922,
          74.97593649996863,
          79.52693259458702,
          79.23332876148676,
          75.45220622935346,
          63.84937680513288,
          51.27728357833899,
          46.876171739382016,
          46.13881866495882,
          48.955122044974054,
          55.91291648636954,
          59.858330687177315,
          68.60425663537838,
          76.491501372417
         ]
        },
        {
         "line": {
          "color": "rgba(55, 128, 191, 1.0)",
          "dash": "solid",
          "shape": "linear",
          "width": 1.3
         },
         "mode": "lines",
         "name": "Humidity(%)",
         "text": "",
         "type": "scatter",
         "x": [
          "2016-02-01",
          "2016-03-01",
          "2016-04-01",
          "2016-05-01",
          "2016-06-01",
          "2016-07-01",
          "2016-08-01",
          "2016-09-01",
          "2016-10-01",
          "2016-11-01",
          "2016-12-01",
          "2017-01-01",
          "2017-02-01",
          "2017-03-01",
          "2017-04-01",
          "2017-05-01",
          "2017-06-01",
          "2017-07-01",
          "2017-08-01",
          "2017-09-01",
          "2017-10-01",
          "2017-11-01",
          "2017-12-01",
          "2018-01-01",
          "2018-02-01",
          "2018-03-01",
          "2018-04-01",
          "2018-05-01",
          "2018-06-01",
          "2018-07-01",
          "2018-08-01",
          "2018-09-01",
          "2018-10-01",
          "2018-11-01",
          "2018-12-01",
          "2019-01-01",
          "2019-02-01",
          "2019-03-01",
          "2019-04-01",
          "2019-05-01",
          "2019-06-01",
          "2019-07-01",
          "2019-08-01",
          "2019-09-01",
          "2019-10-01",
          "2019-11-01",
          "2019-12-01",
          "2020-01-01",
          "2020-02-01",
          "2020-03-01",
          "2020-04-01",
          "2020-05-01",
          "2020-06-01"
         ],
         "y": [
          75.79547790339157,
          55.62872011709221,
          56.04088460447973,
          60.67193791211997,
          57.648918918918916,
          60.180277384404434,
          64.96068163987667,
          64.06093838326738,
          65.99239366945008,
          64.6215330788804,
          68.79611548739804,
          72.37575712115813,
          68.31361757887309,
          60.95490477901545,
          62.253393375448184,
          61.17371277761179,
          63.045921544209214,
          63.8687659048208,
          67.26623069750808,
          64.85369101978691,
          64.55463920364582,
          66.65469649879955,
          64.59618322811266,
          66.18301456880481,
          69.9231168906144,
          62.25557350119408,
          60.34296903614797,
          65.05123900342488,
          64.17468208277874,
          62.895224407542216,
          65.42970690511675,
          70.88456784921772,
          70.01858937380064,
          69.87901786271549,
          72.64541937752769,
          70.06067873068547,
          73.68378973441585,
          62.4433361410353,
          63.38051748251748,
          65.90948945615982,
          62.70490054589948,
          62.47773644810359,
          62.60065834590591,
          61.1282916470033,
          59.64433309426428,
          64.9710265108682,
          71.76571524760392,
          71.26169368883495,
          64.67933163559485,
          69.14873311216886,
          60.827635277375954,
          58.99896498804383,
          57.138919674763066
         ]
        },
        {
         "line": {
          "color": "rgba(50, 171, 96, 1.0)",
          "dash": "solid",
          "shape": "linear",
          "width": 1.3
         },
         "mode": "lines",
         "name": "Pressure(in)",
         "text": "",
         "type": "scatter",
         "x": [
          "2016-02-01",
          "2016-03-01",
          "2016-04-01",
          "2016-05-01",
          "2016-06-01",
          "2016-07-01",
          "2016-08-01",
          "2016-09-01",
          "2016-10-01",
          "2016-11-01",
          "2016-12-01",
          "2017-01-01",
          "2017-02-01",
          "2017-03-01",
          "2017-04-01",
          "2017-05-01",
          "2017-06-01",
          "2017-07-01",
          "2017-08-01",
          "2017-09-01",
          "2017-10-01",
          "2017-11-01",
          "2017-12-01",
          "2018-01-01",
          "2018-02-01",
          "2018-03-01",
          "2018-04-01",
          "2018-05-01",
          "2018-06-01",
          "2018-07-01",
          "2018-08-01",
          "2018-09-01",
          "2018-10-01",
          "2018-11-01",
          "2018-12-01",
          "2019-01-01",
          "2019-02-01",
          "2019-03-01",
          "2019-04-01",
          "2019-05-01",
          "2019-06-01",
          "2019-07-01",
          "2019-08-01",
          "2019-09-01",
          "2019-10-01",
          "2019-11-01",
          "2019-12-01",
          "2020-01-01",
          "2020-02-01",
          "2020-03-01",
          "2020-04-01",
          "2020-05-01",
          "2020-06-01"
         ],
         "y": [
          29.953237410071946,
          29.9761018051715,
          29.978199036007506,
          29.941162980685462,
          29.945636148648237,
          29.958343111470136,
          29.984641026108257,
          30.006005087618334,
          30.03634914730895,
          30.05062452290129,
          30.106268667143013,
          30.021926416262453,
          29.975531297246416,
          30.09139417894313,
          29.969582123955337,
          29.901358430435444,
          29.914440046255343,
          29.977399101005087,
          29.97829014088033,
          29.953440829527793,
          30.044460905125025,
          30.074814923922332,
          30.10899809737743,
          30.17247365877221,
          30.177504005078433,
          30.00217266465247,
          30.005441213762598,
          29.98640400241795,
          29.930196443175223,
          30.00598331588693,
          29.99273949060661,
          30.005167691917652,
          30.041380369903894,
          30.055365430465372,
          30.06712765957397,
          30.090675101109287,
          30.030352002201294,
          30.09834596799164,
          29.216879999999577,
          29.152578801331142,
          29.145850536488414,
          29.222757069708962,
          29.14664627623154,
          29.280865856535616,
          29.275887204636895,
          29.30064932780343,
          29.299495218355762,
          29.37262008292158,
          29.33504408514293,
          29.280874200682433,
          29.195229157110578,
          29.211402500684436,
          29.19810844683832
         ]
        },
        {
         "line": {
          "color": "rgba(128, 0, 128, 1.0)",
          "dash": "solid",
          "shape": "linear",
          "width": 1.3
         },
         "mode": "lines",
         "name": "Visibility(mi)",
         "text": "",
         "type": "scatter",
         "x": [
          "2016-02-01",
          "2016-03-01",
          "2016-04-01",
          "2016-05-01",
          "2016-06-01",
          "2016-07-01",
          "2016-08-01",
          "2016-09-01",
          "2016-10-01",
          "2016-11-01",
          "2016-12-01",
          "2017-01-01",
          "2017-02-01",
          "2017-03-01",
          "2017-04-01",
          "2017-05-01",
          "2017-06-01",
          "2017-07-01",
          "2017-08-01",
          "2017-09-01",
          "2017-10-01",
          "2017-11-01",
          "2017-12-01",
          "2018-01-01",
          "2018-02-01",
          "2018-03-01",
          "2018-04-01",
          "2018-05-01",
          "2018-06-01",
          "2018-07-01",
          "2018-08-01",
          "2018-09-01",
          "2018-10-01",
          "2018-11-01",
          "2018-12-01",
          "2019-01-01",
          "2019-02-01",
          "2019-03-01",
          "2019-04-01",
          "2019-05-01",
          "2019-06-01",
          "2019-07-01",
          "2019-08-01",
          "2019-09-01",
          "2019-10-01",
          "2019-11-01",
          "2019-12-01",
          "2020-01-01",
          "2020-02-01",
          "2020-03-01",
          "2020-04-01",
          "2020-05-01",
          "2020-06-01"
         ],
         "y": [
          7.068242548818092,
          9.594486908440397,
          9.588647575843488,
          9.527140106202955,
          9.546290540540545,
          9.693029424326207,
          9.597259574157519,
          9.551496137177311,
          9.441366535865066,
          9.25167143765902,
          8.67806141162907,
          8.449831042436298,
          8.784696099183606,
          9.054531979877826,
          9.30595121222468,
          9.424937755203656,
          9.47589174524106,
          9.514553951530427,
          9.368783927043278,
          9.463257637529894,
          9.453467527639704,
          9.28252345671735,
          8.877647236876188,
          8.65750258924257,
          8.62474778818538,
          9.087089907648972,
          9.246724001915881,
          9.437184876771198,
          9.589780945813763,
          9.540580038429702,
          9.256173386501253,
          9.125410522176354,
          9.227366171813355,
          8.625771741708379,
          8.645342447687758,
          8.6381381572125,
          7.809028760148576,
          9.164668469506902,
          9.28236013986014,
          9.339089345172033,
          9.447188931417454,
          9.66601932983674,
          9.562578658620216,
          9.619523831996224,
          9.29800131811045,
          8.838036688026136,
          8.397275673059724,
          8.4478975517129,
          8.65742396213725,
          8.695675393047745,
          8.9732614754966,
          9.310745089641552,
          9.656934693666166
         ]
        },
        {
         "line": {
          "color": "rgba(219, 64, 82, 1.0)",
          "dash": "solid",
          "shape": "linear",
          "width": 1.3
         },
         "mode": "lines",
         "name": "Accident_Count",
         "text": "",
         "type": "scatter",
         "x": [
          "2016-02-01",
          "2016-03-01",
          "2016-04-01",
          "2016-05-01",
          "2016-06-01",
          "2016-07-01",
          "2016-08-01",
          "2016-09-01",
          "2016-10-01",
          "2016-11-01",
          "2016-12-01",
          "2017-01-01",
          "2017-02-01",
          "2017-03-01",
          "2017-04-01",
          "2017-05-01",
          "2017-06-01",
          "2017-07-01",
          "2017-08-01",
          "2017-09-01",
          "2017-10-01",
          "2017-11-01",
          "2017-12-01",
          "2018-01-01",
          "2018-02-01",
          "2018-03-01",
          "2018-04-01",
          "2018-05-01",
          "2018-06-01",
          "2018-07-01",
          "2018-08-01",
          "2018-09-01",
          "2018-10-01",
          "2018-11-01",
          "2018-12-01",
          "2019-01-01",
          "2019-02-01",
          "2019-03-01",
          "2019-04-01",
          "2019-05-01",
          "2019-06-01",
          "2019-07-01",
          "2019-08-01",
          "2019-09-01",
          "2019-10-01",
          "2019-11-01",
          "2019-12-01",
          "2020-01-01",
          "2020-02-01",
          "2020-03-01",
          "2020-04-01",
          "2020-05-01",
          "2020-06-01"
         ],
         "xaxis": "x",
         "y": [
          973,
          6149,
          17635,
          17137,
          29600,
          44487,
          54809,
          53070,
          53771,
          62880,
          57253,
          53327,
          49605,
          55660,
          46856,
          40164,
          44968,
          42047,
          78293,
          73584,
          72631,
          67891,
          69378,
          72415,
          69287,
          72441,
          70986,
          74455,
          62359,
          64013,
          74481,
          71202,
          84941,
          80111,
          68244,
          77144,
          72670,
          67671,
          71500,
          72080,
          63748,
          64253,
          72910,
          84760,
          103178,
          79590,
          95051,
          89001,
          83248,
          83196,
          85029,
          84057,
          96545
         ],
         "yaxis": "y2"
        }
       ],
       "layout": {
        "legend": {
         "bgcolor": "#F5F6F9",
         "font": {
          "color": "#4D5663"
         }
        },
        "paper_bgcolor": "#F5F6F9",
        "plot_bgcolor": "#F5F6F9",
        "template": {
         "data": {
          "bar": [
           {
            "error_x": {
             "color": "#2a3f5f"
            },
            "error_y": {
             "color": "#2a3f5f"
            },
            "marker": {
             "line": {
              "color": "#E5ECF6",
              "width": 0.5
             }
            },
            "type": "bar"
           }
          ],
          "barpolar": [
           {
            "marker": {
             "line": {
              "color": "#E5ECF6",
              "width": 0.5
             }
            },
            "type": "barpolar"
           }
          ],
          "carpet": [
           {
            "aaxis": {
             "endlinecolor": "#2a3f5f",
             "gridcolor": "white",
             "linecolor": "white",
             "minorgridcolor": "white",
             "startlinecolor": "#2a3f5f"
            },
            "baxis": {
             "endlinecolor": "#2a3f5f",
             "gridcolor": "white",
             "linecolor": "white",
             "minorgridcolor": "white",
             "startlinecolor": "#2a3f5f"
            },
            "type": "carpet"
           }
          ],
          "choropleth": [
           {
            "colorbar": {
             "outlinewidth": 0,
             "ticks": ""
            },
            "type": "choropleth"
           }
          ],
          "contour": [
           {
            "colorbar": {
             "outlinewidth": 0,
             "ticks": ""
            },
            "colorscale": [
             [
              0,
              "#0d0887"
             ],
             [
              0.1111111111111111,
              "#46039f"
             ],
             [
              0.2222222222222222,
              "#7201a8"
             ],
             [
              0.3333333333333333,
              "#9c179e"
             ],
             [
              0.4444444444444444,
              "#bd3786"
             ],
             [
              0.5555555555555556,
              "#d8576b"
             ],
             [
              0.6666666666666666,
              "#ed7953"
             ],
             [
              0.7777777777777778,
              "#fb9f3a"
             ],
             [
              0.8888888888888888,
              "#fdca26"
             ],
             [
              1,
              "#f0f921"
             ]
            ],
            "type": "contour"
           }
          ],
          "contourcarpet": [
           {
            "colorbar": {
             "outlinewidth": 0,
             "ticks": ""
            },
            "type": "contourcarpet"
           }
          ],
          "heatmap": [
           {
            "colorbar": {
             "outlinewidth": 0,
             "ticks": ""
            },
            "colorscale": [
             [
              0,
              "#0d0887"
             ],
             [
              0.1111111111111111,
              "#46039f"
             ],
             [
              0.2222222222222222,
              "#7201a8"
             ],
             [
              0.3333333333333333,
              "#9c179e"
             ],
             [
              0.4444444444444444,
              "#bd3786"
             ],
             [
              0.5555555555555556,
              "#d8576b"
             ],
             [
              0.6666666666666666,
              "#ed7953"
             ],
             [
              0.7777777777777778,
              "#fb9f3a"
             ],
             [
              0.8888888888888888,
              "#fdca26"
             ],
             [
              1,
              "#f0f921"
             ]
            ],
            "type": "heatmap"
           }
          ],
          "heatmapgl": [
           {
            "colorbar": {
             "outlinewidth": 0,
             "ticks": ""
            },
            "colorscale": [
             [
              0,
              "#0d0887"
             ],
             [
              0.1111111111111111,
              "#46039f"
             ],
             [
              0.2222222222222222,
              "#7201a8"
             ],
             [
              0.3333333333333333,
              "#9c179e"
             ],
             [
              0.4444444444444444,
              "#bd3786"
             ],
             [
              0.5555555555555556,
              "#d8576b"
             ],
             [
              0.6666666666666666,
              "#ed7953"
             ],
             [
              0.7777777777777778,
              "#fb9f3a"
             ],
             [
              0.8888888888888888,
              "#fdca26"
             ],
             [
              1,
              "#f0f921"
             ]
            ],
            "type": "heatmapgl"
           }
          ],
          "histogram": [
           {
            "marker": {
             "colorbar": {
              "outlinewidth": 0,
              "ticks": ""
             }
            },
            "type": "histogram"
           }
          ],
          "histogram2d": [
           {
            "colorbar": {
             "outlinewidth": 0,
             "ticks": ""
            },
            "colorscale": [
             [
              0,
              "#0d0887"
             ],
             [
              0.1111111111111111,
              "#46039f"
             ],
             [
              0.2222222222222222,
              "#7201a8"
             ],
             [
              0.3333333333333333,
              "#9c179e"
             ],
             [
              0.4444444444444444,
              "#bd3786"
             ],
             [
              0.5555555555555556,
              "#d8576b"
             ],
             [
              0.6666666666666666,
              "#ed7953"
             ],
             [
              0.7777777777777778,
              "#fb9f3a"
             ],
             [
              0.8888888888888888,
              "#fdca26"
             ],
             [
              1,
              "#f0f921"
             ]
            ],
            "type": "histogram2d"
           }
          ],
          "histogram2dcontour": [
           {
            "colorbar": {
             "outlinewidth": 0,
             "ticks": ""
            },
            "colorscale": [
             [
              0,
              "#0d0887"
             ],
             [
              0.1111111111111111,
              "#46039f"
             ],
             [
              0.2222222222222222,
              "#7201a8"
             ],
             [
              0.3333333333333333,
              "#9c179e"
             ],
             [
              0.4444444444444444,
              "#bd3786"
             ],
             [
              0.5555555555555556,
              "#d8576b"
             ],
             [
              0.6666666666666666,
              "#ed7953"
             ],
             [
              0.7777777777777778,
              "#fb9f3a"
             ],
             [
              0.8888888888888888,
              "#fdca26"
             ],
             [
              1,
              "#f0f921"
             ]
            ],
            "type": "histogram2dcontour"
           }
          ],
          "mesh3d": [
           {
            "colorbar": {
             "outlinewidth": 0,
             "ticks": ""
            },
            "type": "mesh3d"
           }
          ],
          "parcoords": [
           {
            "line": {
             "colorbar": {
              "outlinewidth": 0,
              "ticks": ""
             }
            },
            "type": "parcoords"
           }
          ],
          "pie": [
           {
            "automargin": true,
            "type": "pie"
           }
          ],
          "scatter": [
           {
            "marker": {
             "colorbar": {
              "outlinewidth": 0,
              "ticks": ""
             }
            },
            "type": "scatter"
           }
          ],
          "scatter3d": [
           {
            "line": {
             "colorbar": {
              "outlinewidth": 0,
              "ticks": ""
             }
            },
            "marker": {
             "colorbar": {
              "outlinewidth": 0,
              "ticks": ""
             }
            },
            "type": "scatter3d"
           }
          ],
          "scattercarpet": [
           {
            "marker": {
             "colorbar": {
              "outlinewidth": 0,
              "ticks": ""
             }
            },
            "type": "scattercarpet"
           }
          ],
          "scattergeo": [
           {
            "marker": {
             "colorbar": {
              "outlinewidth": 0,
              "ticks": ""
             }
            },
            "type": "scattergeo"
           }
          ],
          "scattergl": [
           {
            "marker": {
             "colorbar": {
              "outlinewidth": 0,
              "ticks": ""
             }
            },
            "type": "scattergl"
           }
          ],
          "scattermapbox": [
           {
            "marker": {
             "colorbar": {
              "outlinewidth": 0,
              "ticks": ""
             }
            },
            "type": "scattermapbox"
           }
          ],
          "scatterpolar": [
           {
            "marker": {
             "colorbar": {
              "outlinewidth": 0,
              "ticks": ""
             }
            },
            "type": "scatterpolar"
           }
          ],
          "scatterpolargl": [
           {
            "marker": {
             "colorbar": {
              "outlinewidth": 0,
              "ticks": ""
             }
            },
            "type": "scatterpolargl"
           }
          ],
          "scatterternary": [
           {
            "marker": {
             "colorbar": {
              "outlinewidth": 0,
              "ticks": ""
             }
            },
            "type": "scatterternary"
           }
          ],
          "surface": [
           {
            "colorbar": {
             "outlinewidth": 0,
             "ticks": ""
            },
            "colorscale": [
             [
              0,
              "#0d0887"
             ],
             [
              0.1111111111111111,
              "#46039f"
             ],
             [
              0.2222222222222222,
              "#7201a8"
             ],
             [
              0.3333333333333333,
              "#9c179e"
             ],
             [
              0.4444444444444444,
              "#bd3786"
             ],
             [
              0.5555555555555556,
              "#d8576b"
             ],
             [
              0.6666666666666666,
              "#ed7953"
             ],
             [
              0.7777777777777778,
              "#fb9f3a"
             ],
             [
              0.8888888888888888,
              "#fdca26"
             ],
             [
              1,
              "#f0f921"
             ]
            ],
            "type": "surface"
           }
          ],
          "table": [
           {
            "cells": {
             "fill": {
              "color": "#EBF0F8"
             },
             "line": {
              "color": "white"
             }
            },
            "header": {
             "fill": {
              "color": "#C8D4E3"
             },
             "line": {
              "color": "white"
             }
            },
            "type": "table"
           }
          ]
         },
         "layout": {
          "annotationdefaults": {
           "arrowcolor": "#2a3f5f",
           "arrowhead": 0,
           "arrowwidth": 1
          },
          "coloraxis": {
           "colorbar": {
            "outlinewidth": 0,
            "ticks": ""
           }
          },
          "colorscale": {
           "diverging": [
            [
             0,
             "#8e0152"
            ],
            [
             0.1,
             "#c51b7d"
            ],
            [
             0.2,
             "#de77ae"
            ],
            [
             0.3,
             "#f1b6da"
            ],
            [
             0.4,
             "#fde0ef"
            ],
            [
             0.5,
             "#f7f7f7"
            ],
            [
             0.6,
             "#e6f5d0"
            ],
            [
             0.7,
             "#b8e186"
            ],
            [
             0.8,
             "#7fbc41"
            ],
            [
             0.9,
             "#4d9221"
            ],
            [
             1,
             "#276419"
            ]
           ],
           "sequential": [
            [
             0,
             "#0d0887"
            ],
            [
             0.1111111111111111,
             "#46039f"
            ],
            [
             0.2222222222222222,
             "#7201a8"
            ],
            [
             0.3333333333333333,
             "#9c179e"
            ],
            [
             0.4444444444444444,
             "#bd3786"
            ],
            [
             0.5555555555555556,
             "#d8576b"
            ],
            [
             0.6666666666666666,
             "#ed7953"
            ],
            [
             0.7777777777777778,
             "#fb9f3a"
            ],
            [
             0.8888888888888888,
             "#fdca26"
            ],
            [
             1,
             "#f0f921"
            ]
           ],
           "sequentialminus": [
            [
             0,
             "#0d0887"
            ],
            [
             0.1111111111111111,
             "#46039f"
            ],
            [
             0.2222222222222222,
             "#7201a8"
            ],
            [
             0.3333333333333333,
             "#9c179e"
            ],
            [
             0.4444444444444444,
             "#bd3786"
            ],
            [
             0.5555555555555556,
             "#d8576b"
            ],
            [
             0.6666666666666666,
             "#ed7953"
            ],
            [
             0.7777777777777778,
             "#fb9f3a"
            ],
            [
             0.8888888888888888,
             "#fdca26"
            ],
            [
             1,
             "#f0f921"
            ]
           ]
          },
          "colorway": [
           "#636efa",
           "#EF553B",
           "#00cc96",
           "#ab63fa",
           "#FFA15A",
           "#19d3f3",
           "#FF6692",
           "#B6E880",
           "#FF97FF",
           "#FECB52"
          ],
          "font": {
           "color": "#2a3f5f"
          },
          "geo": {
           "bgcolor": "white",
           "lakecolor": "white",
           "landcolor": "#E5ECF6",
           "showlakes": true,
           "showland": true,
           "subunitcolor": "white"
          },
          "hoverlabel": {
           "align": "left"
          },
          "hovermode": "closest",
          "mapbox": {
           "style": "light"
          },
          "paper_bgcolor": "white",
          "plot_bgcolor": "#E5ECF6",
          "polar": {
           "angularaxis": {
            "gridcolor": "white",
            "linecolor": "white",
            "ticks": ""
           },
           "bgcolor": "#E5ECF6",
           "radialaxis": {
            "gridcolor": "white",
            "linecolor": "white",
            "ticks": ""
           }
          },
          "scene": {
           "xaxis": {
            "backgroundcolor": "#E5ECF6",
            "gridcolor": "white",
            "gridwidth": 2,
            "linecolor": "white",
            "showbackground": true,
            "ticks": "",
            "zerolinecolor": "white"
           },
           "yaxis": {
            "backgroundcolor": "#E5ECF6",
            "gridcolor": "white",
            "gridwidth": 2,
            "linecolor": "white",
            "showbackground": true,
            "ticks": "",
            "zerolinecolor": "white"
           },
           "zaxis": {
            "backgroundcolor": "#E5ECF6",
            "gridcolor": "white",
            "gridwidth": 2,
            "linecolor": "white",
            "showbackground": true,
            "ticks": "",
            "zerolinecolor": "white"
           }
          },
          "shapedefaults": {
           "line": {
            "color": "#2a3f5f"
           }
          },
          "ternary": {
           "aaxis": {
            "gridcolor": "white",
            "linecolor": "white",
            "ticks": ""
           },
           "baxis": {
            "gridcolor": "white",
            "linecolor": "white",
            "ticks": ""
           },
           "bgcolor": "#E5ECF6",
           "caxis": {
            "gridcolor": "white",
            "linecolor": "white",
            "ticks": ""
           }
          },
          "title": {
           "x": 0.05
          },
          "xaxis": {
           "automargin": true,
           "gridcolor": "white",
           "linecolor": "white",
           "ticks": "",
           "title": {
            "standoff": 15
           },
           "zerolinecolor": "white",
           "zerolinewidth": 2
          },
          "yaxis": {
           "automargin": true,
           "gridcolor": "white",
           "linecolor": "white",
           "ticks": "",
           "title": {
            "standoff": 15
           },
           "zerolinecolor": "white",
           "zerolinewidth": 2
          }
         }
        },
        "title": {
         "font": {
          "color": "#4D5663"
         },
         "text": "Weather Attributes and Relation"
        },
        "xaxis": {
         "gridcolor": "#E1E5ED",
         "showgrid": true,
         "tickfont": {
          "color": "#4D5663"
         },
         "title": {
          "font": {
           "color": "#4D5663"
          },
          "text": "Time"
         },
         "zerolinecolor": "#E1E5ED"
        },
        "yaxis": {
         "gridcolor": "#E1E5ED",
         "showgrid": true,
         "tickfont": {
          "color": "#4D5663"
         },
         "title": {
          "font": {
           "color": "#4D5663"
          },
          "text": "Monthly mean of Weather attributes"
         },
         "zerolinecolor": "#E1E5ED"
        },
        "yaxis2": {
         "anchor": "x",
         "gridcolor": "#E1E5ED",
         "overlaying": "y",
         "showgrid": true,
         "side": "right",
         "tickfont": {
          "color": "#4D5663"
         },
         "title": {
          "text": "No.of Accident"
         },
         "zerolinecolor": "#E1E5ED"
        }
       }
      },
      "text/html": [
       "<div>                            <div id=\"06009fcc-3422-49e2-8e7c-0c29b04ad373\" class=\"plotly-graph-div\" style=\"height:525px; width:100%;\"></div>            <script type=\"text/javascript\">                require([\"plotly\"], function(Plotly) {                    window.PLOTLYENV=window.PLOTLYENV || {};\n",
       "                    window.PLOTLYENV.BASE_URL='https://plot.ly';                                    if (document.getElementById(\"06009fcc-3422-49e2-8e7c-0c29b04ad373\")) {                    Plotly.newPlot(                        \"06009fcc-3422-49e2-8e7c-0c29b04ad373\",                        [{\"line\": {\"color\": \"rgba(255, 153, 51, 1.0)\", \"dash\": \"solid\", \"shape\": \"linear\", \"width\": 1.3}, \"mode\": \"lines\", \"name\": \"Temperature(F)\", \"text\": \"\", \"type\": \"scatter\", \"x\": [\"2016-02-01\", \"2016-03-01\", \"2016-04-01\", \"2016-05-01\", \"2016-06-01\", \"2016-07-01\", \"2016-08-01\", \"2016-09-01\", \"2016-10-01\", \"2016-11-01\", \"2016-12-01\", \"2017-01-01\", \"2017-02-01\", \"2017-03-01\", \"2017-04-01\", \"2017-05-01\", \"2017-06-01\", \"2017-07-01\", \"2017-08-01\", \"2017-09-01\", \"2017-10-01\", \"2017-11-01\", \"2017-12-01\", \"2018-01-01\", \"2018-02-01\", \"2018-03-01\", \"2018-04-01\", \"2018-05-01\", \"2018-06-01\", \"2018-07-01\", \"2018-08-01\", \"2018-09-01\", \"2018-10-01\", \"2018-11-01\", \"2018-12-01\", \"2019-01-01\", \"2019-02-01\", \"2019-03-01\", \"2019-04-01\", \"2019-05-01\", \"2019-06-01\", \"2019-07-01\", \"2019-08-01\", \"2019-09-01\", \"2019-10-01\", \"2019-11-01\", \"2019-12-01\", \"2020-01-01\", \"2020-02-01\", \"2020-03-01\", \"2020-04-01\", \"2020-05-01\", \"2020-06-01\"], \"y\": [32.16474820143883, 57.92785818832379, 62.88239863906951, 66.043759117698, 76.27837162162152, 80.90831703643842, 78.86646171249271, 74.54119653288178, 66.33460601439431, 58.91981711195986, 46.404525527046346, 47.5241641194889, 52.35658905352291, 55.41961731943904, 64.24166382106864, 68.09065332138219, 75.2683041273793, 79.47970128665459, 77.69612225869369, 73.57843552946157, 65.36266607922273, 55.71441575466593, 44.70834702643466, 41.52782434578523, 48.88756188029426, 51.881492524951554, 58.578432366945876, 71.74169095426926, 75.8655959845403, 80.19464483776757, 78.75169372054603, 73.79790736215259, 63.024787793880655, 50.28847099649256, 45.40662182755984, 41.314104791040435, 43.00583872299397, 49.691457197322805, 61.32867132867133, 68.11026637069922, 74.97593649996863, 79.52693259458702, 79.23332876148676, 75.45220622935346, 63.84937680513288, 51.27728357833899, 46.876171739382016, 46.13881866495882, 48.955122044974054, 55.91291648636954, 59.858330687177315, 68.60425663537838, 76.491501372417]}, {\"line\": {\"color\": \"rgba(55, 128, 191, 1.0)\", \"dash\": \"solid\", \"shape\": \"linear\", \"width\": 1.3}, \"mode\": \"lines\", \"name\": \"Humidity(%)\", \"text\": \"\", \"type\": \"scatter\", \"x\": [\"2016-02-01\", \"2016-03-01\", \"2016-04-01\", \"2016-05-01\", \"2016-06-01\", \"2016-07-01\", \"2016-08-01\", \"2016-09-01\", \"2016-10-01\", \"2016-11-01\", \"2016-12-01\", \"2017-01-01\", \"2017-02-01\", \"2017-03-01\", \"2017-04-01\", \"2017-05-01\", \"2017-06-01\", \"2017-07-01\", \"2017-08-01\", \"2017-09-01\", \"2017-10-01\", \"2017-11-01\", \"2017-12-01\", \"2018-01-01\", \"2018-02-01\", \"2018-03-01\", \"2018-04-01\", \"2018-05-01\", \"2018-06-01\", \"2018-07-01\", \"2018-08-01\", \"2018-09-01\", \"2018-10-01\", \"2018-11-01\", \"2018-12-01\", \"2019-01-01\", \"2019-02-01\", \"2019-03-01\", \"2019-04-01\", \"2019-05-01\", \"2019-06-01\", \"2019-07-01\", \"2019-08-01\", \"2019-09-01\", \"2019-10-01\", \"2019-11-01\", \"2019-12-01\", \"2020-01-01\", \"2020-02-01\", \"2020-03-01\", \"2020-04-01\", \"2020-05-01\", \"2020-06-01\"], \"y\": [75.79547790339157, 55.62872011709221, 56.04088460447973, 60.67193791211997, 57.648918918918916, 60.180277384404434, 64.96068163987667, 64.06093838326738, 65.99239366945008, 64.6215330788804, 68.79611548739804, 72.37575712115813, 68.31361757887309, 60.95490477901545, 62.253393375448184, 61.17371277761179, 63.045921544209214, 63.8687659048208, 67.26623069750808, 64.85369101978691, 64.55463920364582, 66.65469649879955, 64.59618322811266, 66.18301456880481, 69.9231168906144, 62.25557350119408, 60.34296903614797, 65.05123900342488, 64.17468208277874, 62.895224407542216, 65.42970690511675, 70.88456784921772, 70.01858937380064, 69.87901786271549, 72.64541937752769, 70.06067873068547, 73.68378973441585, 62.4433361410353, 63.38051748251748, 65.90948945615982, 62.70490054589948, 62.47773644810359, 62.60065834590591, 61.1282916470033, 59.64433309426428, 64.9710265108682, 71.76571524760392, 71.26169368883495, 64.67933163559485, 69.14873311216886, 60.827635277375954, 58.99896498804383, 57.138919674763066]}, {\"line\": {\"color\": \"rgba(50, 171, 96, 1.0)\", \"dash\": \"solid\", \"shape\": \"linear\", \"width\": 1.3}, \"mode\": \"lines\", \"name\": \"Pressure(in)\", \"text\": \"\", \"type\": \"scatter\", \"x\": [\"2016-02-01\", \"2016-03-01\", \"2016-04-01\", \"2016-05-01\", \"2016-06-01\", \"2016-07-01\", \"2016-08-01\", \"2016-09-01\", \"2016-10-01\", \"2016-11-01\", \"2016-12-01\", \"2017-01-01\", \"2017-02-01\", \"2017-03-01\", \"2017-04-01\", \"2017-05-01\", \"2017-06-01\", \"2017-07-01\", \"2017-08-01\", \"2017-09-01\", \"2017-10-01\", \"2017-11-01\", \"2017-12-01\", \"2018-01-01\", \"2018-02-01\", \"2018-03-01\", \"2018-04-01\", \"2018-05-01\", \"2018-06-01\", \"2018-07-01\", \"2018-08-01\", \"2018-09-01\", \"2018-10-01\", \"2018-11-01\", \"2018-12-01\", \"2019-01-01\", \"2019-02-01\", \"2019-03-01\", \"2019-04-01\", \"2019-05-01\", \"2019-06-01\", \"2019-07-01\", \"2019-08-01\", \"2019-09-01\", \"2019-10-01\", \"2019-11-01\", \"2019-12-01\", \"2020-01-01\", \"2020-02-01\", \"2020-03-01\", \"2020-04-01\", \"2020-05-01\", \"2020-06-01\"], \"y\": [29.953237410071946, 29.9761018051715, 29.978199036007506, 29.941162980685462, 29.945636148648237, 29.958343111470136, 29.984641026108257, 30.006005087618334, 30.03634914730895, 30.05062452290129, 30.106268667143013, 30.021926416262453, 29.975531297246416, 30.09139417894313, 29.969582123955337, 29.901358430435444, 29.914440046255343, 29.977399101005087, 29.97829014088033, 29.953440829527793, 30.044460905125025, 30.074814923922332, 30.10899809737743, 30.17247365877221, 30.177504005078433, 30.00217266465247, 30.005441213762598, 29.98640400241795, 29.930196443175223, 30.00598331588693, 29.99273949060661, 30.005167691917652, 30.041380369903894, 30.055365430465372, 30.06712765957397, 30.090675101109287, 30.030352002201294, 30.09834596799164, 29.216879999999577, 29.152578801331142, 29.145850536488414, 29.222757069708962, 29.14664627623154, 29.280865856535616, 29.275887204636895, 29.30064932780343, 29.299495218355762, 29.37262008292158, 29.33504408514293, 29.280874200682433, 29.195229157110578, 29.211402500684436, 29.19810844683832]}, {\"line\": {\"color\": \"rgba(128, 0, 128, 1.0)\", \"dash\": \"solid\", \"shape\": \"linear\", \"width\": 1.3}, \"mode\": \"lines\", \"name\": \"Visibility(mi)\", \"text\": \"\", \"type\": \"scatter\", \"x\": [\"2016-02-01\", \"2016-03-01\", \"2016-04-01\", \"2016-05-01\", \"2016-06-01\", \"2016-07-01\", \"2016-08-01\", \"2016-09-01\", \"2016-10-01\", \"2016-11-01\", \"2016-12-01\", \"2017-01-01\", \"2017-02-01\", \"2017-03-01\", \"2017-04-01\", \"2017-05-01\", \"2017-06-01\", \"2017-07-01\", \"2017-08-01\", \"2017-09-01\", \"2017-10-01\", \"2017-11-01\", \"2017-12-01\", \"2018-01-01\", \"2018-02-01\", \"2018-03-01\", \"2018-04-01\", \"2018-05-01\", \"2018-06-01\", \"2018-07-01\", \"2018-08-01\", \"2018-09-01\", \"2018-10-01\", \"2018-11-01\", \"2018-12-01\", \"2019-01-01\", \"2019-02-01\", \"2019-03-01\", \"2019-04-01\", \"2019-05-01\", \"2019-06-01\", \"2019-07-01\", \"2019-08-01\", \"2019-09-01\", \"2019-10-01\", \"2019-11-01\", \"2019-12-01\", \"2020-01-01\", \"2020-02-01\", \"2020-03-01\", \"2020-04-01\", \"2020-05-01\", \"2020-06-01\"], \"y\": [7.068242548818092, 9.594486908440397, 9.588647575843488, 9.527140106202955, 9.546290540540545, 9.693029424326207, 9.597259574157519, 9.551496137177311, 9.441366535865066, 9.25167143765902, 8.67806141162907, 8.449831042436298, 8.784696099183606, 9.054531979877826, 9.30595121222468, 9.424937755203656, 9.47589174524106, 9.514553951530427, 9.368783927043278, 9.463257637529894, 9.453467527639704, 9.28252345671735, 8.877647236876188, 8.65750258924257, 8.62474778818538, 9.087089907648972, 9.246724001915881, 9.437184876771198, 9.589780945813763, 9.540580038429702, 9.256173386501253, 9.125410522176354, 9.227366171813355, 8.625771741708379, 8.645342447687758, 8.6381381572125, 7.809028760148576, 9.164668469506902, 9.28236013986014, 9.339089345172033, 9.447188931417454, 9.66601932983674, 9.562578658620216, 9.619523831996224, 9.29800131811045, 8.838036688026136, 8.397275673059724, 8.4478975517129, 8.65742396213725, 8.695675393047745, 8.9732614754966, 9.310745089641552, 9.656934693666166]}, {\"line\": {\"color\": \"rgba(219, 64, 82, 1.0)\", \"dash\": \"solid\", \"shape\": \"linear\", \"width\": 1.3}, \"mode\": \"lines\", \"name\": \"Accident_Count\", \"text\": \"\", \"type\": \"scatter\", \"x\": [\"2016-02-01\", \"2016-03-01\", \"2016-04-01\", \"2016-05-01\", \"2016-06-01\", \"2016-07-01\", \"2016-08-01\", \"2016-09-01\", \"2016-10-01\", \"2016-11-01\", \"2016-12-01\", \"2017-01-01\", \"2017-02-01\", \"2017-03-01\", \"2017-04-01\", \"2017-05-01\", \"2017-06-01\", \"2017-07-01\", \"2017-08-01\", \"2017-09-01\", \"2017-10-01\", \"2017-11-01\", \"2017-12-01\", \"2018-01-01\", \"2018-02-01\", \"2018-03-01\", \"2018-04-01\", \"2018-05-01\", \"2018-06-01\", \"2018-07-01\", \"2018-08-01\", \"2018-09-01\", \"2018-10-01\", \"2018-11-01\", \"2018-12-01\", \"2019-01-01\", \"2019-02-01\", \"2019-03-01\", \"2019-04-01\", \"2019-05-01\", \"2019-06-01\", \"2019-07-01\", \"2019-08-01\", \"2019-09-01\", \"2019-10-01\", \"2019-11-01\", \"2019-12-01\", \"2020-01-01\", \"2020-02-01\", \"2020-03-01\", \"2020-04-01\", \"2020-05-01\", \"2020-06-01\"], \"xaxis\": \"x\", \"y\": [973, 6149, 17635, 17137, 29600, 44487, 54809, 53070, 53771, 62880, 57253, 53327, 49605, 55660, 46856, 40164, 44968, 42047, 78293, 73584, 72631, 67891, 69378, 72415, 69287, 72441, 70986, 74455, 62359, 64013, 74481, 71202, 84941, 80111, 68244, 77144, 72670, 67671, 71500, 72080, 63748, 64253, 72910, 84760, 103178, 79590, 95051, 89001, 83248, 83196, 85029, 84057, 96545], \"yaxis\": \"y2\"}],                        {\"legend\": {\"bgcolor\": \"#F5F6F9\", \"font\": {\"color\": \"#4D5663\"}}, \"paper_bgcolor\": \"#F5F6F9\", \"plot_bgcolor\": \"#F5F6F9\", \"template\": {\"data\": {\"bar\": [{\"error_x\": {\"color\": \"#2a3f5f\"}, \"error_y\": {\"color\": \"#2a3f5f\"}, \"marker\": {\"line\": {\"color\": \"#E5ECF6\", \"width\": 0.5}}, \"type\": \"bar\"}], \"barpolar\": [{\"marker\": {\"line\": {\"color\": \"#E5ECF6\", \"width\": 0.5}}, \"type\": \"barpolar\"}], \"carpet\": [{\"aaxis\": {\"endlinecolor\": \"#2a3f5f\", \"gridcolor\": \"white\", \"linecolor\": \"white\", \"minorgridcolor\": \"white\", \"startlinecolor\": \"#2a3f5f\"}, \"baxis\": {\"endlinecolor\": \"#2a3f5f\", \"gridcolor\": \"white\", \"linecolor\": \"white\", \"minorgridcolor\": \"white\", \"startlinecolor\": \"#2a3f5f\"}, \"type\": \"carpet\"}], \"choropleth\": [{\"colorbar\": {\"outlinewidth\": 0, \"ticks\": \"\"}, \"type\": \"choropleth\"}], \"contour\": [{\"colorbar\": {\"outlinewidth\": 0, \"ticks\": \"\"}, \"colorscale\": [[0.0, \"#0d0887\"], [0.1111111111111111, \"#46039f\"], [0.2222222222222222, \"#7201a8\"], [0.3333333333333333, \"#9c179e\"], [0.4444444444444444, \"#bd3786\"], [0.5555555555555556, \"#d8576b\"], [0.6666666666666666, \"#ed7953\"], [0.7777777777777778, \"#fb9f3a\"], [0.8888888888888888, \"#fdca26\"], [1.0, \"#f0f921\"]], \"type\": \"contour\"}], \"contourcarpet\": [{\"colorbar\": {\"outlinewidth\": 0, \"ticks\": \"\"}, \"type\": \"contourcarpet\"}], \"heatmap\": [{\"colorbar\": {\"outlinewidth\": 0, \"ticks\": \"\"}, \"colorscale\": [[0.0, \"#0d0887\"], [0.1111111111111111, \"#46039f\"], [0.2222222222222222, \"#7201a8\"], [0.3333333333333333, \"#9c179e\"], [0.4444444444444444, \"#bd3786\"], [0.5555555555555556, \"#d8576b\"], [0.6666666666666666, \"#ed7953\"], [0.7777777777777778, \"#fb9f3a\"], [0.8888888888888888, \"#fdca26\"], [1.0, \"#f0f921\"]], \"type\": \"heatmap\"}], \"heatmapgl\": [{\"colorbar\": {\"outlinewidth\": 0, \"ticks\": \"\"}, \"colorscale\": [[0.0, \"#0d0887\"], [0.1111111111111111, \"#46039f\"], [0.2222222222222222, \"#7201a8\"], [0.3333333333333333, \"#9c179e\"], [0.4444444444444444, \"#bd3786\"], [0.5555555555555556, \"#d8576b\"], [0.6666666666666666, \"#ed7953\"], [0.7777777777777778, \"#fb9f3a\"], [0.8888888888888888, \"#fdca26\"], [1.0, \"#f0f921\"]], \"type\": \"heatmapgl\"}], \"histogram\": [{\"marker\": {\"colorbar\": {\"outlinewidth\": 0, \"ticks\": \"\"}}, \"type\": \"histogram\"}], \"histogram2d\": [{\"colorbar\": {\"outlinewidth\": 0, \"ticks\": \"\"}, \"colorscale\": [[0.0, \"#0d0887\"], [0.1111111111111111, \"#46039f\"], [0.2222222222222222, \"#7201a8\"], [0.3333333333333333, \"#9c179e\"], [0.4444444444444444, \"#bd3786\"], [0.5555555555555556, \"#d8576b\"], [0.6666666666666666, \"#ed7953\"], [0.7777777777777778, \"#fb9f3a\"], [0.8888888888888888, \"#fdca26\"], [1.0, \"#f0f921\"]], \"type\": \"histogram2d\"}], \"histogram2dcontour\": [{\"colorbar\": {\"outlinewidth\": 0, \"ticks\": \"\"}, \"colorscale\": [[0.0, \"#0d0887\"], [0.1111111111111111, \"#46039f\"], [0.2222222222222222, \"#7201a8\"], [0.3333333333333333, \"#9c179e\"], [0.4444444444444444, \"#bd3786\"], [0.5555555555555556, \"#d8576b\"], [0.6666666666666666, \"#ed7953\"], [0.7777777777777778, \"#fb9f3a\"], [0.8888888888888888, \"#fdca26\"], [1.0, \"#f0f921\"]], \"type\": \"histogram2dcontour\"}], \"mesh3d\": [{\"colorbar\": {\"outlinewidth\": 0, \"ticks\": \"\"}, \"type\": \"mesh3d\"}], \"parcoords\": [{\"line\": {\"colorbar\": {\"outlinewidth\": 0, \"ticks\": \"\"}}, \"type\": \"parcoords\"}], \"pie\": [{\"automargin\": true, \"type\": \"pie\"}], \"scatter\": [{\"marker\": {\"colorbar\": {\"outlinewidth\": 0, \"ticks\": \"\"}}, \"type\": \"scatter\"}], \"scatter3d\": [{\"line\": {\"colorbar\": {\"outlinewidth\": 0, \"ticks\": \"\"}}, \"marker\": {\"colorbar\": {\"outlinewidth\": 0, \"ticks\": \"\"}}, \"type\": \"scatter3d\"}], \"scattercarpet\": [{\"marker\": {\"colorbar\": {\"outlinewidth\": 0, \"ticks\": \"\"}}, \"type\": \"scattercarpet\"}], \"scattergeo\": [{\"marker\": {\"colorbar\": {\"outlinewidth\": 0, \"ticks\": \"\"}}, \"type\": \"scattergeo\"}], \"scattergl\": [{\"marker\": {\"colorbar\": {\"outlinewidth\": 0, \"ticks\": \"\"}}, \"type\": \"scattergl\"}], \"scattermapbox\": [{\"marker\": {\"colorbar\": {\"outlinewidth\": 0, \"ticks\": \"\"}}, \"type\": \"scattermapbox\"}], \"scatterpolar\": [{\"marker\": {\"colorbar\": {\"outlinewidth\": 0, \"ticks\": \"\"}}, \"type\": \"scatterpolar\"}], \"scatterpolargl\": [{\"marker\": {\"colorbar\": {\"outlinewidth\": 0, \"ticks\": \"\"}}, \"type\": \"scatterpolargl\"}], \"scatterternary\": [{\"marker\": {\"colorbar\": {\"outlinewidth\": 0, \"ticks\": \"\"}}, \"type\": \"scatterternary\"}], \"surface\": [{\"colorbar\": {\"outlinewidth\": 0, \"ticks\": \"\"}, \"colorscale\": [[0.0, \"#0d0887\"], [0.1111111111111111, \"#46039f\"], [0.2222222222222222, \"#7201a8\"], [0.3333333333333333, \"#9c179e\"], [0.4444444444444444, \"#bd3786\"], [0.5555555555555556, \"#d8576b\"], [0.6666666666666666, \"#ed7953\"], [0.7777777777777778, \"#fb9f3a\"], [0.8888888888888888, \"#fdca26\"], [1.0, \"#f0f921\"]], \"type\": \"surface\"}], \"table\": [{\"cells\": {\"fill\": {\"color\": \"#EBF0F8\"}, \"line\": {\"color\": \"white\"}}, \"header\": {\"fill\": {\"color\": \"#C8D4E3\"}, \"line\": {\"color\": \"white\"}}, \"type\": \"table\"}]}, \"layout\": {\"annotationdefaults\": {\"arrowcolor\": \"#2a3f5f\", \"arrowhead\": 0, \"arrowwidth\": 1}, \"coloraxis\": {\"colorbar\": {\"outlinewidth\": 0, \"ticks\": \"\"}}, \"colorscale\": {\"diverging\": [[0, \"#8e0152\"], [0.1, \"#c51b7d\"], [0.2, \"#de77ae\"], [0.3, \"#f1b6da\"], [0.4, \"#fde0ef\"], [0.5, \"#f7f7f7\"], [0.6, \"#e6f5d0\"], [0.7, \"#b8e186\"], [0.8, \"#7fbc41\"], [0.9, \"#4d9221\"], [1, \"#276419\"]], \"sequential\": [[0.0, \"#0d0887\"], [0.1111111111111111, \"#46039f\"], [0.2222222222222222, \"#7201a8\"], [0.3333333333333333, \"#9c179e\"], [0.4444444444444444, \"#bd3786\"], [0.5555555555555556, \"#d8576b\"], [0.6666666666666666, \"#ed7953\"], [0.7777777777777778, \"#fb9f3a\"], [0.8888888888888888, \"#fdca26\"], [1.0, \"#f0f921\"]], \"sequentialminus\": [[0.0, \"#0d0887\"], [0.1111111111111111, \"#46039f\"], [0.2222222222222222, \"#7201a8\"], [0.3333333333333333, \"#9c179e\"], [0.4444444444444444, \"#bd3786\"], [0.5555555555555556, \"#d8576b\"], [0.6666666666666666, \"#ed7953\"], [0.7777777777777778, \"#fb9f3a\"], [0.8888888888888888, \"#fdca26\"], [1.0, \"#f0f921\"]]}, \"colorway\": [\"#636efa\", \"#EF553B\", \"#00cc96\", \"#ab63fa\", \"#FFA15A\", \"#19d3f3\", \"#FF6692\", \"#B6E880\", \"#FF97FF\", \"#FECB52\"], \"font\": {\"color\": \"#2a3f5f\"}, \"geo\": {\"bgcolor\": \"white\", \"lakecolor\": \"white\", \"landcolor\": \"#E5ECF6\", \"showlakes\": true, \"showland\": true, \"subunitcolor\": \"white\"}, \"hoverlabel\": {\"align\": \"left\"}, \"hovermode\": \"closest\", \"mapbox\": {\"style\": \"light\"}, \"paper_bgcolor\": \"white\", \"plot_bgcolor\": \"#E5ECF6\", \"polar\": {\"angularaxis\": {\"gridcolor\": \"white\", \"linecolor\": \"white\", \"ticks\": \"\"}, \"bgcolor\": \"#E5ECF6\", \"radialaxis\": {\"gridcolor\": \"white\", \"linecolor\": \"white\", \"ticks\": \"\"}}, \"scene\": {\"xaxis\": {\"backgroundcolor\": \"#E5ECF6\", \"gridcolor\": \"white\", \"gridwidth\": 2, \"linecolor\": \"white\", \"showbackground\": true, \"ticks\": \"\", \"zerolinecolor\": \"white\"}, \"yaxis\": {\"backgroundcolor\": \"#E5ECF6\", \"gridcolor\": \"white\", \"gridwidth\": 2, \"linecolor\": \"white\", \"showbackground\": true, \"ticks\": \"\", \"zerolinecolor\": \"white\"}, \"zaxis\": {\"backgroundcolor\": \"#E5ECF6\", \"gridcolor\": \"white\", \"gridwidth\": 2, \"linecolor\": \"white\", \"showbackground\": true, \"ticks\": \"\", \"zerolinecolor\": \"white\"}}, \"shapedefaults\": {\"line\": {\"color\": \"#2a3f5f\"}}, \"ternary\": {\"aaxis\": {\"gridcolor\": \"white\", \"linecolor\": \"white\", \"ticks\": \"\"}, \"baxis\": {\"gridcolor\": \"white\", \"linecolor\": \"white\", \"ticks\": \"\"}, \"bgcolor\": \"#E5ECF6\", \"caxis\": {\"gridcolor\": \"white\", \"linecolor\": \"white\", \"ticks\": \"\"}}, \"title\": {\"x\": 0.05}, \"xaxis\": {\"automargin\": true, \"gridcolor\": \"white\", \"linecolor\": \"white\", \"ticks\": \"\", \"title\": {\"standoff\": 15}, \"zerolinecolor\": \"white\", \"zerolinewidth\": 2}, \"yaxis\": {\"automargin\": true, \"gridcolor\": \"white\", \"linecolor\": \"white\", \"ticks\": \"\", \"title\": {\"standoff\": 15}, \"zerolinecolor\": \"white\", \"zerolinewidth\": 2}}}, \"title\": {\"font\": {\"color\": \"#4D5663\"}, \"text\": \"Weather Attributes and Relation\"}, \"xaxis\": {\"gridcolor\": \"#E1E5ED\", \"showgrid\": true, \"tickfont\": {\"color\": \"#4D5663\"}, \"title\": {\"font\": {\"color\": \"#4D5663\"}, \"text\": \"Time\"}, \"zerolinecolor\": \"#E1E5ED\"}, \"yaxis\": {\"gridcolor\": \"#E1E5ED\", \"showgrid\": true, \"tickfont\": {\"color\": \"#4D5663\"}, \"title\": {\"font\": {\"color\": \"#4D5663\"}, \"text\": \"Monthly mean of Weather attributes\"}, \"zerolinecolor\": \"#E1E5ED\"}, \"yaxis2\": {\"anchor\": \"x\", \"gridcolor\": \"#E1E5ED\", \"overlaying\": \"y\", \"showgrid\": true, \"side\": \"right\", \"tickfont\": {\"color\": \"#4D5663\"}, \"title\": {\"text\": \"No.of Accident\"}, \"zerolinecolor\": \"#E1E5ED\"}},                        {\"showLink\": true, \"linkText\": \"Export to plot.ly\", \"plotlyServerURL\": \"https://plot.ly\", \"responsive\": true}                    ).then(function(){\n",
       "                            \n",
       "var gd = document.getElementById('06009fcc-3422-49e2-8e7c-0c29b04ad373');\n",
       "var x = new MutationObserver(function (mutations, observer) {{\n",
       "        var display = window.getComputedStyle(gd).display;\n",
       "        if (!display || display === 'none') {{\n",
       "            console.log([gd, 'removed!']);\n",
       "            Plotly.purge(gd);\n",
       "            observer.disconnect();\n",
       "        }}\n",
       "}});\n",
       "\n",
       "// Listen for the removal of the full notebook cells\n",
       "var notebookContainer = gd.closest('#notebook-container');\n",
       "if (notebookContainer) {{\n",
       "    x.observe(notebookContainer, {childList: true});\n",
       "}}\n",
       "\n",
       "// Listen for the clearing of the current output cell\n",
       "var outputEl = gd.closest('.output');\n",
       "if (outputEl) {{\n",
       "    x.observe(outputEl, {childList: true});\n",
       "}}\n",
       "\n",
       "                        })                };                });            </script>        </div>"
      ]
     },
     "metadata": {},
     "output_type": "display_data"
    }
   ],
   "source": [
    "dfm.iloc[:,3:8].iplot(kind=\"line\", title = \"Weather Attributes and Relation\", xTitle=\"Time\",\n",
    "                      yTitle=\"Monthly mean of Weather attributes\",secondary_y=\"Accident_Count\",\n",
    "         secondary_y_title=\"No.of Accident\")"
   ]
  },
  {
   "cell_type": "markdown",
   "metadata": {},
   "source": [
    "<div style='background-color:navy; color:white; padding:20px'>\n",
    "    Purpose of this graph is to find the relatable trend. But the trend doesnot show clear relation between the attributes and number of accident.\n",
    "    <li> initially experience the rise in temperature and accident count. But later the trend doesnot follow.\n",
    "    <li> Trend of humidity remains at the same level with little fluctuation while the accident count goes on increasing.\n",
    "    <li> The trend of pressure and visibility is not comparable for this study for the accident count because it remains same throughout the trend\n",
    "</div>"
   ]
  },
  {
   "cell_type": "markdown",
   "metadata": {},
   "source": [
    "## Monthly Findings"
   ]
  },
  {
   "cell_type": "code",
   "execution_count": 28,
   "metadata": {
    "ExecuteTime": {
     "end_time": "2020-12-18T07:33:31.887590Z",
     "start_time": "2020-12-18T07:33:31.858602Z"
    }
   },
   "outputs": [],
   "source": [
    "with_tim = data1.assign(year = data1.Start_Time.dt.year,\n",
    "                   month = data1.Start_Time.dt.month,\n",
    "                   weekday = data1.Start_Time.dt.weekday,\n",
    "                   hour = data1.Start_Time.dt.hour)\n",
    "with_time = with_tim[with_tim.year < 2020]"
   ]
  },
  {
   "cell_type": "code",
   "execution_count": 29,
   "metadata": {
    "ExecuteTime": {
     "end_time": "2020-12-18T07:34:16.407510Z",
     "start_time": "2020-12-18T07:33:31.889597Z"
    }
   },
   "outputs": [],
   "source": [
    "monthy_stats = with_time.groupby(\"month\")\n",
    "acc_counts = monthy_stats.count().Severity.compute()\n",
    "m_m = monthy_stats.mean().compute()\n",
    "m_m[\"acc_counts\"] = acc_counts"
   ]
  },
  {
   "cell_type": "code",
   "execution_count": 30,
   "metadata": {
    "ExecuteTime": {
     "end_time": "2020-12-18T07:34:16.681587Z",
     "start_time": "2020-12-18T07:34:16.410523Z"
    },
    "scrolled": false
   },
   "outputs": [
    {
     "data": {
      "application/vnd.plotly.v1+json": {
       "config": {
        "linkText": "Export to plot.ly",
        "plotlyServerURL": "https://plot.ly",
        "showLink": true
       },
       "data": [
        {
         "marker": {
          "color": "rgba(255, 153, 51, 0.5)",
          "line": {
           "color": "rgba(255, 153, 51, 1.0)",
           "width": 1
          }
         },
         "name": "Temperature(F)",
         "orientation": "v",
         "text": "",
         "type": "bar",
         "x": [
          1,
          2,
          4,
          5,
          6,
          7,
          8,
          10,
          11,
          12,
          3,
          9
         ],
         "y": [
          43.02265212976758,
          47.47683122549114,
          61.177266556187625,
          69.25911271806773,
          75.51002167684045,
          80.00277048417122,
          78.60467569600698,
          64.4010205995781,
          53.69606777933831,
          45.91837399888249,
          52.306952223889716,
          74.37648434625025
         ]
        },
        {
         "marker": {
          "color": "rgba(55, 128, 191, 0.5)",
          "line": {
           "color": "rgba(55, 128, 191, 1.0)",
           "width": 1
          }
         },
         "name": "Humidity(%)",
         "orientation": "v",
         "text": "",
         "type": "bar",
         "x": [
          1,
          2,
          4,
          5,
          6,
          7,
          8,
          10,
          11,
          12,
          3,
          9
         ],
         "y": [
          69.28514535256252,
          70.95754018749838,
          61.45822482691314,
          64.22252202751231,
          62.49227855986047,
          62.39862197392924,
          65.11531125553935,
          64.66524333828266,
          66.64249221955988,
          69.6707263232687,
          61.75816284586546,
          65.10694723582529
         ]
        },
        {
         "marker": {
          "color": "rgba(50, 171, 96, 0.5)",
          "line": {
           "color": "rgba(50, 171, 96, 1.0)",
           "width": 1
          }
         },
         "name": "Pressure(in)",
         "orientation": "v",
         "text": "",
         "type": "bar",
         "x": [
          1,
          2,
          4,
          5,
          6,
          7,
          8,
          10,
          11,
          12,
          3,
          9
         ],
         "y": [
          30.101800962116457,
          30.06879336224553,
          29.722594539490043,
          29.670987754861464,
          29.679781587143395,
          29.756235242085857,
          29.767194439789492,
          29.790113060812928,
          29.852091044919902,
          29.833211405668365,
          30.058204000574868,
          29.77462995725612
         ]
        },
        {
         "marker": {
          "color": "rgba(128, 0, 128, 0.5)",
          "line": {
           "color": "rgba(128, 0, 128, 1.0)",
           "width": 1
          }
         },
         "name": "Visibility(mi)",
         "orientation": "v",
         "text": "",
         "type": "bar",
         "x": [
          1,
          2,
          4,
          5,
          6,
          7,
          8,
          10,
          11,
          12,
          3,
          9
         ],
         "y": [
          8.59555474502921,
          8.350207858311485,
          9.301575295805806,
          9.407646146902412,
          9.512548399152859,
          9.60458165735568,
          9.43390052514679,
          9.339336355918999,
          8.972924894654216,
          8.62606547877734,
          9.119566117441966,
          9.441576450024069
         ]
        },
        {
         "marker": {
          "color": "rgba(219, 64, 82, 0.5)",
          "line": {
           "color": "rgba(219, 64, 82, 1.0)",
           "width": 1
          }
         },
         "name": "acc_counts",
         "orientation": "v",
         "text": "",
         "type": "bar",
         "x": [
          1,
          2,
          4,
          5,
          6,
          7,
          8,
          10,
          11,
          12,
          3,
          9
         ],
         "xaxis": "x",
         "y": [
          202886,
          192535,
          206977,
          203836,
          200675,
          214800,
          280493,
          314521,
          290472,
          289926,
          201921,
          282616
         ],
         "yaxis": "y2"
        }
       ],
       "layout": {
        "legend": {
         "bgcolor": "#F5F6F9",
         "font": {
          "color": "#4D5663"
         }
        },
        "paper_bgcolor": "#F5F6F9",
        "plot_bgcolor": "#F5F6F9",
        "template": {
         "data": {
          "bar": [
           {
            "error_x": {
             "color": "#2a3f5f"
            },
            "error_y": {
             "color": "#2a3f5f"
            },
            "marker": {
             "line": {
              "color": "#E5ECF6",
              "width": 0.5
             }
            },
            "type": "bar"
           }
          ],
          "barpolar": [
           {
            "marker": {
             "line": {
              "color": "#E5ECF6",
              "width": 0.5
             }
            },
            "type": "barpolar"
           }
          ],
          "carpet": [
           {
            "aaxis": {
             "endlinecolor": "#2a3f5f",
             "gridcolor": "white",
             "linecolor": "white",
             "minorgridcolor": "white",
             "startlinecolor": "#2a3f5f"
            },
            "baxis": {
             "endlinecolor": "#2a3f5f",
             "gridcolor": "white",
             "linecolor": "white",
             "minorgridcolor": "white",
             "startlinecolor": "#2a3f5f"
            },
            "type": "carpet"
           }
          ],
          "choropleth": [
           {
            "colorbar": {
             "outlinewidth": 0,
             "ticks": ""
            },
            "type": "choropleth"
           }
          ],
          "contour": [
           {
            "colorbar": {
             "outlinewidth": 0,
             "ticks": ""
            },
            "colorscale": [
             [
              0,
              "#0d0887"
             ],
             [
              0.1111111111111111,
              "#46039f"
             ],
             [
              0.2222222222222222,
              "#7201a8"
             ],
             [
              0.3333333333333333,
              "#9c179e"
             ],
             [
              0.4444444444444444,
              "#bd3786"
             ],
             [
              0.5555555555555556,
              "#d8576b"
             ],
             [
              0.6666666666666666,
              "#ed7953"
             ],
             [
              0.7777777777777778,
              "#fb9f3a"
             ],
             [
              0.8888888888888888,
              "#fdca26"
             ],
             [
              1,
              "#f0f921"
             ]
            ],
            "type": "contour"
           }
          ],
          "contourcarpet": [
           {
            "colorbar": {
             "outlinewidth": 0,
             "ticks": ""
            },
            "type": "contourcarpet"
           }
          ],
          "heatmap": [
           {
            "colorbar": {
             "outlinewidth": 0,
             "ticks": ""
            },
            "colorscale": [
             [
              0,
              "#0d0887"
             ],
             [
              0.1111111111111111,
              "#46039f"
             ],
             [
              0.2222222222222222,
              "#7201a8"
             ],
             [
              0.3333333333333333,
              "#9c179e"
             ],
             [
              0.4444444444444444,
              "#bd3786"
             ],
             [
              0.5555555555555556,
              "#d8576b"
             ],
             [
              0.6666666666666666,
              "#ed7953"
             ],
             [
              0.7777777777777778,
              "#fb9f3a"
             ],
             [
              0.8888888888888888,
              "#fdca26"
             ],
             [
              1,
              "#f0f921"
             ]
            ],
            "type": "heatmap"
           }
          ],
          "heatmapgl": [
           {
            "colorbar": {
             "outlinewidth": 0,
             "ticks": ""
            },
            "colorscale": [
             [
              0,
              "#0d0887"
             ],
             [
              0.1111111111111111,
              "#46039f"
             ],
             [
              0.2222222222222222,
              "#7201a8"
             ],
             [
              0.3333333333333333,
              "#9c179e"
             ],
             [
              0.4444444444444444,
              "#bd3786"
             ],
             [
              0.5555555555555556,
              "#d8576b"
             ],
             [
              0.6666666666666666,
              "#ed7953"
             ],
             [
              0.7777777777777778,
              "#fb9f3a"
             ],
             [
              0.8888888888888888,
              "#fdca26"
             ],
             [
              1,
              "#f0f921"
             ]
            ],
            "type": "heatmapgl"
           }
          ],
          "histogram": [
           {
            "marker": {
             "colorbar": {
              "outlinewidth": 0,
              "ticks": ""
             }
            },
            "type": "histogram"
           }
          ],
          "histogram2d": [
           {
            "colorbar": {
             "outlinewidth": 0,
             "ticks": ""
            },
            "colorscale": [
             [
              0,
              "#0d0887"
             ],
             [
              0.1111111111111111,
              "#46039f"
             ],
             [
              0.2222222222222222,
              "#7201a8"
             ],
             [
              0.3333333333333333,
              "#9c179e"
             ],
             [
              0.4444444444444444,
              "#bd3786"
             ],
             [
              0.5555555555555556,
              "#d8576b"
             ],
             [
              0.6666666666666666,
              "#ed7953"
             ],
             [
              0.7777777777777778,
              "#fb9f3a"
             ],
             [
              0.8888888888888888,
              "#fdca26"
             ],
             [
              1,
              "#f0f921"
             ]
            ],
            "type": "histogram2d"
           }
          ],
          "histogram2dcontour": [
           {
            "colorbar": {
             "outlinewidth": 0,
             "ticks": ""
            },
            "colorscale": [
             [
              0,
              "#0d0887"
             ],
             [
              0.1111111111111111,
              "#46039f"
             ],
             [
              0.2222222222222222,
              "#7201a8"
             ],
             [
              0.3333333333333333,
              "#9c179e"
             ],
             [
              0.4444444444444444,
              "#bd3786"
             ],
             [
              0.5555555555555556,
              "#d8576b"
             ],
             [
              0.6666666666666666,
              "#ed7953"
             ],
             [
              0.7777777777777778,
              "#fb9f3a"
             ],
             [
              0.8888888888888888,
              "#fdca26"
             ],
             [
              1,
              "#f0f921"
             ]
            ],
            "type": "histogram2dcontour"
           }
          ],
          "mesh3d": [
           {
            "colorbar": {
             "outlinewidth": 0,
             "ticks": ""
            },
            "type": "mesh3d"
           }
          ],
          "parcoords": [
           {
            "line": {
             "colorbar": {
              "outlinewidth": 0,
              "ticks": ""
             }
            },
            "type": "parcoords"
           }
          ],
          "pie": [
           {
            "automargin": true,
            "type": "pie"
           }
          ],
          "scatter": [
           {
            "marker": {
             "colorbar": {
              "outlinewidth": 0,
              "ticks": ""
             }
            },
            "type": "scatter"
           }
          ],
          "scatter3d": [
           {
            "line": {
             "colorbar": {
              "outlinewidth": 0,
              "ticks": ""
             }
            },
            "marker": {
             "colorbar": {
              "outlinewidth": 0,
              "ticks": ""
             }
            },
            "type": "scatter3d"
           }
          ],
          "scattercarpet": [
           {
            "marker": {
             "colorbar": {
              "outlinewidth": 0,
              "ticks": ""
             }
            },
            "type": "scattercarpet"
           }
          ],
          "scattergeo": [
           {
            "marker": {
             "colorbar": {
              "outlinewidth": 0,
              "ticks": ""
             }
            },
            "type": "scattergeo"
           }
          ],
          "scattergl": [
           {
            "marker": {
             "colorbar": {
              "outlinewidth": 0,
              "ticks": ""
             }
            },
            "type": "scattergl"
           }
          ],
          "scattermapbox": [
           {
            "marker": {
             "colorbar": {
              "outlinewidth": 0,
              "ticks": ""
             }
            },
            "type": "scattermapbox"
           }
          ],
          "scatterpolar": [
           {
            "marker": {
             "colorbar": {
              "outlinewidth": 0,
              "ticks": ""
             }
            },
            "type": "scatterpolar"
           }
          ],
          "scatterpolargl": [
           {
            "marker": {
             "colorbar": {
              "outlinewidth": 0,
              "ticks": ""
             }
            },
            "type": "scatterpolargl"
           }
          ],
          "scatterternary": [
           {
            "marker": {
             "colorbar": {
              "outlinewidth": 0,
              "ticks": ""
             }
            },
            "type": "scatterternary"
           }
          ],
          "surface": [
           {
            "colorbar": {
             "outlinewidth": 0,
             "ticks": ""
            },
            "colorscale": [
             [
              0,
              "#0d0887"
             ],
             [
              0.1111111111111111,
              "#46039f"
             ],
             [
              0.2222222222222222,
              "#7201a8"
             ],
             [
              0.3333333333333333,
              "#9c179e"
             ],
             [
              0.4444444444444444,
              "#bd3786"
             ],
             [
              0.5555555555555556,
              "#d8576b"
             ],
             [
              0.6666666666666666,
              "#ed7953"
             ],
             [
              0.7777777777777778,
              "#fb9f3a"
             ],
             [
              0.8888888888888888,
              "#fdca26"
             ],
             [
              1,
              "#f0f921"
             ]
            ],
            "type": "surface"
           }
          ],
          "table": [
           {
            "cells": {
             "fill": {
              "color": "#EBF0F8"
             },
             "line": {
              "color": "white"
             }
            },
            "header": {
             "fill": {
              "color": "#C8D4E3"
             },
             "line": {
              "color": "white"
             }
            },
            "type": "table"
           }
          ]
         },
         "layout": {
          "annotationdefaults": {
           "arrowcolor": "#2a3f5f",
           "arrowhead": 0,
           "arrowwidth": 1
          },
          "coloraxis": {
           "colorbar": {
            "outlinewidth": 0,
            "ticks": ""
           }
          },
          "colorscale": {
           "diverging": [
            [
             0,
             "#8e0152"
            ],
            [
             0.1,
             "#c51b7d"
            ],
            [
             0.2,
             "#de77ae"
            ],
            [
             0.3,
             "#f1b6da"
            ],
            [
             0.4,
             "#fde0ef"
            ],
            [
             0.5,
             "#f7f7f7"
            ],
            [
             0.6,
             "#e6f5d0"
            ],
            [
             0.7,
             "#b8e186"
            ],
            [
             0.8,
             "#7fbc41"
            ],
            [
             0.9,
             "#4d9221"
            ],
            [
             1,
             "#276419"
            ]
           ],
           "sequential": [
            [
             0,
             "#0d0887"
            ],
            [
             0.1111111111111111,
             "#46039f"
            ],
            [
             0.2222222222222222,
             "#7201a8"
            ],
            [
             0.3333333333333333,
             "#9c179e"
            ],
            [
             0.4444444444444444,
             "#bd3786"
            ],
            [
             0.5555555555555556,
             "#d8576b"
            ],
            [
             0.6666666666666666,
             "#ed7953"
            ],
            [
             0.7777777777777778,
             "#fb9f3a"
            ],
            [
             0.8888888888888888,
             "#fdca26"
            ],
            [
             1,
             "#f0f921"
            ]
           ],
           "sequentialminus": [
            [
             0,
             "#0d0887"
            ],
            [
             0.1111111111111111,
             "#46039f"
            ],
            [
             0.2222222222222222,
             "#7201a8"
            ],
            [
             0.3333333333333333,
             "#9c179e"
            ],
            [
             0.4444444444444444,
             "#bd3786"
            ],
            [
             0.5555555555555556,
             "#d8576b"
            ],
            [
             0.6666666666666666,
             "#ed7953"
            ],
            [
             0.7777777777777778,
             "#fb9f3a"
            ],
            [
             0.8888888888888888,
             "#fdca26"
            ],
            [
             1,
             "#f0f921"
            ]
           ]
          },
          "colorway": [
           "#636efa",
           "#EF553B",
           "#00cc96",
           "#ab63fa",
           "#FFA15A",
           "#19d3f3",
           "#FF6692",
           "#B6E880",
           "#FF97FF",
           "#FECB52"
          ],
          "font": {
           "color": "#2a3f5f"
          },
          "geo": {
           "bgcolor": "white",
           "lakecolor": "white",
           "landcolor": "#E5ECF6",
           "showlakes": true,
           "showland": true,
           "subunitcolor": "white"
          },
          "hoverlabel": {
           "align": "left"
          },
          "hovermode": "closest",
          "mapbox": {
           "style": "light"
          },
          "paper_bgcolor": "white",
          "plot_bgcolor": "#E5ECF6",
          "polar": {
           "angularaxis": {
            "gridcolor": "white",
            "linecolor": "white",
            "ticks": ""
           },
           "bgcolor": "#E5ECF6",
           "radialaxis": {
            "gridcolor": "white",
            "linecolor": "white",
            "ticks": ""
           }
          },
          "scene": {
           "xaxis": {
            "backgroundcolor": "#E5ECF6",
            "gridcolor": "white",
            "gridwidth": 2,
            "linecolor": "white",
            "showbackground": true,
            "ticks": "",
            "zerolinecolor": "white"
           },
           "yaxis": {
            "backgroundcolor": "#E5ECF6",
            "gridcolor": "white",
            "gridwidth": 2,
            "linecolor": "white",
            "showbackground": true,
            "ticks": "",
            "zerolinecolor": "white"
           },
           "zaxis": {
            "backgroundcolor": "#E5ECF6",
            "gridcolor": "white",
            "gridwidth": 2,
            "linecolor": "white",
            "showbackground": true,
            "ticks": "",
            "zerolinecolor": "white"
           }
          },
          "shapedefaults": {
           "line": {
            "color": "#2a3f5f"
           }
          },
          "ternary": {
           "aaxis": {
            "gridcolor": "white",
            "linecolor": "white",
            "ticks": ""
           },
           "baxis": {
            "gridcolor": "white",
            "linecolor": "white",
            "ticks": ""
           },
           "bgcolor": "#E5ECF6",
           "caxis": {
            "gridcolor": "white",
            "linecolor": "white",
            "ticks": ""
           }
          },
          "title": {
           "x": 0.05
          },
          "xaxis": {
           "automargin": true,
           "gridcolor": "white",
           "linecolor": "white",
           "ticks": "",
           "title": {
            "standoff": 15
           },
           "zerolinecolor": "white",
           "zerolinewidth": 2
          },
          "yaxis": {
           "automargin": true,
           "gridcolor": "white",
           "linecolor": "white",
           "ticks": "",
           "title": {
            "standoff": 15
           },
           "zerolinecolor": "white",
           "zerolinewidth": 2
          }
         }
        },
        "title": {
         "font": {
          "color": "#4D5663"
         },
         "text": "Monthly Preview of Accident and Weather Attributes"
        },
        "xaxis": {
         "gridcolor": "#E1E5ED",
         "showgrid": true,
         "tickfont": {
          "color": "#4D5663"
         },
         "title": {
          "font": {
           "color": "#4D5663"
          },
          "text": "Months"
         },
         "zerolinecolor": "#E1E5ED"
        },
        "yaxis": {
         "gridcolor": "#E1E5ED",
         "showgrid": true,
         "tickfont": {
          "color": "#4D5663"
         },
         "title": {
          "font": {
           "color": "#4D5663"
          },
          "text": "Mean of Monthly Summation"
         },
         "zerolinecolor": "#E1E5ED"
        },
        "yaxis2": {
         "anchor": "x",
         "gridcolor": "#E1E5ED",
         "overlaying": "y",
         "showgrid": true,
         "side": "right",
         "tickfont": {
          "color": "#4D5663"
         },
         "title": {
          "text": "Month-Wise accident count"
         },
         "zerolinecolor": "#E1E5ED"
        }
       }
      },
      "text/html": [
       "<div>                            <div id=\"d963d742-edb3-4cfb-8e43-d399809f1df0\" class=\"plotly-graph-div\" style=\"height:525px; width:100%;\"></div>            <script type=\"text/javascript\">                require([\"plotly\"], function(Plotly) {                    window.PLOTLYENV=window.PLOTLYENV || {};\n",
       "                    window.PLOTLYENV.BASE_URL='https://plot.ly';                                    if (document.getElementById(\"d963d742-edb3-4cfb-8e43-d399809f1df0\")) {                    Plotly.newPlot(                        \"d963d742-edb3-4cfb-8e43-d399809f1df0\",                        [{\"marker\": {\"color\": \"rgba(255, 153, 51, 0.5)\", \"line\": {\"color\": \"rgba(255, 153, 51, 1.0)\", \"width\": 1}}, \"name\": \"Temperature(F)\", \"orientation\": \"v\", \"text\": \"\", \"type\": \"bar\", \"x\": [1, 2, 4, 5, 6, 7, 8, 10, 11, 12, 3, 9], \"y\": [43.02265212976758, 47.47683122549114, 61.177266556187625, 69.25911271806773, 75.51002167684045, 80.00277048417122, 78.60467569600698, 64.4010205995781, 53.69606777933831, 45.91837399888249, 52.306952223889716, 74.37648434625025]}, {\"marker\": {\"color\": \"rgba(55, 128, 191, 0.5)\", \"line\": {\"color\": \"rgba(55, 128, 191, 1.0)\", \"width\": 1}}, \"name\": \"Humidity(%)\", \"orientation\": \"v\", \"text\": \"\", \"type\": \"bar\", \"x\": [1, 2, 4, 5, 6, 7, 8, 10, 11, 12, 3, 9], \"y\": [69.28514535256252, 70.95754018749838, 61.45822482691314, 64.22252202751231, 62.49227855986047, 62.39862197392924, 65.11531125553935, 64.66524333828266, 66.64249221955988, 69.6707263232687, 61.75816284586546, 65.10694723582529]}, {\"marker\": {\"color\": \"rgba(50, 171, 96, 0.5)\", \"line\": {\"color\": \"rgba(50, 171, 96, 1.0)\", \"width\": 1}}, \"name\": \"Pressure(in)\", \"orientation\": \"v\", \"text\": \"\", \"type\": \"bar\", \"x\": [1, 2, 4, 5, 6, 7, 8, 10, 11, 12, 3, 9], \"y\": [30.101800962116457, 30.06879336224553, 29.722594539490043, 29.670987754861464, 29.679781587143395, 29.756235242085857, 29.767194439789492, 29.790113060812928, 29.852091044919902, 29.833211405668365, 30.058204000574868, 29.77462995725612]}, {\"marker\": {\"color\": \"rgba(128, 0, 128, 0.5)\", \"line\": {\"color\": \"rgba(128, 0, 128, 1.0)\", \"width\": 1}}, \"name\": \"Visibility(mi)\", \"orientation\": \"v\", \"text\": \"\", \"type\": \"bar\", \"x\": [1, 2, 4, 5, 6, 7, 8, 10, 11, 12, 3, 9], \"y\": [8.59555474502921, 8.350207858311485, 9.301575295805806, 9.407646146902412, 9.512548399152859, 9.60458165735568, 9.43390052514679, 9.339336355918999, 8.972924894654216, 8.62606547877734, 9.119566117441966, 9.441576450024069]}, {\"marker\": {\"color\": \"rgba(219, 64, 82, 0.5)\", \"line\": {\"color\": \"rgba(219, 64, 82, 1.0)\", \"width\": 1}}, \"name\": \"acc_counts\", \"orientation\": \"v\", \"text\": \"\", \"type\": \"bar\", \"x\": [1, 2, 4, 5, 6, 7, 8, 10, 11, 12, 3, 9], \"xaxis\": \"x\", \"y\": [202886, 192535, 206977, 203836, 200675, 214800, 280493, 314521, 290472, 289926, 201921, 282616], \"yaxis\": \"y2\"}],                        {\"legend\": {\"bgcolor\": \"#F5F6F9\", \"font\": {\"color\": \"#4D5663\"}}, \"paper_bgcolor\": \"#F5F6F9\", \"plot_bgcolor\": \"#F5F6F9\", \"template\": {\"data\": {\"bar\": [{\"error_x\": {\"color\": \"#2a3f5f\"}, \"error_y\": {\"color\": \"#2a3f5f\"}, \"marker\": {\"line\": {\"color\": \"#E5ECF6\", \"width\": 0.5}}, \"type\": \"bar\"}], \"barpolar\": [{\"marker\": {\"line\": {\"color\": \"#E5ECF6\", \"width\": 0.5}}, \"type\": \"barpolar\"}], \"carpet\": [{\"aaxis\": {\"endlinecolor\": \"#2a3f5f\", \"gridcolor\": \"white\", \"linecolor\": \"white\", \"minorgridcolor\": \"white\", \"startlinecolor\": \"#2a3f5f\"}, \"baxis\": {\"endlinecolor\": \"#2a3f5f\", \"gridcolor\": \"white\", \"linecolor\": \"white\", \"minorgridcolor\": \"white\", \"startlinecolor\": \"#2a3f5f\"}, \"type\": \"carpet\"}], \"choropleth\": [{\"colorbar\": {\"outlinewidth\": 0, \"ticks\": \"\"}, \"type\": \"choropleth\"}], \"contour\": [{\"colorbar\": {\"outlinewidth\": 0, \"ticks\": \"\"}, \"colorscale\": [[0.0, \"#0d0887\"], [0.1111111111111111, \"#46039f\"], [0.2222222222222222, \"#7201a8\"], [0.3333333333333333, \"#9c179e\"], [0.4444444444444444, \"#bd3786\"], [0.5555555555555556, \"#d8576b\"], [0.6666666666666666, \"#ed7953\"], [0.7777777777777778, \"#fb9f3a\"], [0.8888888888888888, \"#fdca26\"], [1.0, \"#f0f921\"]], \"type\": \"contour\"}], \"contourcarpet\": [{\"colorbar\": {\"outlinewidth\": 0, \"ticks\": \"\"}, \"type\": \"contourcarpet\"}], \"heatmap\": [{\"colorbar\": {\"outlinewidth\": 0, \"ticks\": \"\"}, \"colorscale\": [[0.0, \"#0d0887\"], [0.1111111111111111, \"#46039f\"], [0.2222222222222222, \"#7201a8\"], [0.3333333333333333, \"#9c179e\"], [0.4444444444444444, \"#bd3786\"], [0.5555555555555556, \"#d8576b\"], [0.6666666666666666, \"#ed7953\"], [0.7777777777777778, \"#fb9f3a\"], [0.8888888888888888, \"#fdca26\"], [1.0, \"#f0f921\"]], \"type\": \"heatmap\"}], \"heatmapgl\": [{\"colorbar\": {\"outlinewidth\": 0, \"ticks\": \"\"}, \"colorscale\": [[0.0, \"#0d0887\"], [0.1111111111111111, \"#46039f\"], [0.2222222222222222, \"#7201a8\"], [0.3333333333333333, \"#9c179e\"], [0.4444444444444444, \"#bd3786\"], [0.5555555555555556, \"#d8576b\"], [0.6666666666666666, \"#ed7953\"], [0.7777777777777778, \"#fb9f3a\"], [0.8888888888888888, \"#fdca26\"], [1.0, \"#f0f921\"]], \"type\": \"heatmapgl\"}], \"histogram\": [{\"marker\": {\"colorbar\": {\"outlinewidth\": 0, \"ticks\": \"\"}}, \"type\": \"histogram\"}], \"histogram2d\": [{\"colorbar\": {\"outlinewidth\": 0, \"ticks\": \"\"}, \"colorscale\": [[0.0, \"#0d0887\"], [0.1111111111111111, \"#46039f\"], [0.2222222222222222, \"#7201a8\"], [0.3333333333333333, \"#9c179e\"], [0.4444444444444444, \"#bd3786\"], [0.5555555555555556, \"#d8576b\"], [0.6666666666666666, \"#ed7953\"], [0.7777777777777778, \"#fb9f3a\"], [0.8888888888888888, \"#fdca26\"], [1.0, \"#f0f921\"]], \"type\": \"histogram2d\"}], \"histogram2dcontour\": [{\"colorbar\": {\"outlinewidth\": 0, \"ticks\": \"\"}, \"colorscale\": [[0.0, \"#0d0887\"], [0.1111111111111111, \"#46039f\"], [0.2222222222222222, \"#7201a8\"], [0.3333333333333333, \"#9c179e\"], [0.4444444444444444, \"#bd3786\"], [0.5555555555555556, \"#d8576b\"], [0.6666666666666666, \"#ed7953\"], [0.7777777777777778, \"#fb9f3a\"], [0.8888888888888888, \"#fdca26\"], [1.0, \"#f0f921\"]], \"type\": \"histogram2dcontour\"}], \"mesh3d\": [{\"colorbar\": {\"outlinewidth\": 0, \"ticks\": \"\"}, \"type\": \"mesh3d\"}], \"parcoords\": [{\"line\": {\"colorbar\": {\"outlinewidth\": 0, \"ticks\": \"\"}}, \"type\": \"parcoords\"}], \"pie\": [{\"automargin\": true, \"type\": \"pie\"}], \"scatter\": [{\"marker\": {\"colorbar\": {\"outlinewidth\": 0, \"ticks\": \"\"}}, \"type\": \"scatter\"}], \"scatter3d\": [{\"line\": {\"colorbar\": {\"outlinewidth\": 0, \"ticks\": \"\"}}, \"marker\": {\"colorbar\": {\"outlinewidth\": 0, \"ticks\": \"\"}}, \"type\": \"scatter3d\"}], \"scattercarpet\": [{\"marker\": {\"colorbar\": {\"outlinewidth\": 0, \"ticks\": \"\"}}, \"type\": \"scattercarpet\"}], \"scattergeo\": [{\"marker\": {\"colorbar\": {\"outlinewidth\": 0, \"ticks\": \"\"}}, \"type\": \"scattergeo\"}], \"scattergl\": [{\"marker\": {\"colorbar\": {\"outlinewidth\": 0, \"ticks\": \"\"}}, \"type\": \"scattergl\"}], \"scattermapbox\": [{\"marker\": {\"colorbar\": {\"outlinewidth\": 0, \"ticks\": \"\"}}, \"type\": \"scattermapbox\"}], \"scatterpolar\": [{\"marker\": {\"colorbar\": {\"outlinewidth\": 0, \"ticks\": \"\"}}, \"type\": \"scatterpolar\"}], \"scatterpolargl\": [{\"marker\": {\"colorbar\": {\"outlinewidth\": 0, \"ticks\": \"\"}}, \"type\": \"scatterpolargl\"}], \"scatterternary\": [{\"marker\": {\"colorbar\": {\"outlinewidth\": 0, \"ticks\": \"\"}}, \"type\": \"scatterternary\"}], \"surface\": [{\"colorbar\": {\"outlinewidth\": 0, \"ticks\": \"\"}, \"colorscale\": [[0.0, \"#0d0887\"], [0.1111111111111111, \"#46039f\"], [0.2222222222222222, \"#7201a8\"], [0.3333333333333333, \"#9c179e\"], [0.4444444444444444, \"#bd3786\"], [0.5555555555555556, \"#d8576b\"], [0.6666666666666666, \"#ed7953\"], [0.7777777777777778, \"#fb9f3a\"], [0.8888888888888888, \"#fdca26\"], [1.0, \"#f0f921\"]], \"type\": \"surface\"}], \"table\": [{\"cells\": {\"fill\": {\"color\": \"#EBF0F8\"}, \"line\": {\"color\": \"white\"}}, \"header\": {\"fill\": {\"color\": \"#C8D4E3\"}, \"line\": {\"color\": \"white\"}}, \"type\": \"table\"}]}, \"layout\": {\"annotationdefaults\": {\"arrowcolor\": \"#2a3f5f\", \"arrowhead\": 0, \"arrowwidth\": 1}, \"coloraxis\": {\"colorbar\": {\"outlinewidth\": 0, \"ticks\": \"\"}}, \"colorscale\": {\"diverging\": [[0, \"#8e0152\"], [0.1, \"#c51b7d\"], [0.2, \"#de77ae\"], [0.3, \"#f1b6da\"], [0.4, \"#fde0ef\"], [0.5, \"#f7f7f7\"], [0.6, \"#e6f5d0\"], [0.7, \"#b8e186\"], [0.8, \"#7fbc41\"], [0.9, \"#4d9221\"], [1, \"#276419\"]], \"sequential\": [[0.0, \"#0d0887\"], [0.1111111111111111, \"#46039f\"], [0.2222222222222222, \"#7201a8\"], [0.3333333333333333, \"#9c179e\"], [0.4444444444444444, \"#bd3786\"], [0.5555555555555556, \"#d8576b\"], [0.6666666666666666, \"#ed7953\"], [0.7777777777777778, \"#fb9f3a\"], [0.8888888888888888, \"#fdca26\"], [1.0, \"#f0f921\"]], \"sequentialminus\": [[0.0, \"#0d0887\"], [0.1111111111111111, \"#46039f\"], [0.2222222222222222, \"#7201a8\"], [0.3333333333333333, \"#9c179e\"], [0.4444444444444444, \"#bd3786\"], [0.5555555555555556, \"#d8576b\"], [0.6666666666666666, \"#ed7953\"], [0.7777777777777778, \"#fb9f3a\"], [0.8888888888888888, \"#fdca26\"], [1.0, \"#f0f921\"]]}, \"colorway\": [\"#636efa\", \"#EF553B\", \"#00cc96\", \"#ab63fa\", \"#FFA15A\", \"#19d3f3\", \"#FF6692\", \"#B6E880\", \"#FF97FF\", \"#FECB52\"], \"font\": {\"color\": \"#2a3f5f\"}, \"geo\": {\"bgcolor\": \"white\", \"lakecolor\": \"white\", \"landcolor\": \"#E5ECF6\", \"showlakes\": true, \"showland\": true, \"subunitcolor\": \"white\"}, \"hoverlabel\": {\"align\": \"left\"}, \"hovermode\": \"closest\", \"mapbox\": {\"style\": \"light\"}, \"paper_bgcolor\": \"white\", \"plot_bgcolor\": \"#E5ECF6\", \"polar\": {\"angularaxis\": {\"gridcolor\": \"white\", \"linecolor\": \"white\", \"ticks\": \"\"}, \"bgcolor\": \"#E5ECF6\", \"radialaxis\": {\"gridcolor\": \"white\", \"linecolor\": \"white\", \"ticks\": \"\"}}, \"scene\": {\"xaxis\": {\"backgroundcolor\": \"#E5ECF6\", \"gridcolor\": \"white\", \"gridwidth\": 2, \"linecolor\": \"white\", \"showbackground\": true, \"ticks\": \"\", \"zerolinecolor\": \"white\"}, \"yaxis\": {\"backgroundcolor\": \"#E5ECF6\", \"gridcolor\": \"white\", \"gridwidth\": 2, \"linecolor\": \"white\", \"showbackground\": true, \"ticks\": \"\", \"zerolinecolor\": \"white\"}, \"zaxis\": {\"backgroundcolor\": \"#E5ECF6\", \"gridcolor\": \"white\", \"gridwidth\": 2, \"linecolor\": \"white\", \"showbackground\": true, \"ticks\": \"\", \"zerolinecolor\": \"white\"}}, \"shapedefaults\": {\"line\": {\"color\": \"#2a3f5f\"}}, \"ternary\": {\"aaxis\": {\"gridcolor\": \"white\", \"linecolor\": \"white\", \"ticks\": \"\"}, \"baxis\": {\"gridcolor\": \"white\", \"linecolor\": \"white\", \"ticks\": \"\"}, \"bgcolor\": \"#E5ECF6\", \"caxis\": {\"gridcolor\": \"white\", \"linecolor\": \"white\", \"ticks\": \"\"}}, \"title\": {\"x\": 0.05}, \"xaxis\": {\"automargin\": true, \"gridcolor\": \"white\", \"linecolor\": \"white\", \"ticks\": \"\", \"title\": {\"standoff\": 15}, \"zerolinecolor\": \"white\", \"zerolinewidth\": 2}, \"yaxis\": {\"automargin\": true, \"gridcolor\": \"white\", \"linecolor\": \"white\", \"ticks\": \"\", \"title\": {\"standoff\": 15}, \"zerolinecolor\": \"white\", \"zerolinewidth\": 2}}}, \"title\": {\"font\": {\"color\": \"#4D5663\"}, \"text\": \"Monthly Preview of Accident and Weather Attributes\"}, \"xaxis\": {\"gridcolor\": \"#E1E5ED\", \"showgrid\": true, \"tickfont\": {\"color\": \"#4D5663\"}, \"title\": {\"font\": {\"color\": \"#4D5663\"}, \"text\": \"Months\"}, \"zerolinecolor\": \"#E1E5ED\"}, \"yaxis\": {\"gridcolor\": \"#E1E5ED\", \"showgrid\": true, \"tickfont\": {\"color\": \"#4D5663\"}, \"title\": {\"font\": {\"color\": \"#4D5663\"}, \"text\": \"Mean of Monthly Summation\"}, \"zerolinecolor\": \"#E1E5ED\"}, \"yaxis2\": {\"anchor\": \"x\", \"gridcolor\": \"#E1E5ED\", \"overlaying\": \"y\", \"showgrid\": true, \"side\": \"right\", \"tickfont\": {\"color\": \"#4D5663\"}, \"title\": {\"text\": \"Month-Wise accident count\"}, \"zerolinecolor\": \"#E1E5ED\"}},                        {\"showLink\": true, \"linkText\": \"Export to plot.ly\", \"plotlyServerURL\": \"https://plot.ly\", \"responsive\": true}                    ).then(function(){\n",
       "                            \n",
       "var gd = document.getElementById('d963d742-edb3-4cfb-8e43-d399809f1df0');\n",
       "var x = new MutationObserver(function (mutations, observer) {{\n",
       "        var display = window.getComputedStyle(gd).display;\n",
       "        if (!display || display === 'none') {{\n",
       "            console.log([gd, 'removed!']);\n",
       "            Plotly.purge(gd);\n",
       "            observer.disconnect();\n",
       "        }}\n",
       "}});\n",
       "\n",
       "// Listen for the removal of the full notebook cells\n",
       "var notebookContainer = gd.closest('#notebook-container');\n",
       "if (notebookContainer) {{\n",
       "    x.observe(notebookContainer, {childList: true});\n",
       "}}\n",
       "\n",
       "// Listen for the clearing of the current output cell\n",
       "var outputEl = gd.closest('.output');\n",
       "if (outputEl) {{\n",
       "    x.observe(outputEl, {childList: true});\n",
       "}}\n",
       "\n",
       "                        })                };                });            </script>        </div>"
      ]
     },
     "metadata": {},
     "output_type": "display_data"
    }
   ],
   "source": [
    "m_m.iloc[:,[3,4,5,6,10]].iplot(kind=\"bar\", title = \"Monthly Preview of Accident and Weather Attributes\", xTitle=\"Months\",\n",
    "         yTitle=\"Mean of Monthly Summation\", secondary_y=\"acc_counts\",secondary_y_title=\"Month-Wise accident count\",\n",
    "         opacity=0.5)"
   ]
  },
  {
   "cell_type": "markdown",
   "metadata": {},
   "source": [
    "<div style='background-color:navy; color:white; padding:20px'>\n",
    "    The graph shows monthly variation of weather attributes to the number of accidents.\n",
    "    <li> Last four month of the year in which the temperatur is dropping and humidity is increasing, we will find in the rise in the number of accident\n",
    "</div>"
   ]
  },
  {
   "cell_type": "markdown",
   "metadata": {},
   "source": [
    "## Weather Condition"
   ]
  },
  {
   "cell_type": "code",
   "execution_count": 31,
   "metadata": {
    "ExecuteTime": {
     "end_time": "2020-12-18T07:35:00.801023Z",
     "start_time": "2020-12-18T07:34:16.683592Z"
    }
   },
   "outputs": [],
   "source": [
    "weather_stats = with_time.groupby(\"Weather_Condition\")\n",
    "acc_count = weather_stats.count().Severity.compute()\n",
    "w_m = weather_stats.mean().compute()\n",
    "w_m[\"acc_count\"] = acc_count"
   ]
  },
  {
   "cell_type": "code",
   "execution_count": 32,
   "metadata": {
    "ExecuteTime": {
     "end_time": "2020-12-18T07:35:00.948965Z",
     "start_time": "2020-12-18T07:35:00.803020Z"
    }
   },
   "outputs": [
    {
     "data": {
      "application/vnd.plotly.v1+json": {
       "config": {
        "linkText": "Export to plot.ly",
        "plotlyServerURL": "https://plot.ly",
        "showLink": true
       },
       "data": [
        {
         "marker": {
          "color": "rgba(255, 153, 51, 0.5)",
          "line": {
           "color": "rgba(255, 153, 51, 1.0)",
           "width": 1
          }
         },
         "name": "acc_count",
         "orientation": "v",
         "text": "",
         "type": "bar",
         "x": [
          "Blowing Dust",
          "Blowing Dust / Windy",
          "Blowing Snow / Windy",
          "Clear",
          "Cloudy",
          "Cloudy / Windy",
          "Drizzle",
          "Drizzle / Windy",
          "Drizzle and Fog",
          "Fair",
          "Fair / Windy",
          "Fog",
          "Fog / Windy",
          "Funnel Cloud",
          "Haze",
          "Haze / Windy",
          "Heavy Drizzle",
          "Heavy Rain",
          "Heavy Rain / Windy",
          "Heavy Snow",
          "Heavy Snow / Windy",
          "Heavy Snow with Thunder",
          "Heavy T-Storm",
          "Heavy T-Storm / Windy",
          "Heavy Thunderstorms and Rain",
          "Light Drizzle",
          "Light Drizzle / Windy",
          "Light Freezing Drizzle",
          "Light Freezing Rain / Windy",
          "Light Rain",
          "Light Rain / Windy",
          "Light Rain Shower",
          "Light Rain Showers",
          "Light Rain with Thunder",
          "Light Snow",
          "Light Snow / Windy",
          "Light Snow and Sleet",
          "Light Snow and Sleet / Windy",
          "Light Snow with Thunder",
          "Light Thunderstorms and Rain",
          "Mist",
          "Mostly Cloudy",
          "Mostly Cloudy / Windy",
          "N/A Precipitation",
          "Overcast",
          "Partly Cloudy",
          "Partly Cloudy / Windy",
          "Patches of Fog",
          "Rain",
          "Rain / Windy",
          "Rain Shower",
          "Rain Showers",
          "Sand / Dust Whirlwinds",
          "Sand / Dust Whirlwinds / Windy",
          "Scattered Clouds",
          "Shallow Fog",
          "Showers in the Vicinity",
          "Smoke",
          "Snow",
          "Snow / Windy",
          "Snow and Sleet / Windy",
          "Snow and Thunder",
          "Squalls / Windy",
          "T-Storm",
          "T-Storm / Windy",
          "Thunder",
          "Thunder / Windy",
          "Thunder / Wintry Mix / Windy",
          "Thunder in the Vicinity",
          "Thunderstorm",
          "Wintry Mix",
          "Wintry Mix / Windy",
          "Blowing Snow",
          "Heavy Blowing Snow",
          "Ice Pellets",
          "Light Freezing Fog",
          "Light Freezing Rain",
          "Light Hail",
          "Light Ice Pellets",
          "Light Snow Showers",
          "Light Thunderstorms and Snow",
          "Low Drifting Snow",
          "Small Hail",
          "Squalls",
          "Thunderstorms and Rain",
          "Volcanic Ash",
          "Widespread Dust",
          "Heavy Smoke",
          "Heavy Thunderstorms with Small Hail",
          "Light Haze",
          "Heavy Freezing Drizzle",
          "Light Blowing Snow",
          "Light Thunderstorm",
          "Thunderstorms and Snow",
          "Heavy Freezing Rain",
          "Heavy Rain Showers",
          "Heavy Thunderstorms and Snow",
          "Light Snow Grains",
          "Smoke / Windy",
          "Snow Showers",
          "Light Fog",
          "Snow Grains",
          "Dust Whirls",
          "Freezing Rain / Windy",
          "Heavy Ice Pellets",
          "Freezing Rain",
          "Partial Fog",
          "Sleet",
          "Snow and Sleet",
          "Hail",
          "Thunder and Hail / Windy",
          "Tornado",
          "Blowing Sand",
          "Heavy Sleet",
          "Light Rain Shower / Windy",
          "Light Sleet",
          "Light Snow Shower",
          "Partial Fog / Windy",
          "Widespread Dust / Windy"
         ],
         "y": [
          44,
          64,
          10,
          800911,
          114181,
          2079,
          2017,
          4,
          65,
          329990,
          3731,
          21802,
          59,
          18,
          33816,
          66,
          256,
          11916,
          155,
          1216,
          23,
          6,
          1247,
          145,
          2461,
          10200,
          28,
          798,
          6,
          139911,
          1037,
          53,
          156,
          1915,
          41920,
          450,
          9,
          4,
          9,
          4908,
          2135,
          409985,
          1980,
          156,
          378966,
          293469,
          1306,
          2385,
          32383,
          299,
          6,
          122,
          27,
          2,
          203399,
          1133,
          262,
          3557,
          4732,
          46,
          9,
          1,
          5,
          2123,
          127,
          1631,
          80,
          1,
          2143,
          4358,
          800,
          20,
          266,
          4,
          101,
          990,
          2118,
          3,
          258,
          24,
          22,
          5,
          30,
          26,
          2198,
          21,
          129,
          1,
          7,
          10,
          2,
          3,
          2,
          3,
          2,
          7,
          5,
          6,
          7,
          2,
          4,
          4,
          1,
          1,
          4,
          17,
          10,
          3,
          9,
          2,
          1,
          2,
          1,
          6,
          1,
          3,
          1,
          1,
          1
         ]
        }
       ],
       "layout": {
        "legend": {
         "bgcolor": "#F5F6F9",
         "font": {
          "color": "#4D5663"
         }
        },
        "paper_bgcolor": "#F5F6F9",
        "plot_bgcolor": "#F5F6F9",
        "template": {
         "data": {
          "bar": [
           {
            "error_x": {
             "color": "#2a3f5f"
            },
            "error_y": {
             "color": "#2a3f5f"
            },
            "marker": {
             "line": {
              "color": "#E5ECF6",
              "width": 0.5
             }
            },
            "type": "bar"
           }
          ],
          "barpolar": [
           {
            "marker": {
             "line": {
              "color": "#E5ECF6",
              "width": 0.5
             }
            },
            "type": "barpolar"
           }
          ],
          "carpet": [
           {
            "aaxis": {
             "endlinecolor": "#2a3f5f",
             "gridcolor": "white",
             "linecolor": "white",
             "minorgridcolor": "white",
             "startlinecolor": "#2a3f5f"
            },
            "baxis": {
             "endlinecolor": "#2a3f5f",
             "gridcolor": "white",
             "linecolor": "white",
             "minorgridcolor": "white",
             "startlinecolor": "#2a3f5f"
            },
            "type": "carpet"
           }
          ],
          "choropleth": [
           {
            "colorbar": {
             "outlinewidth": 0,
             "ticks": ""
            },
            "type": "choropleth"
           }
          ],
          "contour": [
           {
            "colorbar": {
             "outlinewidth": 0,
             "ticks": ""
            },
            "colorscale": [
             [
              0,
              "#0d0887"
             ],
             [
              0.1111111111111111,
              "#46039f"
             ],
             [
              0.2222222222222222,
              "#7201a8"
             ],
             [
              0.3333333333333333,
              "#9c179e"
             ],
             [
              0.4444444444444444,
              "#bd3786"
             ],
             [
              0.5555555555555556,
              "#d8576b"
             ],
             [
              0.6666666666666666,
              "#ed7953"
             ],
             [
              0.7777777777777778,
              "#fb9f3a"
             ],
             [
              0.8888888888888888,
              "#fdca26"
             ],
             [
              1,
              "#f0f921"
             ]
            ],
            "type": "contour"
           }
          ],
          "contourcarpet": [
           {
            "colorbar": {
             "outlinewidth": 0,
             "ticks": ""
            },
            "type": "contourcarpet"
           }
          ],
          "heatmap": [
           {
            "colorbar": {
             "outlinewidth": 0,
             "ticks": ""
            },
            "colorscale": [
             [
              0,
              "#0d0887"
             ],
             [
              0.1111111111111111,
              "#46039f"
             ],
             [
              0.2222222222222222,
              "#7201a8"
             ],
             [
              0.3333333333333333,
              "#9c179e"
             ],
             [
              0.4444444444444444,
              "#bd3786"
             ],
             [
              0.5555555555555556,
              "#d8576b"
             ],
             [
              0.6666666666666666,
              "#ed7953"
             ],
             [
              0.7777777777777778,
              "#fb9f3a"
             ],
             [
              0.8888888888888888,
              "#fdca26"
             ],
             [
              1,
              "#f0f921"
             ]
            ],
            "type": "heatmap"
           }
          ],
          "heatmapgl": [
           {
            "colorbar": {
             "outlinewidth": 0,
             "ticks": ""
            },
            "colorscale": [
             [
              0,
              "#0d0887"
             ],
             [
              0.1111111111111111,
              "#46039f"
             ],
             [
              0.2222222222222222,
              "#7201a8"
             ],
             [
              0.3333333333333333,
              "#9c179e"
             ],
             [
              0.4444444444444444,
              "#bd3786"
             ],
             [
              0.5555555555555556,
              "#d8576b"
             ],
             [
              0.6666666666666666,
              "#ed7953"
             ],
             [
              0.7777777777777778,
              "#fb9f3a"
             ],
             [
              0.8888888888888888,
              "#fdca26"
             ],
             [
              1,
              "#f0f921"
             ]
            ],
            "type": "heatmapgl"
           }
          ],
          "histogram": [
           {
            "marker": {
             "colorbar": {
              "outlinewidth": 0,
              "ticks": ""
             }
            },
            "type": "histogram"
           }
          ],
          "histogram2d": [
           {
            "colorbar": {
             "outlinewidth": 0,
             "ticks": ""
            },
            "colorscale": [
             [
              0,
              "#0d0887"
             ],
             [
              0.1111111111111111,
              "#46039f"
             ],
             [
              0.2222222222222222,
              "#7201a8"
             ],
             [
              0.3333333333333333,
              "#9c179e"
             ],
             [
              0.4444444444444444,
              "#bd3786"
             ],
             [
              0.5555555555555556,
              "#d8576b"
             ],
             [
              0.6666666666666666,
              "#ed7953"
             ],
             [
              0.7777777777777778,
              "#fb9f3a"
             ],
             [
              0.8888888888888888,
              "#fdca26"
             ],
             [
              1,
              "#f0f921"
             ]
            ],
            "type": "histogram2d"
           }
          ],
          "histogram2dcontour": [
           {
            "colorbar": {
             "outlinewidth": 0,
             "ticks": ""
            },
            "colorscale": [
             [
              0,
              "#0d0887"
             ],
             [
              0.1111111111111111,
              "#46039f"
             ],
             [
              0.2222222222222222,
              "#7201a8"
             ],
             [
              0.3333333333333333,
              "#9c179e"
             ],
             [
              0.4444444444444444,
              "#bd3786"
             ],
             [
              0.5555555555555556,
              "#d8576b"
             ],
             [
              0.6666666666666666,
              "#ed7953"
             ],
             [
              0.7777777777777778,
              "#fb9f3a"
             ],
             [
              0.8888888888888888,
              "#fdca26"
             ],
             [
              1,
              "#f0f921"
             ]
            ],
            "type": "histogram2dcontour"
           }
          ],
          "mesh3d": [
           {
            "colorbar": {
             "outlinewidth": 0,
             "ticks": ""
            },
            "type": "mesh3d"
           }
          ],
          "parcoords": [
           {
            "line": {
             "colorbar": {
              "outlinewidth": 0,
              "ticks": ""
             }
            },
            "type": "parcoords"
           }
          ],
          "pie": [
           {
            "automargin": true,
            "type": "pie"
           }
          ],
          "scatter": [
           {
            "marker": {
             "colorbar": {
              "outlinewidth": 0,
              "ticks": ""
             }
            },
            "type": "scatter"
           }
          ],
          "scatter3d": [
           {
            "line": {
             "colorbar": {
              "outlinewidth": 0,
              "ticks": ""
             }
            },
            "marker": {
             "colorbar": {
              "outlinewidth": 0,
              "ticks": ""
             }
            },
            "type": "scatter3d"
           }
          ],
          "scattercarpet": [
           {
            "marker": {
             "colorbar": {
              "outlinewidth": 0,
              "ticks": ""
             }
            },
            "type": "scattercarpet"
           }
          ],
          "scattergeo": [
           {
            "marker": {
             "colorbar": {
              "outlinewidth": 0,
              "ticks": ""
             }
            },
            "type": "scattergeo"
           }
          ],
          "scattergl": [
           {
            "marker": {
             "colorbar": {
              "outlinewidth": 0,
              "ticks": ""
             }
            },
            "type": "scattergl"
           }
          ],
          "scattermapbox": [
           {
            "marker": {
             "colorbar": {
              "outlinewidth": 0,
              "ticks": ""
             }
            },
            "type": "scattermapbox"
           }
          ],
          "scatterpolar": [
           {
            "marker": {
             "colorbar": {
              "outlinewidth": 0,
              "ticks": ""
             }
            },
            "type": "scatterpolar"
           }
          ],
          "scatterpolargl": [
           {
            "marker": {
             "colorbar": {
              "outlinewidth": 0,
              "ticks": ""
             }
            },
            "type": "scatterpolargl"
           }
          ],
          "scatterternary": [
           {
            "marker": {
             "colorbar": {
              "outlinewidth": 0,
              "ticks": ""
             }
            },
            "type": "scatterternary"
           }
          ],
          "surface": [
           {
            "colorbar": {
             "outlinewidth": 0,
             "ticks": ""
            },
            "colorscale": [
             [
              0,
              "#0d0887"
             ],
             [
              0.1111111111111111,
              "#46039f"
             ],
             [
              0.2222222222222222,
              "#7201a8"
             ],
             [
              0.3333333333333333,
              "#9c179e"
             ],
             [
              0.4444444444444444,
              "#bd3786"
             ],
             [
              0.5555555555555556,
              "#d8576b"
             ],
             [
              0.6666666666666666,
              "#ed7953"
             ],
             [
              0.7777777777777778,
              "#fb9f3a"
             ],
             [
              0.8888888888888888,
              "#fdca26"
             ],
             [
              1,
              "#f0f921"
             ]
            ],
            "type": "surface"
           }
          ],
          "table": [
           {
            "cells": {
             "fill": {
              "color": "#EBF0F8"
             },
             "line": {
              "color": "white"
             }
            },
            "header": {
             "fill": {
              "color": "#C8D4E3"
             },
             "line": {
              "color": "white"
             }
            },
            "type": "table"
           }
          ]
         },
         "layout": {
          "annotationdefaults": {
           "arrowcolor": "#2a3f5f",
           "arrowhead": 0,
           "arrowwidth": 1
          },
          "coloraxis": {
           "colorbar": {
            "outlinewidth": 0,
            "ticks": ""
           }
          },
          "colorscale": {
           "diverging": [
            [
             0,
             "#8e0152"
            ],
            [
             0.1,
             "#c51b7d"
            ],
            [
             0.2,
             "#de77ae"
            ],
            [
             0.3,
             "#f1b6da"
            ],
            [
             0.4,
             "#fde0ef"
            ],
            [
             0.5,
             "#f7f7f7"
            ],
            [
             0.6,
             "#e6f5d0"
            ],
            [
             0.7,
             "#b8e186"
            ],
            [
             0.8,
             "#7fbc41"
            ],
            [
             0.9,
             "#4d9221"
            ],
            [
             1,
             "#276419"
            ]
           ],
           "sequential": [
            [
             0,
             "#0d0887"
            ],
            [
             0.1111111111111111,
             "#46039f"
            ],
            [
             0.2222222222222222,
             "#7201a8"
            ],
            [
             0.3333333333333333,
             "#9c179e"
            ],
            [
             0.4444444444444444,
             "#bd3786"
            ],
            [
             0.5555555555555556,
             "#d8576b"
            ],
            [
             0.6666666666666666,
             "#ed7953"
            ],
            [
             0.7777777777777778,
             "#fb9f3a"
            ],
            [
             0.8888888888888888,
             "#fdca26"
            ],
            [
             1,
             "#f0f921"
            ]
           ],
           "sequentialminus": [
            [
             0,
             "#0d0887"
            ],
            [
             0.1111111111111111,
             "#46039f"
            ],
            [
             0.2222222222222222,
             "#7201a8"
            ],
            [
             0.3333333333333333,
             "#9c179e"
            ],
            [
             0.4444444444444444,
             "#bd3786"
            ],
            [
             0.5555555555555556,
             "#d8576b"
            ],
            [
             0.6666666666666666,
             "#ed7953"
            ],
            [
             0.7777777777777778,
             "#fb9f3a"
            ],
            [
             0.8888888888888888,
             "#fdca26"
            ],
            [
             1,
             "#f0f921"
            ]
           ]
          },
          "colorway": [
           "#636efa",
           "#EF553B",
           "#00cc96",
           "#ab63fa",
           "#FFA15A",
           "#19d3f3",
           "#FF6692",
           "#B6E880",
           "#FF97FF",
           "#FECB52"
          ],
          "font": {
           "color": "#2a3f5f"
          },
          "geo": {
           "bgcolor": "white",
           "lakecolor": "white",
           "landcolor": "#E5ECF6",
           "showlakes": true,
           "showland": true,
           "subunitcolor": "white"
          },
          "hoverlabel": {
           "align": "left"
          },
          "hovermode": "closest",
          "mapbox": {
           "style": "light"
          },
          "paper_bgcolor": "white",
          "plot_bgcolor": "#E5ECF6",
          "polar": {
           "angularaxis": {
            "gridcolor": "white",
            "linecolor": "white",
            "ticks": ""
           },
           "bgcolor": "#E5ECF6",
           "radialaxis": {
            "gridcolor": "white",
            "linecolor": "white",
            "ticks": ""
           }
          },
          "scene": {
           "xaxis": {
            "backgroundcolor": "#E5ECF6",
            "gridcolor": "white",
            "gridwidth": 2,
            "linecolor": "white",
            "showbackground": true,
            "ticks": "",
            "zerolinecolor": "white"
           },
           "yaxis": {
            "backgroundcolor": "#E5ECF6",
            "gridcolor": "white",
            "gridwidth": 2,
            "linecolor": "white",
            "showbackground": true,
            "ticks": "",
            "zerolinecolor": "white"
           },
           "zaxis": {
            "backgroundcolor": "#E5ECF6",
            "gridcolor": "white",
            "gridwidth": 2,
            "linecolor": "white",
            "showbackground": true,
            "ticks": "",
            "zerolinecolor": "white"
           }
          },
          "shapedefaults": {
           "line": {
            "color": "#2a3f5f"
           }
          },
          "ternary": {
           "aaxis": {
            "gridcolor": "white",
            "linecolor": "white",
            "ticks": ""
           },
           "baxis": {
            "gridcolor": "white",
            "linecolor": "white",
            "ticks": ""
           },
           "bgcolor": "#E5ECF6",
           "caxis": {
            "gridcolor": "white",
            "linecolor": "white",
            "ticks": ""
           }
          },
          "title": {
           "x": 0.05
          },
          "xaxis": {
           "automargin": true,
           "gridcolor": "white",
           "linecolor": "white",
           "ticks": "",
           "title": {
            "standoff": 15
           },
           "zerolinecolor": "white",
           "zerolinewidth": 2
          },
          "yaxis": {
           "automargin": true,
           "gridcolor": "white",
           "linecolor": "white",
           "ticks": "",
           "title": {
            "standoff": 15
           },
           "zerolinecolor": "white",
           "zerolinewidth": 2
          }
         }
        },
        "title": {
         "font": {
          "color": "#4D5663"
         },
         "text": "Weather condition and Accidents"
        },
        "xaxis": {
         "gridcolor": "#E1E5ED",
         "showgrid": true,
         "tickfont": {
          "color": "#4D5663"
         },
         "title": {
          "font": {
           "color": "#4D5663"
          },
          "text": "Weather conditions"
         },
         "zerolinecolor": "#E1E5ED"
        },
        "yaxis": {
         "gridcolor": "#E1E5ED",
         "showgrid": true,
         "tickfont": {
          "color": "#4D5663"
         },
         "title": {
          "font": {
           "color": "#4D5663"
          },
          "text": "No.of Accidents"
         },
         "zerolinecolor": "#E1E5ED"
        }
       }
      },
      "text/html": [
       "<div>                            <div id=\"2044cb35-1911-453a-9289-56dd2744e530\" class=\"plotly-graph-div\" style=\"height:525px; width:100%;\"></div>            <script type=\"text/javascript\">                require([\"plotly\"], function(Plotly) {                    window.PLOTLYENV=window.PLOTLYENV || {};\n",
       "                    window.PLOTLYENV.BASE_URL='https://plot.ly';                                    if (document.getElementById(\"2044cb35-1911-453a-9289-56dd2744e530\")) {                    Plotly.newPlot(                        \"2044cb35-1911-453a-9289-56dd2744e530\",                        [{\"marker\": {\"color\": \"rgba(255, 153, 51, 0.5)\", \"line\": {\"color\": \"rgba(255, 153, 51, 1.0)\", \"width\": 1}}, \"name\": \"acc_count\", \"orientation\": \"v\", \"text\": \"\", \"type\": \"bar\", \"x\": [\"Blowing Dust\", \"Blowing Dust / Windy\", \"Blowing Snow / Windy\", \"Clear\", \"Cloudy\", \"Cloudy / Windy\", \"Drizzle\", \"Drizzle / Windy\", \"Drizzle and Fog\", \"Fair\", \"Fair / Windy\", \"Fog\", \"Fog / Windy\", \"Funnel Cloud\", \"Haze\", \"Haze / Windy\", \"Heavy Drizzle\", \"Heavy Rain\", \"Heavy Rain / Windy\", \"Heavy Snow\", \"Heavy Snow / Windy\", \"Heavy Snow with Thunder\", \"Heavy T-Storm\", \"Heavy T-Storm / Windy\", \"Heavy Thunderstorms and Rain\", \"Light Drizzle\", \"Light Drizzle / Windy\", \"Light Freezing Drizzle\", \"Light Freezing Rain / Windy\", \"Light Rain\", \"Light Rain / Windy\", \"Light Rain Shower\", \"Light Rain Showers\", \"Light Rain with Thunder\", \"Light Snow\", \"Light Snow / Windy\", \"Light Snow and Sleet\", \"Light Snow and Sleet / Windy\", \"Light Snow with Thunder\", \"Light Thunderstorms and Rain\", \"Mist\", \"Mostly Cloudy\", \"Mostly Cloudy / Windy\", \"N/A Precipitation\", \"Overcast\", \"Partly Cloudy\", \"Partly Cloudy / Windy\", \"Patches of Fog\", \"Rain\", \"Rain / Windy\", \"Rain Shower\", \"Rain Showers\", \"Sand / Dust Whirlwinds\", \"Sand / Dust Whirlwinds / Windy\", \"Scattered Clouds\", \"Shallow Fog\", \"Showers in the Vicinity\", \"Smoke\", \"Snow\", \"Snow / Windy\", \"Snow and Sleet / Windy\", \"Snow and Thunder\", \"Squalls / Windy\", \"T-Storm\", \"T-Storm / Windy\", \"Thunder\", \"Thunder / Windy\", \"Thunder / Wintry Mix / Windy\", \"Thunder in the Vicinity\", \"Thunderstorm\", \"Wintry Mix\", \"Wintry Mix / Windy\", \"Blowing Snow\", \"Heavy Blowing Snow\", \"Ice Pellets\", \"Light Freezing Fog\", \"Light Freezing Rain\", \"Light Hail\", \"Light Ice Pellets\", \"Light Snow Showers\", \"Light Thunderstorms and Snow\", \"Low Drifting Snow\", \"Small Hail\", \"Squalls\", \"Thunderstorms and Rain\", \"Volcanic Ash\", \"Widespread Dust\", \"Heavy Smoke\", \"Heavy Thunderstorms with Small Hail\", \"Light Haze\", \"Heavy Freezing Drizzle\", \"Light Blowing Snow\", \"Light Thunderstorm\", \"Thunderstorms and Snow\", \"Heavy Freezing Rain\", \"Heavy Rain Showers\", \"Heavy Thunderstorms and Snow\", \"Light Snow Grains\", \"Smoke / Windy\", \"Snow Showers\", \"Light Fog\", \"Snow Grains\", \"Dust Whirls\", \"Freezing Rain / Windy\", \"Heavy Ice Pellets\", \"Freezing Rain\", \"Partial Fog\", \"Sleet\", \"Snow and Sleet\", \"Hail\", \"Thunder and Hail / Windy\", \"Tornado\", \"Blowing Sand\", \"Heavy Sleet\", \"Light Rain Shower / Windy\", \"Light Sleet\", \"Light Snow Shower\", \"Partial Fog / Windy\", \"Widespread Dust / Windy\"], \"y\": [44, 64, 10, 800911, 114181, 2079, 2017, 4, 65, 329990, 3731, 21802, 59, 18, 33816, 66, 256, 11916, 155, 1216, 23, 6, 1247, 145, 2461, 10200, 28, 798, 6, 139911, 1037, 53, 156, 1915, 41920, 450, 9, 4, 9, 4908, 2135, 409985, 1980, 156, 378966, 293469, 1306, 2385, 32383, 299, 6, 122, 27, 2, 203399, 1133, 262, 3557, 4732, 46, 9, 1, 5, 2123, 127, 1631, 80, 1, 2143, 4358, 800, 20, 266, 4, 101, 990, 2118, 3, 258, 24, 22, 5, 30, 26, 2198, 21, 129, 1, 7, 10, 2, 3, 2, 3, 2, 7, 5, 6, 7, 2, 4, 4, 1, 1, 4, 17, 10, 3, 9, 2, 1, 2, 1, 6, 1, 3, 1, 1, 1]}],                        {\"legend\": {\"bgcolor\": \"#F5F6F9\", \"font\": {\"color\": \"#4D5663\"}}, \"paper_bgcolor\": \"#F5F6F9\", \"plot_bgcolor\": \"#F5F6F9\", \"template\": {\"data\": {\"bar\": [{\"error_x\": {\"color\": \"#2a3f5f\"}, \"error_y\": {\"color\": \"#2a3f5f\"}, \"marker\": {\"line\": {\"color\": \"#E5ECF6\", \"width\": 0.5}}, \"type\": \"bar\"}], \"barpolar\": [{\"marker\": {\"line\": {\"color\": \"#E5ECF6\", \"width\": 0.5}}, \"type\": \"barpolar\"}], \"carpet\": [{\"aaxis\": {\"endlinecolor\": \"#2a3f5f\", \"gridcolor\": \"white\", \"linecolor\": \"white\", \"minorgridcolor\": \"white\", \"startlinecolor\": \"#2a3f5f\"}, \"baxis\": {\"endlinecolor\": \"#2a3f5f\", \"gridcolor\": \"white\", \"linecolor\": \"white\", \"minorgridcolor\": \"white\", \"startlinecolor\": \"#2a3f5f\"}, \"type\": \"carpet\"}], \"choropleth\": [{\"colorbar\": {\"outlinewidth\": 0, \"ticks\": \"\"}, \"type\": \"choropleth\"}], \"contour\": [{\"colorbar\": {\"outlinewidth\": 0, \"ticks\": \"\"}, \"colorscale\": [[0.0, \"#0d0887\"], [0.1111111111111111, \"#46039f\"], [0.2222222222222222, \"#7201a8\"], [0.3333333333333333, \"#9c179e\"], [0.4444444444444444, \"#bd3786\"], [0.5555555555555556, \"#d8576b\"], [0.6666666666666666, \"#ed7953\"], [0.7777777777777778, \"#fb9f3a\"], [0.8888888888888888, \"#fdca26\"], [1.0, \"#f0f921\"]], \"type\": \"contour\"}], \"contourcarpet\": [{\"colorbar\": {\"outlinewidth\": 0, \"ticks\": \"\"}, \"type\": \"contourcarpet\"}], \"heatmap\": [{\"colorbar\": {\"outlinewidth\": 0, \"ticks\": \"\"}, \"colorscale\": [[0.0, \"#0d0887\"], [0.1111111111111111, \"#46039f\"], [0.2222222222222222, \"#7201a8\"], [0.3333333333333333, \"#9c179e\"], [0.4444444444444444, \"#bd3786\"], [0.5555555555555556, \"#d8576b\"], [0.6666666666666666, \"#ed7953\"], [0.7777777777777778, \"#fb9f3a\"], [0.8888888888888888, \"#fdca26\"], [1.0, \"#f0f921\"]], \"type\": \"heatmap\"}], \"heatmapgl\": [{\"colorbar\": {\"outlinewidth\": 0, \"ticks\": \"\"}, \"colorscale\": [[0.0, \"#0d0887\"], [0.1111111111111111, \"#46039f\"], [0.2222222222222222, \"#7201a8\"], [0.3333333333333333, \"#9c179e\"], [0.4444444444444444, \"#bd3786\"], [0.5555555555555556, \"#d8576b\"], [0.6666666666666666, \"#ed7953\"], [0.7777777777777778, \"#fb9f3a\"], [0.8888888888888888, \"#fdca26\"], [1.0, \"#f0f921\"]], \"type\": \"heatmapgl\"}], \"histogram\": [{\"marker\": {\"colorbar\": {\"outlinewidth\": 0, \"ticks\": \"\"}}, \"type\": \"histogram\"}], \"histogram2d\": [{\"colorbar\": {\"outlinewidth\": 0, \"ticks\": \"\"}, \"colorscale\": [[0.0, \"#0d0887\"], [0.1111111111111111, \"#46039f\"], [0.2222222222222222, \"#7201a8\"], [0.3333333333333333, \"#9c179e\"], [0.4444444444444444, \"#bd3786\"], [0.5555555555555556, \"#d8576b\"], [0.6666666666666666, \"#ed7953\"], [0.7777777777777778, \"#fb9f3a\"], [0.8888888888888888, \"#fdca26\"], [1.0, \"#f0f921\"]], \"type\": \"histogram2d\"}], \"histogram2dcontour\": [{\"colorbar\": {\"outlinewidth\": 0, \"ticks\": \"\"}, \"colorscale\": [[0.0, \"#0d0887\"], [0.1111111111111111, \"#46039f\"], [0.2222222222222222, \"#7201a8\"], [0.3333333333333333, \"#9c179e\"], [0.4444444444444444, \"#bd3786\"], [0.5555555555555556, \"#d8576b\"], [0.6666666666666666, \"#ed7953\"], [0.7777777777777778, \"#fb9f3a\"], [0.8888888888888888, \"#fdca26\"], [1.0, \"#f0f921\"]], \"type\": \"histogram2dcontour\"}], \"mesh3d\": [{\"colorbar\": {\"outlinewidth\": 0, \"ticks\": \"\"}, \"type\": \"mesh3d\"}], \"parcoords\": [{\"line\": {\"colorbar\": {\"outlinewidth\": 0, \"ticks\": \"\"}}, \"type\": \"parcoords\"}], \"pie\": [{\"automargin\": true, \"type\": \"pie\"}], \"scatter\": [{\"marker\": {\"colorbar\": {\"outlinewidth\": 0, \"ticks\": \"\"}}, \"type\": \"scatter\"}], \"scatter3d\": [{\"line\": {\"colorbar\": {\"outlinewidth\": 0, \"ticks\": \"\"}}, \"marker\": {\"colorbar\": {\"outlinewidth\": 0, \"ticks\": \"\"}}, \"type\": \"scatter3d\"}], \"scattercarpet\": [{\"marker\": {\"colorbar\": {\"outlinewidth\": 0, \"ticks\": \"\"}}, \"type\": \"scattercarpet\"}], \"scattergeo\": [{\"marker\": {\"colorbar\": {\"outlinewidth\": 0, \"ticks\": \"\"}}, \"type\": \"scattergeo\"}], \"scattergl\": [{\"marker\": {\"colorbar\": {\"outlinewidth\": 0, \"ticks\": \"\"}}, \"type\": \"scattergl\"}], \"scattermapbox\": [{\"marker\": {\"colorbar\": {\"outlinewidth\": 0, \"ticks\": \"\"}}, \"type\": \"scattermapbox\"}], \"scatterpolar\": [{\"marker\": {\"colorbar\": {\"outlinewidth\": 0, \"ticks\": \"\"}}, \"type\": \"scatterpolar\"}], \"scatterpolargl\": [{\"marker\": {\"colorbar\": {\"outlinewidth\": 0, \"ticks\": \"\"}}, \"type\": \"scatterpolargl\"}], \"scatterternary\": [{\"marker\": {\"colorbar\": {\"outlinewidth\": 0, \"ticks\": \"\"}}, \"type\": \"scatterternary\"}], \"surface\": [{\"colorbar\": {\"outlinewidth\": 0, \"ticks\": \"\"}, \"colorscale\": [[0.0, \"#0d0887\"], [0.1111111111111111, \"#46039f\"], [0.2222222222222222, \"#7201a8\"], [0.3333333333333333, \"#9c179e\"], [0.4444444444444444, \"#bd3786\"], [0.5555555555555556, \"#d8576b\"], [0.6666666666666666, \"#ed7953\"], [0.7777777777777778, \"#fb9f3a\"], [0.8888888888888888, \"#fdca26\"], [1.0, \"#f0f921\"]], \"type\": \"surface\"}], \"table\": [{\"cells\": {\"fill\": {\"color\": \"#EBF0F8\"}, \"line\": {\"color\": \"white\"}}, \"header\": {\"fill\": {\"color\": \"#C8D4E3\"}, \"line\": {\"color\": \"white\"}}, \"type\": \"table\"}]}, \"layout\": {\"annotationdefaults\": {\"arrowcolor\": \"#2a3f5f\", \"arrowhead\": 0, \"arrowwidth\": 1}, \"coloraxis\": {\"colorbar\": {\"outlinewidth\": 0, \"ticks\": \"\"}}, \"colorscale\": {\"diverging\": [[0, \"#8e0152\"], [0.1, \"#c51b7d\"], [0.2, \"#de77ae\"], [0.3, \"#f1b6da\"], [0.4, \"#fde0ef\"], [0.5, \"#f7f7f7\"], [0.6, \"#e6f5d0\"], [0.7, \"#b8e186\"], [0.8, \"#7fbc41\"], [0.9, \"#4d9221\"], [1, \"#276419\"]], \"sequential\": [[0.0, \"#0d0887\"], [0.1111111111111111, \"#46039f\"], [0.2222222222222222, \"#7201a8\"], [0.3333333333333333, \"#9c179e\"], [0.4444444444444444, \"#bd3786\"], [0.5555555555555556, \"#d8576b\"], [0.6666666666666666, \"#ed7953\"], [0.7777777777777778, \"#fb9f3a\"], [0.8888888888888888, \"#fdca26\"], [1.0, \"#f0f921\"]], \"sequentialminus\": [[0.0, \"#0d0887\"], [0.1111111111111111, \"#46039f\"], [0.2222222222222222, \"#7201a8\"], [0.3333333333333333, \"#9c179e\"], [0.4444444444444444, \"#bd3786\"], [0.5555555555555556, \"#d8576b\"], [0.6666666666666666, \"#ed7953\"], [0.7777777777777778, \"#fb9f3a\"], [0.8888888888888888, \"#fdca26\"], [1.0, \"#f0f921\"]]}, \"colorway\": [\"#636efa\", \"#EF553B\", \"#00cc96\", \"#ab63fa\", \"#FFA15A\", \"#19d3f3\", \"#FF6692\", \"#B6E880\", \"#FF97FF\", \"#FECB52\"], \"font\": {\"color\": \"#2a3f5f\"}, \"geo\": {\"bgcolor\": \"white\", \"lakecolor\": \"white\", \"landcolor\": \"#E5ECF6\", \"showlakes\": true, \"showland\": true, \"subunitcolor\": \"white\"}, \"hoverlabel\": {\"align\": \"left\"}, \"hovermode\": \"closest\", \"mapbox\": {\"style\": \"light\"}, \"paper_bgcolor\": \"white\", \"plot_bgcolor\": \"#E5ECF6\", \"polar\": {\"angularaxis\": {\"gridcolor\": \"white\", \"linecolor\": \"white\", \"ticks\": \"\"}, \"bgcolor\": \"#E5ECF6\", \"radialaxis\": {\"gridcolor\": \"white\", \"linecolor\": \"white\", \"ticks\": \"\"}}, \"scene\": {\"xaxis\": {\"backgroundcolor\": \"#E5ECF6\", \"gridcolor\": \"white\", \"gridwidth\": 2, \"linecolor\": \"white\", \"showbackground\": true, \"ticks\": \"\", \"zerolinecolor\": \"white\"}, \"yaxis\": {\"backgroundcolor\": \"#E5ECF6\", \"gridcolor\": \"white\", \"gridwidth\": 2, \"linecolor\": \"white\", \"showbackground\": true, \"ticks\": \"\", \"zerolinecolor\": \"white\"}, \"zaxis\": {\"backgroundcolor\": \"#E5ECF6\", \"gridcolor\": \"white\", \"gridwidth\": 2, \"linecolor\": \"white\", \"showbackground\": true, \"ticks\": \"\", \"zerolinecolor\": \"white\"}}, \"shapedefaults\": {\"line\": {\"color\": \"#2a3f5f\"}}, \"ternary\": {\"aaxis\": {\"gridcolor\": \"white\", \"linecolor\": \"white\", \"ticks\": \"\"}, \"baxis\": {\"gridcolor\": \"white\", \"linecolor\": \"white\", \"ticks\": \"\"}, \"bgcolor\": \"#E5ECF6\", \"caxis\": {\"gridcolor\": \"white\", \"linecolor\": \"white\", \"ticks\": \"\"}}, \"title\": {\"x\": 0.05}, \"xaxis\": {\"automargin\": true, \"gridcolor\": \"white\", \"linecolor\": \"white\", \"ticks\": \"\", \"title\": {\"standoff\": 15}, \"zerolinecolor\": \"white\", \"zerolinewidth\": 2}, \"yaxis\": {\"automargin\": true, \"gridcolor\": \"white\", \"linecolor\": \"white\", \"ticks\": \"\", \"title\": {\"standoff\": 15}, \"zerolinecolor\": \"white\", \"zerolinewidth\": 2}}}, \"title\": {\"font\": {\"color\": \"#4D5663\"}, \"text\": \"Weather condition and Accidents\"}, \"xaxis\": {\"gridcolor\": \"#E1E5ED\", \"showgrid\": true, \"tickfont\": {\"color\": \"#4D5663\"}, \"title\": {\"font\": {\"color\": \"#4D5663\"}, \"text\": \"Weather conditions\"}, \"zerolinecolor\": \"#E1E5ED\"}, \"yaxis\": {\"gridcolor\": \"#E1E5ED\", \"showgrid\": true, \"tickfont\": {\"color\": \"#4D5663\"}, \"title\": {\"font\": {\"color\": \"#4D5663\"}, \"text\": \"No.of Accidents\"}, \"zerolinecolor\": \"#E1E5ED\"}},                        {\"showLink\": true, \"linkText\": \"Export to plot.ly\", \"plotlyServerURL\": \"https://plot.ly\", \"responsive\": true}                    ).then(function(){\n",
       "                            \n",
       "var gd = document.getElementById('2044cb35-1911-453a-9289-56dd2744e530');\n",
       "var x = new MutationObserver(function (mutations, observer) {{\n",
       "        var display = window.getComputedStyle(gd).display;\n",
       "        if (!display || display === 'none') {{\n",
       "            console.log([gd, 'removed!']);\n",
       "            Plotly.purge(gd);\n",
       "            observer.disconnect();\n",
       "        }}\n",
       "}});\n",
       "\n",
       "// Listen for the removal of the full notebook cells\n",
       "var notebookContainer = gd.closest('#notebook-container');\n",
       "if (notebookContainer) {{\n",
       "    x.observe(notebookContainer, {childList: true});\n",
       "}}\n",
       "\n",
       "// Listen for the clearing of the current output cell\n",
       "var outputEl = gd.closest('.output');\n",
       "if (outputEl) {{\n",
       "    x.observe(outputEl, {childList: true});\n",
       "}}\n",
       "\n",
       "                        })                };                });            </script>        </div>"
      ]
     },
     "metadata": {},
     "output_type": "display_data"
    }
   ],
   "source": [
    "w_m[\"acc_count\"].iplot(kind=\"bar\", title = \"Weather condition and Accidents\", xTitle=\"Weather conditions\",\n",
    "         yTitle=\"No.of Accidents\",\n",
    "         opacity=0.5)"
   ]
  },
  {
   "cell_type": "markdown",
   "metadata": {},
   "source": [
    "<div style='background-color:navy; color:white; padding:20px'>\n",
    "    The figure shows that, majority of accidents happened in clear and fair weather condition\n",
    "</div>"
   ]
  },
  {
   "cell_type": "markdown",
   "metadata": {},
   "source": [
    "## Wind_Direction"
   ]
  },
  {
   "cell_type": "code",
   "execution_count": 33,
   "metadata": {
    "ExecuteTime": {
     "end_time": "2020-12-18T07:35:27.083351Z",
     "start_time": "2020-12-18T07:35:00.951972Z"
    }
   },
   "outputs": [],
   "source": [
    "wind_dir = []\n",
    "for i in data1.Wind_Direction:\n",
    "    if i == \"CALM\":\n",
    "        a= \"Calm\"\n",
    "        wind_dir.append(a)\n",
    "    elif i == \"East\":\n",
    "        b= \"E\"\n",
    "        wind_dir.append(b)\n",
    "    elif i == \"North\":\n",
    "        c = \"N\"\n",
    "        wind_dir.append(c)\n",
    "    elif i == \"NNE\":\n",
    "        d = \"NE\"\n",
    "        wind_dir.append(d)\n",
    "    elif i == \"NNW\":\n",
    "        e = \"NW\"\n",
    "        wind_dir.append(e)\n",
    "    elif i == \"South\":\n",
    "        f = \"S\"\n",
    "        wind_dir.append(f)\n",
    "    elif i == \"SSE\":\n",
    "        g = \"SE\"\n",
    "        wind_dir.append(g)\n",
    "    elif i == \"SSW\":\n",
    "        h = \"SW\"\n",
    "        wind_dir.append(h)\n",
    "    elif i == \"West\":\n",
    "        j = \"W\"\n",
    "        wind_dir.append(j)\n",
    "    elif i == \"Variable\":\n",
    "        k = \"VAR\"\n",
    "        wind_dir.append(k)\n",
    "    else:\n",
    "        wind_dir.append(i)\n",
    "        \n",
    "wind_dir1 = pd.DataFrame(wind_dir)\n",
    "reindex = data1.reset_index()\n",
    "wind_di = reindex.join(wind_dir1)\n"
   ]
  },
  {
   "cell_type": "code",
   "execution_count": 34,
   "metadata": {
    "ExecuteTime": {
     "end_time": "2020-12-18T07:36:14.723302Z",
     "start_time": "2020-12-18T07:35:27.085360Z"
    }
   },
   "outputs": [],
   "source": [
    "wind_direction = wind_di.groupby(0)\n",
    "acci_count = wind_direction.count().Severity.compute()\n",
    "wi_d = wind_direction.mean().compute()\n",
    "wi_d[\"acci_count\"] = acci_count\n",
    "wi_d=wi_d.drop(labels = \"VAR\")"
   ]
  },
  {
   "cell_type": "code",
   "execution_count": 35,
   "metadata": {
    "ExecuteTime": {
     "end_time": "2020-12-18T07:36:14.912576Z",
     "start_time": "2020-12-18T07:36:14.725305Z"
    }
   },
   "outputs": [
    {
     "data": {
      "application/vnd.plotly.v1+json": {
       "config": {
        "linkText": "Export to plot.ly",
        "plotlyServerURL": "https://plot.ly",
        "showLink": true
       },
       "data": [
        {
         "marker": {
          "color": "rgba(255, 153, 51, 0.5)",
          "line": {
           "color": "rgba(255, 153, 51, 1.0)",
           "width": 1
          }
         },
         "name": "acci_count",
         "orientation": "v",
         "text": "",
         "type": "bar",
         "x": [
          "Calm",
          "E",
          "ENE",
          "ESE",
          "N",
          "NE",
          "NW",
          "S",
          "SE",
          "SW",
          "W",
          "WNW",
          "WSW"
         ],
         "y": [
          527083,
          152183,
          103981,
          111540,
          158362,
          199130,
          249279,
          335284,
          327827,
          423837,
          258280,
          149162,
          191472
         ]
        }
       ],
       "layout": {
        "legend": {
         "bgcolor": "#F5F6F9",
         "font": {
          "color": "#4D5663"
         }
        },
        "paper_bgcolor": "#F5F6F9",
        "plot_bgcolor": "#F5F6F9",
        "template": {
         "data": {
          "bar": [
           {
            "error_x": {
             "color": "#2a3f5f"
            },
            "error_y": {
             "color": "#2a3f5f"
            },
            "marker": {
             "line": {
              "color": "#E5ECF6",
              "width": 0.5
             }
            },
            "type": "bar"
           }
          ],
          "barpolar": [
           {
            "marker": {
             "line": {
              "color": "#E5ECF6",
              "width": 0.5
             }
            },
            "type": "barpolar"
           }
          ],
          "carpet": [
           {
            "aaxis": {
             "endlinecolor": "#2a3f5f",
             "gridcolor": "white",
             "linecolor": "white",
             "minorgridcolor": "white",
             "startlinecolor": "#2a3f5f"
            },
            "baxis": {
             "endlinecolor": "#2a3f5f",
             "gridcolor": "white",
             "linecolor": "white",
             "minorgridcolor": "white",
             "startlinecolor": "#2a3f5f"
            },
            "type": "carpet"
           }
          ],
          "choropleth": [
           {
            "colorbar": {
             "outlinewidth": 0,
             "ticks": ""
            },
            "type": "choropleth"
           }
          ],
          "contour": [
           {
            "colorbar": {
             "outlinewidth": 0,
             "ticks": ""
            },
            "colorscale": [
             [
              0,
              "#0d0887"
             ],
             [
              0.1111111111111111,
              "#46039f"
             ],
             [
              0.2222222222222222,
              "#7201a8"
             ],
             [
              0.3333333333333333,
              "#9c179e"
             ],
             [
              0.4444444444444444,
              "#bd3786"
             ],
             [
              0.5555555555555556,
              "#d8576b"
             ],
             [
              0.6666666666666666,
              "#ed7953"
             ],
             [
              0.7777777777777778,
              "#fb9f3a"
             ],
             [
              0.8888888888888888,
              "#fdca26"
             ],
             [
              1,
              "#f0f921"
             ]
            ],
            "type": "contour"
           }
          ],
          "contourcarpet": [
           {
            "colorbar": {
             "outlinewidth": 0,
             "ticks": ""
            },
            "type": "contourcarpet"
           }
          ],
          "heatmap": [
           {
            "colorbar": {
             "outlinewidth": 0,
             "ticks": ""
            },
            "colorscale": [
             [
              0,
              "#0d0887"
             ],
             [
              0.1111111111111111,
              "#46039f"
             ],
             [
              0.2222222222222222,
              "#7201a8"
             ],
             [
              0.3333333333333333,
              "#9c179e"
             ],
             [
              0.4444444444444444,
              "#bd3786"
             ],
             [
              0.5555555555555556,
              "#d8576b"
             ],
             [
              0.6666666666666666,
              "#ed7953"
             ],
             [
              0.7777777777777778,
              "#fb9f3a"
             ],
             [
              0.8888888888888888,
              "#fdca26"
             ],
             [
              1,
              "#f0f921"
             ]
            ],
            "type": "heatmap"
           }
          ],
          "heatmapgl": [
           {
            "colorbar": {
             "outlinewidth": 0,
             "ticks": ""
            },
            "colorscale": [
             [
              0,
              "#0d0887"
             ],
             [
              0.1111111111111111,
              "#46039f"
             ],
             [
              0.2222222222222222,
              "#7201a8"
             ],
             [
              0.3333333333333333,
              "#9c179e"
             ],
             [
              0.4444444444444444,
              "#bd3786"
             ],
             [
              0.5555555555555556,
              "#d8576b"
             ],
             [
              0.6666666666666666,
              "#ed7953"
             ],
             [
              0.7777777777777778,
              "#fb9f3a"
             ],
             [
              0.8888888888888888,
              "#fdca26"
             ],
             [
              1,
              "#f0f921"
             ]
            ],
            "type": "heatmapgl"
           }
          ],
          "histogram": [
           {
            "marker": {
             "colorbar": {
              "outlinewidth": 0,
              "ticks": ""
             }
            },
            "type": "histogram"
           }
          ],
          "histogram2d": [
           {
            "colorbar": {
             "outlinewidth": 0,
             "ticks": ""
            },
            "colorscale": [
             [
              0,
              "#0d0887"
             ],
             [
              0.1111111111111111,
              "#46039f"
             ],
             [
              0.2222222222222222,
              "#7201a8"
             ],
             [
              0.3333333333333333,
              "#9c179e"
             ],
             [
              0.4444444444444444,
              "#bd3786"
             ],
             [
              0.5555555555555556,
              "#d8576b"
             ],
             [
              0.6666666666666666,
              "#ed7953"
             ],
             [
              0.7777777777777778,
              "#fb9f3a"
             ],
             [
              0.8888888888888888,
              "#fdca26"
             ],
             [
              1,
              "#f0f921"
             ]
            ],
            "type": "histogram2d"
           }
          ],
          "histogram2dcontour": [
           {
            "colorbar": {
             "outlinewidth": 0,
             "ticks": ""
            },
            "colorscale": [
             [
              0,
              "#0d0887"
             ],
             [
              0.1111111111111111,
              "#46039f"
             ],
             [
              0.2222222222222222,
              "#7201a8"
             ],
             [
              0.3333333333333333,
              "#9c179e"
             ],
             [
              0.4444444444444444,
              "#bd3786"
             ],
             [
              0.5555555555555556,
              "#d8576b"
             ],
             [
              0.6666666666666666,
              "#ed7953"
             ],
             [
              0.7777777777777778,
              "#fb9f3a"
             ],
             [
              0.8888888888888888,
              "#fdca26"
             ],
             [
              1,
              "#f0f921"
             ]
            ],
            "type": "histogram2dcontour"
           }
          ],
          "mesh3d": [
           {
            "colorbar": {
             "outlinewidth": 0,
             "ticks": ""
            },
            "type": "mesh3d"
           }
          ],
          "parcoords": [
           {
            "line": {
             "colorbar": {
              "outlinewidth": 0,
              "ticks": ""
             }
            },
            "type": "parcoords"
           }
          ],
          "pie": [
           {
            "automargin": true,
            "type": "pie"
           }
          ],
          "scatter": [
           {
            "marker": {
             "colorbar": {
              "outlinewidth": 0,
              "ticks": ""
             }
            },
            "type": "scatter"
           }
          ],
          "scatter3d": [
           {
            "line": {
             "colorbar": {
              "outlinewidth": 0,
              "ticks": ""
             }
            },
            "marker": {
             "colorbar": {
              "outlinewidth": 0,
              "ticks": ""
             }
            },
            "type": "scatter3d"
           }
          ],
          "scattercarpet": [
           {
            "marker": {
             "colorbar": {
              "outlinewidth": 0,
              "ticks": ""
             }
            },
            "type": "scattercarpet"
           }
          ],
          "scattergeo": [
           {
            "marker": {
             "colorbar": {
              "outlinewidth": 0,
              "ticks": ""
             }
            },
            "type": "scattergeo"
           }
          ],
          "scattergl": [
           {
            "marker": {
             "colorbar": {
              "outlinewidth": 0,
              "ticks": ""
             }
            },
            "type": "scattergl"
           }
          ],
          "scattermapbox": [
           {
            "marker": {
             "colorbar": {
              "outlinewidth": 0,
              "ticks": ""
             }
            },
            "type": "scattermapbox"
           }
          ],
          "scatterpolar": [
           {
            "marker": {
             "colorbar": {
              "outlinewidth": 0,
              "ticks": ""
             }
            },
            "type": "scatterpolar"
           }
          ],
          "scatterpolargl": [
           {
            "marker": {
             "colorbar": {
              "outlinewidth": 0,
              "ticks": ""
             }
            },
            "type": "scatterpolargl"
           }
          ],
          "scatterternary": [
           {
            "marker": {
             "colorbar": {
              "outlinewidth": 0,
              "ticks": ""
             }
            },
            "type": "scatterternary"
           }
          ],
          "surface": [
           {
            "colorbar": {
             "outlinewidth": 0,
             "ticks": ""
            },
            "colorscale": [
             [
              0,
              "#0d0887"
             ],
             [
              0.1111111111111111,
              "#46039f"
             ],
             [
              0.2222222222222222,
              "#7201a8"
             ],
             [
              0.3333333333333333,
              "#9c179e"
             ],
             [
              0.4444444444444444,
              "#bd3786"
             ],
             [
              0.5555555555555556,
              "#d8576b"
             ],
             [
              0.6666666666666666,
              "#ed7953"
             ],
             [
              0.7777777777777778,
              "#fb9f3a"
             ],
             [
              0.8888888888888888,
              "#fdca26"
             ],
             [
              1,
              "#f0f921"
             ]
            ],
            "type": "surface"
           }
          ],
          "table": [
           {
            "cells": {
             "fill": {
              "color": "#EBF0F8"
             },
             "line": {
              "color": "white"
             }
            },
            "header": {
             "fill": {
              "color": "#C8D4E3"
             },
             "line": {
              "color": "white"
             }
            },
            "type": "table"
           }
          ]
         },
         "layout": {
          "annotationdefaults": {
           "arrowcolor": "#2a3f5f",
           "arrowhead": 0,
           "arrowwidth": 1
          },
          "coloraxis": {
           "colorbar": {
            "outlinewidth": 0,
            "ticks": ""
           }
          },
          "colorscale": {
           "diverging": [
            [
             0,
             "#8e0152"
            ],
            [
             0.1,
             "#c51b7d"
            ],
            [
             0.2,
             "#de77ae"
            ],
            [
             0.3,
             "#f1b6da"
            ],
            [
             0.4,
             "#fde0ef"
            ],
            [
             0.5,
             "#f7f7f7"
            ],
            [
             0.6,
             "#e6f5d0"
            ],
            [
             0.7,
             "#b8e186"
            ],
            [
             0.8,
             "#7fbc41"
            ],
            [
             0.9,
             "#4d9221"
            ],
            [
             1,
             "#276419"
            ]
           ],
           "sequential": [
            [
             0,
             "#0d0887"
            ],
            [
             0.1111111111111111,
             "#46039f"
            ],
            [
             0.2222222222222222,
             "#7201a8"
            ],
            [
             0.3333333333333333,
             "#9c179e"
            ],
            [
             0.4444444444444444,
             "#bd3786"
            ],
            [
             0.5555555555555556,
             "#d8576b"
            ],
            [
             0.6666666666666666,
             "#ed7953"
            ],
            [
             0.7777777777777778,
             "#fb9f3a"
            ],
            [
             0.8888888888888888,
             "#fdca26"
            ],
            [
             1,
             "#f0f921"
            ]
           ],
           "sequentialminus": [
            [
             0,
             "#0d0887"
            ],
            [
             0.1111111111111111,
             "#46039f"
            ],
            [
             0.2222222222222222,
             "#7201a8"
            ],
            [
             0.3333333333333333,
             "#9c179e"
            ],
            [
             0.4444444444444444,
             "#bd3786"
            ],
            [
             0.5555555555555556,
             "#d8576b"
            ],
            [
             0.6666666666666666,
             "#ed7953"
            ],
            [
             0.7777777777777778,
             "#fb9f3a"
            ],
            [
             0.8888888888888888,
             "#fdca26"
            ],
            [
             1,
             "#f0f921"
            ]
           ]
          },
          "colorway": [
           "#636efa",
           "#EF553B",
           "#00cc96",
           "#ab63fa",
           "#FFA15A",
           "#19d3f3",
           "#FF6692",
           "#B6E880",
           "#FF97FF",
           "#FECB52"
          ],
          "font": {
           "color": "#2a3f5f"
          },
          "geo": {
           "bgcolor": "white",
           "lakecolor": "white",
           "landcolor": "#E5ECF6",
           "showlakes": true,
           "showland": true,
           "subunitcolor": "white"
          },
          "hoverlabel": {
           "align": "left"
          },
          "hovermode": "closest",
          "mapbox": {
           "style": "light"
          },
          "paper_bgcolor": "white",
          "plot_bgcolor": "#E5ECF6",
          "polar": {
           "angularaxis": {
            "gridcolor": "white",
            "linecolor": "white",
            "ticks": ""
           },
           "bgcolor": "#E5ECF6",
           "radialaxis": {
            "gridcolor": "white",
            "linecolor": "white",
            "ticks": ""
           }
          },
          "scene": {
           "xaxis": {
            "backgroundcolor": "#E5ECF6",
            "gridcolor": "white",
            "gridwidth": 2,
            "linecolor": "white",
            "showbackground": true,
            "ticks": "",
            "zerolinecolor": "white"
           },
           "yaxis": {
            "backgroundcolor": "#E5ECF6",
            "gridcolor": "white",
            "gridwidth": 2,
            "linecolor": "white",
            "showbackground": true,
            "ticks": "",
            "zerolinecolor": "white"
           },
           "zaxis": {
            "backgroundcolor": "#E5ECF6",
            "gridcolor": "white",
            "gridwidth": 2,
            "linecolor": "white",
            "showbackground": true,
            "ticks": "",
            "zerolinecolor": "white"
           }
          },
          "shapedefaults": {
           "line": {
            "color": "#2a3f5f"
           }
          },
          "ternary": {
           "aaxis": {
            "gridcolor": "white",
            "linecolor": "white",
            "ticks": ""
           },
           "baxis": {
            "gridcolor": "white",
            "linecolor": "white",
            "ticks": ""
           },
           "bgcolor": "#E5ECF6",
           "caxis": {
            "gridcolor": "white",
            "linecolor": "white",
            "ticks": ""
           }
          },
          "title": {
           "x": 0.05
          },
          "xaxis": {
           "automargin": true,
           "gridcolor": "white",
           "linecolor": "white",
           "ticks": "",
           "title": {
            "standoff": 15
           },
           "zerolinecolor": "white",
           "zerolinewidth": 2
          },
          "yaxis": {
           "automargin": true,
           "gridcolor": "white",
           "linecolor": "white",
           "ticks": "",
           "title": {
            "standoff": 15
           },
           "zerolinecolor": "white",
           "zerolinewidth": 2
          }
         }
        },
        "title": {
         "font": {
          "color": "#4D5663"
         },
         "text": "Wind Direction and Accidents"
        },
        "xaxis": {
         "gridcolor": "#E1E5ED",
         "showgrid": true,
         "tickfont": {
          "color": "#4D5663"
         },
         "title": {
          "font": {
           "color": "#4D5663"
          },
          "text": "Wind Direction"
         },
         "zerolinecolor": "#E1E5ED"
        },
        "yaxis": {
         "gridcolor": "#E1E5ED",
         "showgrid": true,
         "tickfont": {
          "color": "#4D5663"
         },
         "title": {
          "font": {
           "color": "#4D5663"
          },
          "text": "No.of Accidents"
         },
         "zerolinecolor": "#E1E5ED"
        }
       }
      },
      "text/html": [
       "<div>                            <div id=\"c4e1aa60-c5b2-4823-92a0-0d6d55e11d6f\" class=\"plotly-graph-div\" style=\"height:525px; width:100%;\"></div>            <script type=\"text/javascript\">                require([\"plotly\"], function(Plotly) {                    window.PLOTLYENV=window.PLOTLYENV || {};\n",
       "                    window.PLOTLYENV.BASE_URL='https://plot.ly';                                    if (document.getElementById(\"c4e1aa60-c5b2-4823-92a0-0d6d55e11d6f\")) {                    Plotly.newPlot(                        \"c4e1aa60-c5b2-4823-92a0-0d6d55e11d6f\",                        [{\"marker\": {\"color\": \"rgba(255, 153, 51, 0.5)\", \"line\": {\"color\": \"rgba(255, 153, 51, 1.0)\", \"width\": 1}}, \"name\": \"acci_count\", \"orientation\": \"v\", \"text\": \"\", \"type\": \"bar\", \"x\": [\"Calm\", \"E\", \"ENE\", \"ESE\", \"N\", \"NE\", \"NW\", \"S\", \"SE\", \"SW\", \"W\", \"WNW\", \"WSW\"], \"y\": [527083, 152183, 103981, 111540, 158362, 199130, 249279, 335284, 327827, 423837, 258280, 149162, 191472]}],                        {\"legend\": {\"bgcolor\": \"#F5F6F9\", \"font\": {\"color\": \"#4D5663\"}}, \"paper_bgcolor\": \"#F5F6F9\", \"plot_bgcolor\": \"#F5F6F9\", \"template\": {\"data\": {\"bar\": [{\"error_x\": {\"color\": \"#2a3f5f\"}, \"error_y\": {\"color\": \"#2a3f5f\"}, \"marker\": {\"line\": {\"color\": \"#E5ECF6\", \"width\": 0.5}}, \"type\": \"bar\"}], \"barpolar\": [{\"marker\": {\"line\": {\"color\": \"#E5ECF6\", \"width\": 0.5}}, \"type\": \"barpolar\"}], \"carpet\": [{\"aaxis\": {\"endlinecolor\": \"#2a3f5f\", \"gridcolor\": \"white\", \"linecolor\": \"white\", \"minorgridcolor\": \"white\", \"startlinecolor\": \"#2a3f5f\"}, \"baxis\": {\"endlinecolor\": \"#2a3f5f\", \"gridcolor\": \"white\", \"linecolor\": \"white\", \"minorgridcolor\": \"white\", \"startlinecolor\": \"#2a3f5f\"}, \"type\": \"carpet\"}], \"choropleth\": [{\"colorbar\": {\"outlinewidth\": 0, \"ticks\": \"\"}, \"type\": \"choropleth\"}], \"contour\": [{\"colorbar\": {\"outlinewidth\": 0, \"ticks\": \"\"}, \"colorscale\": [[0.0, \"#0d0887\"], [0.1111111111111111, \"#46039f\"], [0.2222222222222222, \"#7201a8\"], [0.3333333333333333, \"#9c179e\"], [0.4444444444444444, \"#bd3786\"], [0.5555555555555556, \"#d8576b\"], [0.6666666666666666, \"#ed7953\"], [0.7777777777777778, \"#fb9f3a\"], [0.8888888888888888, \"#fdca26\"], [1.0, \"#f0f921\"]], \"type\": \"contour\"}], \"contourcarpet\": [{\"colorbar\": {\"outlinewidth\": 0, \"ticks\": \"\"}, \"type\": \"contourcarpet\"}], \"heatmap\": [{\"colorbar\": {\"outlinewidth\": 0, \"ticks\": \"\"}, \"colorscale\": [[0.0, \"#0d0887\"], [0.1111111111111111, \"#46039f\"], [0.2222222222222222, \"#7201a8\"], [0.3333333333333333, \"#9c179e\"], [0.4444444444444444, \"#bd3786\"], [0.5555555555555556, \"#d8576b\"], [0.6666666666666666, \"#ed7953\"], [0.7777777777777778, \"#fb9f3a\"], [0.8888888888888888, \"#fdca26\"], [1.0, \"#f0f921\"]], \"type\": \"heatmap\"}], \"heatmapgl\": [{\"colorbar\": {\"outlinewidth\": 0, \"ticks\": \"\"}, \"colorscale\": [[0.0, \"#0d0887\"], [0.1111111111111111, \"#46039f\"], [0.2222222222222222, \"#7201a8\"], [0.3333333333333333, \"#9c179e\"], [0.4444444444444444, \"#bd3786\"], [0.5555555555555556, \"#d8576b\"], [0.6666666666666666, \"#ed7953\"], [0.7777777777777778, \"#fb9f3a\"], [0.8888888888888888, \"#fdca26\"], [1.0, \"#f0f921\"]], \"type\": \"heatmapgl\"}], \"histogram\": [{\"marker\": {\"colorbar\": {\"outlinewidth\": 0, \"ticks\": \"\"}}, \"type\": \"histogram\"}], \"histogram2d\": [{\"colorbar\": {\"outlinewidth\": 0, \"ticks\": \"\"}, \"colorscale\": [[0.0, \"#0d0887\"], [0.1111111111111111, \"#46039f\"], [0.2222222222222222, \"#7201a8\"], [0.3333333333333333, \"#9c179e\"], [0.4444444444444444, \"#bd3786\"], [0.5555555555555556, \"#d8576b\"], [0.6666666666666666, \"#ed7953\"], [0.7777777777777778, \"#fb9f3a\"], [0.8888888888888888, \"#fdca26\"], [1.0, \"#f0f921\"]], \"type\": \"histogram2d\"}], \"histogram2dcontour\": [{\"colorbar\": {\"outlinewidth\": 0, \"ticks\": \"\"}, \"colorscale\": [[0.0, \"#0d0887\"], [0.1111111111111111, \"#46039f\"], [0.2222222222222222, \"#7201a8\"], [0.3333333333333333, \"#9c179e\"], [0.4444444444444444, \"#bd3786\"], [0.5555555555555556, \"#d8576b\"], [0.6666666666666666, \"#ed7953\"], [0.7777777777777778, \"#fb9f3a\"], [0.8888888888888888, \"#fdca26\"], [1.0, \"#f0f921\"]], \"type\": \"histogram2dcontour\"}], \"mesh3d\": [{\"colorbar\": {\"outlinewidth\": 0, \"ticks\": \"\"}, \"type\": \"mesh3d\"}], \"parcoords\": [{\"line\": {\"colorbar\": {\"outlinewidth\": 0, \"ticks\": \"\"}}, \"type\": \"parcoords\"}], \"pie\": [{\"automargin\": true, \"type\": \"pie\"}], \"scatter\": [{\"marker\": {\"colorbar\": {\"outlinewidth\": 0, \"ticks\": \"\"}}, \"type\": \"scatter\"}], \"scatter3d\": [{\"line\": {\"colorbar\": {\"outlinewidth\": 0, \"ticks\": \"\"}}, \"marker\": {\"colorbar\": {\"outlinewidth\": 0, \"ticks\": \"\"}}, \"type\": \"scatter3d\"}], \"scattercarpet\": [{\"marker\": {\"colorbar\": {\"outlinewidth\": 0, \"ticks\": \"\"}}, \"type\": \"scattercarpet\"}], \"scattergeo\": [{\"marker\": {\"colorbar\": {\"outlinewidth\": 0, \"ticks\": \"\"}}, \"type\": \"scattergeo\"}], \"scattergl\": [{\"marker\": {\"colorbar\": {\"outlinewidth\": 0, \"ticks\": \"\"}}, \"type\": \"scattergl\"}], \"scattermapbox\": [{\"marker\": {\"colorbar\": {\"outlinewidth\": 0, \"ticks\": \"\"}}, \"type\": \"scattermapbox\"}], \"scatterpolar\": [{\"marker\": {\"colorbar\": {\"outlinewidth\": 0, \"ticks\": \"\"}}, \"type\": \"scatterpolar\"}], \"scatterpolargl\": [{\"marker\": {\"colorbar\": {\"outlinewidth\": 0, \"ticks\": \"\"}}, \"type\": \"scatterpolargl\"}], \"scatterternary\": [{\"marker\": {\"colorbar\": {\"outlinewidth\": 0, \"ticks\": \"\"}}, \"type\": \"scatterternary\"}], \"surface\": [{\"colorbar\": {\"outlinewidth\": 0, \"ticks\": \"\"}, \"colorscale\": [[0.0, \"#0d0887\"], [0.1111111111111111, \"#46039f\"], [0.2222222222222222, \"#7201a8\"], [0.3333333333333333, \"#9c179e\"], [0.4444444444444444, \"#bd3786\"], [0.5555555555555556, \"#d8576b\"], [0.6666666666666666, \"#ed7953\"], [0.7777777777777778, \"#fb9f3a\"], [0.8888888888888888, \"#fdca26\"], [1.0, \"#f0f921\"]], \"type\": \"surface\"}], \"table\": [{\"cells\": {\"fill\": {\"color\": \"#EBF0F8\"}, \"line\": {\"color\": \"white\"}}, \"header\": {\"fill\": {\"color\": \"#C8D4E3\"}, \"line\": {\"color\": \"white\"}}, \"type\": \"table\"}]}, \"layout\": {\"annotationdefaults\": {\"arrowcolor\": \"#2a3f5f\", \"arrowhead\": 0, \"arrowwidth\": 1}, \"coloraxis\": {\"colorbar\": {\"outlinewidth\": 0, \"ticks\": \"\"}}, \"colorscale\": {\"diverging\": [[0, \"#8e0152\"], [0.1, \"#c51b7d\"], [0.2, \"#de77ae\"], [0.3, \"#f1b6da\"], [0.4, \"#fde0ef\"], [0.5, \"#f7f7f7\"], [0.6, \"#e6f5d0\"], [0.7, \"#b8e186\"], [0.8, \"#7fbc41\"], [0.9, \"#4d9221\"], [1, \"#276419\"]], \"sequential\": [[0.0, \"#0d0887\"], [0.1111111111111111, \"#46039f\"], [0.2222222222222222, \"#7201a8\"], [0.3333333333333333, \"#9c179e\"], [0.4444444444444444, \"#bd3786\"], [0.5555555555555556, \"#d8576b\"], [0.6666666666666666, \"#ed7953\"], [0.7777777777777778, \"#fb9f3a\"], [0.8888888888888888, \"#fdca26\"], [1.0, \"#f0f921\"]], \"sequentialminus\": [[0.0, \"#0d0887\"], [0.1111111111111111, \"#46039f\"], [0.2222222222222222, \"#7201a8\"], [0.3333333333333333, \"#9c179e\"], [0.4444444444444444, \"#bd3786\"], [0.5555555555555556, \"#d8576b\"], [0.6666666666666666, \"#ed7953\"], [0.7777777777777778, \"#fb9f3a\"], [0.8888888888888888, \"#fdca26\"], [1.0, \"#f0f921\"]]}, \"colorway\": [\"#636efa\", \"#EF553B\", \"#00cc96\", \"#ab63fa\", \"#FFA15A\", \"#19d3f3\", \"#FF6692\", \"#B6E880\", \"#FF97FF\", \"#FECB52\"], \"font\": {\"color\": \"#2a3f5f\"}, \"geo\": {\"bgcolor\": \"white\", \"lakecolor\": \"white\", \"landcolor\": \"#E5ECF6\", \"showlakes\": true, \"showland\": true, \"subunitcolor\": \"white\"}, \"hoverlabel\": {\"align\": \"left\"}, \"hovermode\": \"closest\", \"mapbox\": {\"style\": \"light\"}, \"paper_bgcolor\": \"white\", \"plot_bgcolor\": \"#E5ECF6\", \"polar\": {\"angularaxis\": {\"gridcolor\": \"white\", \"linecolor\": \"white\", \"ticks\": \"\"}, \"bgcolor\": \"#E5ECF6\", \"radialaxis\": {\"gridcolor\": \"white\", \"linecolor\": \"white\", \"ticks\": \"\"}}, \"scene\": {\"xaxis\": {\"backgroundcolor\": \"#E5ECF6\", \"gridcolor\": \"white\", \"gridwidth\": 2, \"linecolor\": \"white\", \"showbackground\": true, \"ticks\": \"\", \"zerolinecolor\": \"white\"}, \"yaxis\": {\"backgroundcolor\": \"#E5ECF6\", \"gridcolor\": \"white\", \"gridwidth\": 2, \"linecolor\": \"white\", \"showbackground\": true, \"ticks\": \"\", \"zerolinecolor\": \"white\"}, \"zaxis\": {\"backgroundcolor\": \"#E5ECF6\", \"gridcolor\": \"white\", \"gridwidth\": 2, \"linecolor\": \"white\", \"showbackground\": true, \"ticks\": \"\", \"zerolinecolor\": \"white\"}}, \"shapedefaults\": {\"line\": {\"color\": \"#2a3f5f\"}}, \"ternary\": {\"aaxis\": {\"gridcolor\": \"white\", \"linecolor\": \"white\", \"ticks\": \"\"}, \"baxis\": {\"gridcolor\": \"white\", \"linecolor\": \"white\", \"ticks\": \"\"}, \"bgcolor\": \"#E5ECF6\", \"caxis\": {\"gridcolor\": \"white\", \"linecolor\": \"white\", \"ticks\": \"\"}}, \"title\": {\"x\": 0.05}, \"xaxis\": {\"automargin\": true, \"gridcolor\": \"white\", \"linecolor\": \"white\", \"ticks\": \"\", \"title\": {\"standoff\": 15}, \"zerolinecolor\": \"white\", \"zerolinewidth\": 2}, \"yaxis\": {\"automargin\": true, \"gridcolor\": \"white\", \"linecolor\": \"white\", \"ticks\": \"\", \"title\": {\"standoff\": 15}, \"zerolinecolor\": \"white\", \"zerolinewidth\": 2}}}, \"title\": {\"font\": {\"color\": \"#4D5663\"}, \"text\": \"Wind Direction and Accidents\"}, \"xaxis\": {\"gridcolor\": \"#E1E5ED\", \"showgrid\": true, \"tickfont\": {\"color\": \"#4D5663\"}, \"title\": {\"font\": {\"color\": \"#4D5663\"}, \"text\": \"Wind Direction\"}, \"zerolinecolor\": \"#E1E5ED\"}, \"yaxis\": {\"gridcolor\": \"#E1E5ED\", \"showgrid\": true, \"tickfont\": {\"color\": \"#4D5663\"}, \"title\": {\"font\": {\"color\": \"#4D5663\"}, \"text\": \"No.of Accidents\"}, \"zerolinecolor\": \"#E1E5ED\"}},                        {\"showLink\": true, \"linkText\": \"Export to plot.ly\", \"plotlyServerURL\": \"https://plot.ly\", \"responsive\": true}                    ).then(function(){\n",
       "                            \n",
       "var gd = document.getElementById('c4e1aa60-c5b2-4823-92a0-0d6d55e11d6f');\n",
       "var x = new MutationObserver(function (mutations, observer) {{\n",
       "        var display = window.getComputedStyle(gd).display;\n",
       "        if (!display || display === 'none') {{\n",
       "            console.log([gd, 'removed!']);\n",
       "            Plotly.purge(gd);\n",
       "            observer.disconnect();\n",
       "        }}\n",
       "}});\n",
       "\n",
       "// Listen for the removal of the full notebook cells\n",
       "var notebookContainer = gd.closest('#notebook-container');\n",
       "if (notebookContainer) {{\n",
       "    x.observe(notebookContainer, {childList: true});\n",
       "}}\n",
       "\n",
       "// Listen for the clearing of the current output cell\n",
       "var outputEl = gd.closest('.output');\n",
       "if (outputEl) {{\n",
       "    x.observe(outputEl, {childList: true});\n",
       "}}\n",
       "\n",
       "                        })                };                });            </script>        </div>"
      ]
     },
     "metadata": {},
     "output_type": "display_data"
    }
   ],
   "source": [
    "wi_d[\"acci_count\"].iplot(kind=\"bar\", title = \"Wind Direction and Accidents\", xTitle=\"Wind Direction\",\n",
    "         yTitle=\"No.of Accidents\",\n",
    "         opacity=0.5)"
   ]
  },
  {
   "cell_type": "markdown",
   "metadata": {
    "ExecuteTime": {
     "end_time": "2020-12-17T13:32:25.775722Z",
     "start_time": "2020-12-17T13:32:25.769705Z"
    }
   },
   "source": [
    "<div style='background-color:navy; color:white; padding:20px'>\n",
    "    The figure shows that, majority of accidents happened during calm wind condition followed by south-west wind.\n",
    "</div>"
   ]
  },
  {
   "cell_type": "markdown",
   "metadata": {},
   "source": [
    "# Conclusion"
   ]
  },
  {
   "cell_type": "markdown",
   "metadata": {},
   "source": [
    "Our analysis concludes that, there is not significant affect of weather attributes towards the accident occure in United States. Although, weather attributes shows positive relation with the accidents count, but the affect level is low. The severity level of accident also seems to have low effect from weather attributes. We have strong doubt that these accidents might carry strong relationship with other attributes like increase in population, high sales of vehicles, geographical area.  \n"
   ]
  },
  {
   "cell_type": "markdown",
   "metadata": {},
   "source": [
    "# Appendix"
   ]
  },
  {
   "cell_type": "code",
   "execution_count": 36,
   "metadata": {
    "ExecuteTime": {
     "end_time": "2020-12-18T07:36:18.595729Z",
     "start_time": "2020-12-18T07:36:14.916586Z"
    }
   },
   "outputs": [
    {
     "data": {
      "text/html": [
       "<div style=\"width:100%;\"><div style=\"position:relative;width:100%;height:0;padding-bottom:60%;\"><span style=\"color:#565656\">Make this Notebook Trusted to load map: File -> Trust Notebook</span><iframe src=\"about:blank\" style=\"position:absolute;width:100%;height:100%;left:0;top:0;border:none !important;\" data-html=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 onload=\"this.contentDocument.open();this.contentDocument.write(atob(this.getAttribute('data-html')));this.contentDocument.close();\" allowfullscreen webkitallowfullscreen mozallowfullscreen></iframe></div></div>"
      ],
      "text/plain": [
       "<folium.folium.Map at 0x244bb04c040>"
      ]
     },
     "execution_count": 36,
     "metadata": {},
     "output_type": "execute_result"
    }
   ],
   "source": [
    "import folium\n",
    "from folium import plugins\n",
    "log_lat = data.get_partition(0)[['Start_Lat', 'Start_Lng', \"State\"]]\n",
    "new_df=pd.DataFrame(log_lat.compute())\n",
    "sample = new_df.sample(300)\n",
    "map_ = folium.Map(location=[38,-98],zoom_start=4)\n",
    "sample.apply(lambda row: folium.Marker(location=[row[\"Start_Lat\"],row[\"Start_Lng\"]],popup=row[\"State\"]).add_to(map_),axis=1)\n",
    "map_"
   ]
  },
  {
   "cell_type": "code",
   "execution_count": null,
   "metadata": {},
   "outputs": [],
   "source": []
  }
 ],
 "metadata": {
  "kernelspec": {
   "display_name": "Python 3",
   "language": "python",
   "name": "python3"
  },
  "language_info": {
   "codemirror_mode": {
    "name": "ipython",
    "version": 3
   },
   "file_extension": ".py",
   "mimetype": "text/x-python",
   "name": "python",
   "nbconvert_exporter": "python",
   "pygments_lexer": "ipython3",
   "version": "3.8.3"
  },
  "toc": {
   "base_numbering": 1,
   "nav_menu": {},
   "number_sections": true,
   "sideBar": true,
   "skip_h1_title": false,
   "title_cell": "Table of Contents",
   "title_sidebar": "Contents",
   "toc_cell": false,
   "toc_position": {},
   "toc_section_display": true,
   "toc_window_display": false
  },
  "varInspector": {
   "cols": {
    "lenName": 16,
    "lenType": 16,
    "lenVar": 40
   },
   "kernels_config": {
    "python": {
     "delete_cmd_postfix": "",
     "delete_cmd_prefix": "del ",
     "library": "var_list.py",
     "varRefreshCmd": "print(var_dic_list())"
    },
    "r": {
     "delete_cmd_postfix": ") ",
     "delete_cmd_prefix": "rm(",
     "library": "var_list.r",
     "varRefreshCmd": "cat(var_dic_list()) "
    }
   },
   "types_to_exclude": [
    "module",
    "function",
    "builtin_function_or_method",
    "instance",
    "_Feature"
   ],
   "window_display": false
  }
 },
 "nbformat": 4,
 "nbformat_minor": 4
}
